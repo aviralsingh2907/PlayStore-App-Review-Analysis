{
  "nbformat": 4,
  "nbformat_minor": 0,
  "metadata": {
    "colab": {
      "provenance": [],
      "collapsed_sections": [
        "0ajXK1GoAEfD",
        "9mFi4cTiLbiz",
        "cujf_ON0N8eG",
        "I34Tk09GOQjN"
      ],
      "authorship_tag": "ABX9TyPn4W5ys64INMy1WyC7Q2V7",
      "include_colab_link": true
    },
    "kernelspec": {
      "name": "python3",
      "display_name": "Python 3"
    },
    "language_info": {
      "name": "python"
    }
  },
  "cells": [
    {
      "cell_type": "markdown",
      "metadata": {
        "id": "view-in-github",
        "colab_type": "text"
      },
      "source": [
        "<a href=\"https://colab.research.google.com/github/aviralsingh2907/PlayStore-App-Review-Analysis/blob/main/EDA_Play_Store_App_Review_Analysis.ipynb\" target=\"_parent\"><img src=\"https://colab.research.google.com/assets/colab-badge.svg\" alt=\"Open In Colab\"/></a>"
      ]
    },
    {
      "cell_type": "markdown",
      "source": [
        "# <b><u>Exploratory Data Analysis</u> - <u>Play Store App Review Analysis</u></b>"
      ],
      "metadata": {
        "id": "ZJnWU69DEdA3"
      }
    },
    {
      "cell_type": "markdown",
      "source": [
        "##### **Project Type**    - EDA\n",
        "##### **Contribution**    - Individual\n",
        "##### **Team Member**     - Aviral Singh"
      ],
      "metadata": {
        "id": "zX3NmTujEsg_"
      }
    },
    {
      "cell_type": "markdown",
      "source": [
        "# <b><u>Project Summary</u>:</b>"
      ],
      "metadata": {
        "id": "bUYb-r8GE-1N"
      }
    },
    {
      "cell_type": "markdown",
      "source": [
        "# **<u>GitHub Link</u>:**"
      ],
      "metadata": {
        "id": "uwjiq0brFEwv"
      }
    },
    {
      "cell_type": "markdown",
      "source": [
        "# <b><u>Problem Statement</u>:</b>"
      ],
      "metadata": {
        "id": "n8TXBoB4FJy_"
      }
    },
    {
      "cell_type": "markdown",
      "source": [
        "The Play Store apps data has enormous potential to drive app-making businesses to success. Actionable insights can be drawn for developers to work on and capture the Android market.\n",
        "\n",
        "Each app (row) has values for catergory, rating, size, and more. Another dataset contains customer reviews of the android apps.\n",
        "\n",
        "Explore and analyze the data to discover key factors responsible for app engagement and success."
      ],
      "metadata": {
        "id": "gKVASrL5FSNQ"
      }
    },
    {
      "cell_type": "markdown",
      "source": [
        "# <b><u>Let's Begin</u>:</b>"
      ],
      "metadata": {
        "id": "QX59SXyzFo2v"
      }
    },
    {
      "cell_type": "markdown",
      "source": [
        "## <b><u>Dataset Import</u>:</b>"
      ],
      "metadata": {
        "id": "XtXp8dtNAWsp"
      }
    },
    {
      "cell_type": "code",
      "execution_count": null,
      "metadata": {
        "id": "X0RYKIm3CAdb",
        "colab": {
          "base_uri": "https://localhost:8080/"
        },
        "outputId": "e05f54c4-8fb4-4865-ab0a-efdffe5fef27"
      },
      "outputs": [
        {
          "output_type": "stream",
          "name": "stdout",
          "text": [
            "Drive already mounted at /content/drive; to attempt to forcibly remount, call drive.mount(\"/content/drive\", force_remount=True).\n"
          ]
        }
      ],
      "source": [
        "# Importing package:\n",
        "\n",
        "import pandas as pd\n",
        "import numpy as np\n",
        "from google.colab import drive\n",
        "import matplotlib.pyplot as plt\n",
        "import matplotlib as mpl\n",
        "import seaborn as sns\n",
        "\n",
        "\n",
        "drive.mount('/content/drive')"
      ]
    },
    {
      "cell_type": "code",
      "source": [
        "# Importing Play Store dataset:\n",
        "\n",
        "playstore_df_main = pd.read_csv('/content/drive/MyDrive/Portfolio Project/EDA - Play Store App Review/Play Store Data.csv')\n",
        "user_review_df_main = pd.read_csv('/content/drive/MyDrive/Portfolio Project/EDA - Play Store App Review/User Reviews.csv')"
      ],
      "metadata": {
        "id": "lUZB6QGRGLPS"
      },
      "execution_count": null,
      "outputs": []
    },
    {
      "cell_type": "code",
      "source": [
        "# Creating copies:\n",
        "\n",
        "playstore_df = playstore_df_main.copy()\n",
        "user_review_df = user_review_df_main.copy()"
      ],
      "metadata": {
        "id": "5LCpB2qZIIBf"
      },
      "execution_count": null,
      "outputs": []
    },
    {
      "cell_type": "code",
      "source": [
        "playstore_df.head(5)"
      ],
      "metadata": {
        "colab": {
          "base_uri": "https://localhost:8080/",
          "height": 206
        },
        "id": "QX5dTQBgIwih",
        "outputId": "74f15a61-1e1f-42c1-c2ca-8867f18eee2b"
      },
      "execution_count": null,
      "outputs": [
        {
          "output_type": "execute_result",
          "data": {
            "text/plain": [
              "                                                 App        Category  Rating  \\\n",
              "0     Photo Editor & Candy Camera & Grid & ScrapBook  ART_AND_DESIGN     4.1   \n",
              "1                                Coloring book moana  ART_AND_DESIGN     3.9   \n",
              "2  U Launcher Lite – FREE Live Cool Themes, Hide ...  ART_AND_DESIGN     4.7   \n",
              "3                              Sketch - Draw & Paint  ART_AND_DESIGN     4.5   \n",
              "4              Pixel Draw - Number Art Coloring Book  ART_AND_DESIGN     4.3   \n",
              "\n",
              "  Reviews  Size     Installs  Type Price Content Rating  \\\n",
              "0     159   19M      10,000+  Free     0       Everyone   \n",
              "1     967   14M     500,000+  Free     0       Everyone   \n",
              "2   87510  8.7M   5,000,000+  Free     0       Everyone   \n",
              "3  215644   25M  50,000,000+  Free     0           Teen   \n",
              "4     967  2.8M     100,000+  Free     0       Everyone   \n",
              "\n",
              "                      Genres      Last Updated         Current Ver  \\\n",
              "0               Art & Design   January 7, 2018               1.0.0   \n",
              "1  Art & Design;Pretend Play  January 15, 2018               2.0.0   \n",
              "2               Art & Design    August 1, 2018               1.2.4   \n",
              "3               Art & Design      June 8, 2018  Varies with device   \n",
              "4    Art & Design;Creativity     June 20, 2018                 1.1   \n",
              "\n",
              "    Android Ver  \n",
              "0  4.0.3 and up  \n",
              "1  4.0.3 and up  \n",
              "2  4.0.3 and up  \n",
              "3    4.2 and up  \n",
              "4    4.4 and up  "
            ],
            "text/html": [
              "\n",
              "  <div id=\"df-74098ebb-7447-40bb-bd49-a93f88552e8b\">\n",
              "    <div class=\"colab-df-container\">\n",
              "      <div>\n",
              "<style scoped>\n",
              "    .dataframe tbody tr th:only-of-type {\n",
              "        vertical-align: middle;\n",
              "    }\n",
              "\n",
              "    .dataframe tbody tr th {\n",
              "        vertical-align: top;\n",
              "    }\n",
              "\n",
              "    .dataframe thead th {\n",
              "        text-align: right;\n",
              "    }\n",
              "</style>\n",
              "<table border=\"1\" class=\"dataframe\">\n",
              "  <thead>\n",
              "    <tr style=\"text-align: right;\">\n",
              "      <th></th>\n",
              "      <th>App</th>\n",
              "      <th>Category</th>\n",
              "      <th>Rating</th>\n",
              "      <th>Reviews</th>\n",
              "      <th>Size</th>\n",
              "      <th>Installs</th>\n",
              "      <th>Type</th>\n",
              "      <th>Price</th>\n",
              "      <th>Content Rating</th>\n",
              "      <th>Genres</th>\n",
              "      <th>Last Updated</th>\n",
              "      <th>Current Ver</th>\n",
              "      <th>Android Ver</th>\n",
              "    </tr>\n",
              "  </thead>\n",
              "  <tbody>\n",
              "    <tr>\n",
              "      <th>0</th>\n",
              "      <td>Photo Editor &amp; Candy Camera &amp; Grid &amp; ScrapBook</td>\n",
              "      <td>ART_AND_DESIGN</td>\n",
              "      <td>4.1</td>\n",
              "      <td>159</td>\n",
              "      <td>19M</td>\n",
              "      <td>10,000+</td>\n",
              "      <td>Free</td>\n",
              "      <td>0</td>\n",
              "      <td>Everyone</td>\n",
              "      <td>Art &amp; Design</td>\n",
              "      <td>January 7, 2018</td>\n",
              "      <td>1.0.0</td>\n",
              "      <td>4.0.3 and up</td>\n",
              "    </tr>\n",
              "    <tr>\n",
              "      <th>1</th>\n",
              "      <td>Coloring book moana</td>\n",
              "      <td>ART_AND_DESIGN</td>\n",
              "      <td>3.9</td>\n",
              "      <td>967</td>\n",
              "      <td>14M</td>\n",
              "      <td>500,000+</td>\n",
              "      <td>Free</td>\n",
              "      <td>0</td>\n",
              "      <td>Everyone</td>\n",
              "      <td>Art &amp; Design;Pretend Play</td>\n",
              "      <td>January 15, 2018</td>\n",
              "      <td>2.0.0</td>\n",
              "      <td>4.0.3 and up</td>\n",
              "    </tr>\n",
              "    <tr>\n",
              "      <th>2</th>\n",
              "      <td>U Launcher Lite – FREE Live Cool Themes, Hide ...</td>\n",
              "      <td>ART_AND_DESIGN</td>\n",
              "      <td>4.7</td>\n",
              "      <td>87510</td>\n",
              "      <td>8.7M</td>\n",
              "      <td>5,000,000+</td>\n",
              "      <td>Free</td>\n",
              "      <td>0</td>\n",
              "      <td>Everyone</td>\n",
              "      <td>Art &amp; Design</td>\n",
              "      <td>August 1, 2018</td>\n",
              "      <td>1.2.4</td>\n",
              "      <td>4.0.3 and up</td>\n",
              "    </tr>\n",
              "    <tr>\n",
              "      <th>3</th>\n",
              "      <td>Sketch - Draw &amp; Paint</td>\n",
              "      <td>ART_AND_DESIGN</td>\n",
              "      <td>4.5</td>\n",
              "      <td>215644</td>\n",
              "      <td>25M</td>\n",
              "      <td>50,000,000+</td>\n",
              "      <td>Free</td>\n",
              "      <td>0</td>\n",
              "      <td>Teen</td>\n",
              "      <td>Art &amp; Design</td>\n",
              "      <td>June 8, 2018</td>\n",
              "      <td>Varies with device</td>\n",
              "      <td>4.2 and up</td>\n",
              "    </tr>\n",
              "    <tr>\n",
              "      <th>4</th>\n",
              "      <td>Pixel Draw - Number Art Coloring Book</td>\n",
              "      <td>ART_AND_DESIGN</td>\n",
              "      <td>4.3</td>\n",
              "      <td>967</td>\n",
              "      <td>2.8M</td>\n",
              "      <td>100,000+</td>\n",
              "      <td>Free</td>\n",
              "      <td>0</td>\n",
              "      <td>Everyone</td>\n",
              "      <td>Art &amp; Design;Creativity</td>\n",
              "      <td>June 20, 2018</td>\n",
              "      <td>1.1</td>\n",
              "      <td>4.4 and up</td>\n",
              "    </tr>\n",
              "  </tbody>\n",
              "</table>\n",
              "</div>\n",
              "      <button class=\"colab-df-convert\" onclick=\"convertToInteractive('df-74098ebb-7447-40bb-bd49-a93f88552e8b')\"\n",
              "              title=\"Convert this dataframe to an interactive table.\"\n",
              "              style=\"display:none;\">\n",
              "        \n",
              "  <svg xmlns=\"http://www.w3.org/2000/svg\" height=\"24px\"viewBox=\"0 0 24 24\"\n",
              "       width=\"24px\">\n",
              "    <path d=\"M0 0h24v24H0V0z\" fill=\"none\"/>\n",
              "    <path d=\"M18.56 5.44l.94 2.06.94-2.06 2.06-.94-2.06-.94-.94-2.06-.94 2.06-2.06.94zm-11 1L8.5 8.5l.94-2.06 2.06-.94-2.06-.94L8.5 2.5l-.94 2.06-2.06.94zm10 10l.94 2.06.94-2.06 2.06-.94-2.06-.94-.94-2.06-.94 2.06-2.06.94z\"/><path d=\"M17.41 7.96l-1.37-1.37c-.4-.4-.92-.59-1.43-.59-.52 0-1.04.2-1.43.59L10.3 9.45l-7.72 7.72c-.78.78-.78 2.05 0 2.83L4 21.41c.39.39.9.59 1.41.59.51 0 1.02-.2 1.41-.59l7.78-7.78 2.81-2.81c.8-.78.8-2.07 0-2.86zM5.41 20L4 18.59l7.72-7.72 1.47 1.35L5.41 20z\"/>\n",
              "  </svg>\n",
              "      </button>\n",
              "      \n",
              "  <style>\n",
              "    .colab-df-container {\n",
              "      display:flex;\n",
              "      flex-wrap:wrap;\n",
              "      gap: 12px;\n",
              "    }\n",
              "\n",
              "    .colab-df-convert {\n",
              "      background-color: #E8F0FE;\n",
              "      border: none;\n",
              "      border-radius: 50%;\n",
              "      cursor: pointer;\n",
              "      display: none;\n",
              "      fill: #1967D2;\n",
              "      height: 32px;\n",
              "      padding: 0 0 0 0;\n",
              "      width: 32px;\n",
              "    }\n",
              "\n",
              "    .colab-df-convert:hover {\n",
              "      background-color: #E2EBFA;\n",
              "      box-shadow: 0px 1px 2px rgba(60, 64, 67, 0.3), 0px 1px 3px 1px rgba(60, 64, 67, 0.15);\n",
              "      fill: #174EA6;\n",
              "    }\n",
              "\n",
              "    [theme=dark] .colab-df-convert {\n",
              "      background-color: #3B4455;\n",
              "      fill: #D2E3FC;\n",
              "    }\n",
              "\n",
              "    [theme=dark] .colab-df-convert:hover {\n",
              "      background-color: #434B5C;\n",
              "      box-shadow: 0px 1px 3px 1px rgba(0, 0, 0, 0.15);\n",
              "      filter: drop-shadow(0px 1px 2px rgba(0, 0, 0, 0.3));\n",
              "      fill: #FFFFFF;\n",
              "    }\n",
              "  </style>\n",
              "\n",
              "      <script>\n",
              "        const buttonEl =\n",
              "          document.querySelector('#df-74098ebb-7447-40bb-bd49-a93f88552e8b button.colab-df-convert');\n",
              "        buttonEl.style.display =\n",
              "          google.colab.kernel.accessAllowed ? 'block' : 'none';\n",
              "\n",
              "        async function convertToInteractive(key) {\n",
              "          const element = document.querySelector('#df-74098ebb-7447-40bb-bd49-a93f88552e8b');\n",
              "          const dataTable =\n",
              "            await google.colab.kernel.invokeFunction('convertToInteractive',\n",
              "                                                     [key], {});\n",
              "          if (!dataTable) return;\n",
              "\n",
              "          const docLinkHtml = 'Like what you see? Visit the ' +\n",
              "            '<a target=\"_blank\" href=https://colab.research.google.com/notebooks/data_table.ipynb>data table notebook</a>'\n",
              "            + ' to learn more about interactive tables.';\n",
              "          element.innerHTML = '';\n",
              "          dataTable['output_type'] = 'display_data';\n",
              "          await google.colab.output.renderOutput(dataTable, element);\n",
              "          const docLink = document.createElement('div');\n",
              "          docLink.innerHTML = docLinkHtml;\n",
              "          element.appendChild(docLink);\n",
              "        }\n",
              "      </script>\n",
              "    </div>\n",
              "  </div>\n",
              "  "
            ]
          },
          "metadata": {},
          "execution_count": 6
        }
      ]
    },
    {
      "cell_type": "code",
      "source": [
        "user_review_df.head(5)"
      ],
      "metadata": {
        "colab": {
          "base_uri": "https://localhost:8080/",
          "height": 206
        },
        "id": "zUIsTEr_I5BC",
        "outputId": "fe81b5be-6f39-457a-8142-e9d55278b1e7"
      },
      "execution_count": null,
      "outputs": [
        {
          "output_type": "execute_result",
          "data": {
            "text/plain": [
              "                     App                                  Translated_Review  \\\n",
              "0  10 Best Foods for You  I like eat delicious food. That's I'm cooking ...   \n",
              "1  10 Best Foods for You    This help eating healthy exercise regular basis   \n",
              "2  10 Best Foods for You                                                NaN   \n",
              "3  10 Best Foods for You         Works great especially going grocery store   \n",
              "4  10 Best Foods for You                                       Best idea us   \n",
              "\n",
              "  Sentiment  Sentiment_Polarity  Sentiment_Subjectivity  \n",
              "0  Positive                1.00                0.533333  \n",
              "1  Positive                0.25                0.288462  \n",
              "2       NaN                 NaN                     NaN  \n",
              "3  Positive                0.40                0.875000  \n",
              "4  Positive                1.00                0.300000  "
            ],
            "text/html": [
              "\n",
              "  <div id=\"df-b79d3fe4-70f8-41a0-a6b7-3e5c18bee725\">\n",
              "    <div class=\"colab-df-container\">\n",
              "      <div>\n",
              "<style scoped>\n",
              "    .dataframe tbody tr th:only-of-type {\n",
              "        vertical-align: middle;\n",
              "    }\n",
              "\n",
              "    .dataframe tbody tr th {\n",
              "        vertical-align: top;\n",
              "    }\n",
              "\n",
              "    .dataframe thead th {\n",
              "        text-align: right;\n",
              "    }\n",
              "</style>\n",
              "<table border=\"1\" class=\"dataframe\">\n",
              "  <thead>\n",
              "    <tr style=\"text-align: right;\">\n",
              "      <th></th>\n",
              "      <th>App</th>\n",
              "      <th>Translated_Review</th>\n",
              "      <th>Sentiment</th>\n",
              "      <th>Sentiment_Polarity</th>\n",
              "      <th>Sentiment_Subjectivity</th>\n",
              "    </tr>\n",
              "  </thead>\n",
              "  <tbody>\n",
              "    <tr>\n",
              "      <th>0</th>\n",
              "      <td>10 Best Foods for You</td>\n",
              "      <td>I like eat delicious food. That's I'm cooking ...</td>\n",
              "      <td>Positive</td>\n",
              "      <td>1.00</td>\n",
              "      <td>0.533333</td>\n",
              "    </tr>\n",
              "    <tr>\n",
              "      <th>1</th>\n",
              "      <td>10 Best Foods for You</td>\n",
              "      <td>This help eating healthy exercise regular basis</td>\n",
              "      <td>Positive</td>\n",
              "      <td>0.25</td>\n",
              "      <td>0.288462</td>\n",
              "    </tr>\n",
              "    <tr>\n",
              "      <th>2</th>\n",
              "      <td>10 Best Foods for You</td>\n",
              "      <td>NaN</td>\n",
              "      <td>NaN</td>\n",
              "      <td>NaN</td>\n",
              "      <td>NaN</td>\n",
              "    </tr>\n",
              "    <tr>\n",
              "      <th>3</th>\n",
              "      <td>10 Best Foods for You</td>\n",
              "      <td>Works great especially going grocery store</td>\n",
              "      <td>Positive</td>\n",
              "      <td>0.40</td>\n",
              "      <td>0.875000</td>\n",
              "    </tr>\n",
              "    <tr>\n",
              "      <th>4</th>\n",
              "      <td>10 Best Foods for You</td>\n",
              "      <td>Best idea us</td>\n",
              "      <td>Positive</td>\n",
              "      <td>1.00</td>\n",
              "      <td>0.300000</td>\n",
              "    </tr>\n",
              "  </tbody>\n",
              "</table>\n",
              "</div>\n",
              "      <button class=\"colab-df-convert\" onclick=\"convertToInteractive('df-b79d3fe4-70f8-41a0-a6b7-3e5c18bee725')\"\n",
              "              title=\"Convert this dataframe to an interactive table.\"\n",
              "              style=\"display:none;\">\n",
              "        \n",
              "  <svg xmlns=\"http://www.w3.org/2000/svg\" height=\"24px\"viewBox=\"0 0 24 24\"\n",
              "       width=\"24px\">\n",
              "    <path d=\"M0 0h24v24H0V0z\" fill=\"none\"/>\n",
              "    <path d=\"M18.56 5.44l.94 2.06.94-2.06 2.06-.94-2.06-.94-.94-2.06-.94 2.06-2.06.94zm-11 1L8.5 8.5l.94-2.06 2.06-.94-2.06-.94L8.5 2.5l-.94 2.06-2.06.94zm10 10l.94 2.06.94-2.06 2.06-.94-2.06-.94-.94-2.06-.94 2.06-2.06.94z\"/><path d=\"M17.41 7.96l-1.37-1.37c-.4-.4-.92-.59-1.43-.59-.52 0-1.04.2-1.43.59L10.3 9.45l-7.72 7.72c-.78.78-.78 2.05 0 2.83L4 21.41c.39.39.9.59 1.41.59.51 0 1.02-.2 1.41-.59l7.78-7.78 2.81-2.81c.8-.78.8-2.07 0-2.86zM5.41 20L4 18.59l7.72-7.72 1.47 1.35L5.41 20z\"/>\n",
              "  </svg>\n",
              "      </button>\n",
              "      \n",
              "  <style>\n",
              "    .colab-df-container {\n",
              "      display:flex;\n",
              "      flex-wrap:wrap;\n",
              "      gap: 12px;\n",
              "    }\n",
              "\n",
              "    .colab-df-convert {\n",
              "      background-color: #E8F0FE;\n",
              "      border: none;\n",
              "      border-radius: 50%;\n",
              "      cursor: pointer;\n",
              "      display: none;\n",
              "      fill: #1967D2;\n",
              "      height: 32px;\n",
              "      padding: 0 0 0 0;\n",
              "      width: 32px;\n",
              "    }\n",
              "\n",
              "    .colab-df-convert:hover {\n",
              "      background-color: #E2EBFA;\n",
              "      box-shadow: 0px 1px 2px rgba(60, 64, 67, 0.3), 0px 1px 3px 1px rgba(60, 64, 67, 0.15);\n",
              "      fill: #174EA6;\n",
              "    }\n",
              "\n",
              "    [theme=dark] .colab-df-convert {\n",
              "      background-color: #3B4455;\n",
              "      fill: #D2E3FC;\n",
              "    }\n",
              "\n",
              "    [theme=dark] .colab-df-convert:hover {\n",
              "      background-color: #434B5C;\n",
              "      box-shadow: 0px 1px 3px 1px rgba(0, 0, 0, 0.15);\n",
              "      filter: drop-shadow(0px 1px 2px rgba(0, 0, 0, 0.3));\n",
              "      fill: #FFFFFF;\n",
              "    }\n",
              "  </style>\n",
              "\n",
              "      <script>\n",
              "        const buttonEl =\n",
              "          document.querySelector('#df-b79d3fe4-70f8-41a0-a6b7-3e5c18bee725 button.colab-df-convert');\n",
              "        buttonEl.style.display =\n",
              "          google.colab.kernel.accessAllowed ? 'block' : 'none';\n",
              "\n",
              "        async function convertToInteractive(key) {\n",
              "          const element = document.querySelector('#df-b79d3fe4-70f8-41a0-a6b7-3e5c18bee725');\n",
              "          const dataTable =\n",
              "            await google.colab.kernel.invokeFunction('convertToInteractive',\n",
              "                                                     [key], {});\n",
              "          if (!dataTable) return;\n",
              "\n",
              "          const docLinkHtml = 'Like what you see? Visit the ' +\n",
              "            '<a target=\"_blank\" href=https://colab.research.google.com/notebooks/data_table.ipynb>data table notebook</a>'\n",
              "            + ' to learn more about interactive tables.';\n",
              "          element.innerHTML = '';\n",
              "          dataTable['output_type'] = 'display_data';\n",
              "          await google.colab.output.renderOutput(dataTable, element);\n",
              "          const docLink = document.createElement('div');\n",
              "          docLink.innerHTML = docLinkHtml;\n",
              "          element.appendChild(docLink);\n",
              "        }\n",
              "      </script>\n",
              "    </div>\n",
              "  </div>\n",
              "  "
            ]
          },
          "metadata": {},
          "execution_count": 7
        }
      ]
    },
    {
      "cell_type": "code",
      "source": [
        "# Checking the columns present in the datasets:\n",
        "\n",
        "playstore_df.info()"
      ],
      "metadata": {
        "colab": {
          "base_uri": "https://localhost:8080/"
        },
        "id": "gr4rc_BmJBmX",
        "outputId": "7b931582-cd75-4727-d06a-7cd187b611be"
      },
      "execution_count": null,
      "outputs": [
        {
          "output_type": "stream",
          "name": "stdout",
          "text": [
            "<class 'pandas.core.frame.DataFrame'>\n",
            "RangeIndex: 10841 entries, 0 to 10840\n",
            "Data columns (total 13 columns):\n",
            " #   Column          Non-Null Count  Dtype  \n",
            "---  ------          --------------  -----  \n",
            " 0   App             10841 non-null  object \n",
            " 1   Category        10841 non-null  object \n",
            " 2   Rating          9367 non-null   float64\n",
            " 3   Reviews         10841 non-null  object \n",
            " 4   Size            10841 non-null  object \n",
            " 5   Installs        10841 non-null  object \n",
            " 6   Type            10840 non-null  object \n",
            " 7   Price           10841 non-null  object \n",
            " 8   Content Rating  10840 non-null  object \n",
            " 9   Genres          10841 non-null  object \n",
            " 10  Last Updated    10841 non-null  object \n",
            " 11  Current Ver     10833 non-null  object \n",
            " 12  Android Ver     10838 non-null  object \n",
            "dtypes: float64(1), object(12)\n",
            "memory usage: 1.1+ MB\n"
          ]
        }
      ]
    },
    {
      "cell_type": "code",
      "source": [
        "user_review_df.info()"
      ],
      "metadata": {
        "colab": {
          "base_uri": "https://localhost:8080/"
        },
        "id": "UJDipGhTKU2m",
        "outputId": "6fe7f312-0ea6-436c-c5a7-55866c125c14"
      },
      "execution_count": null,
      "outputs": [
        {
          "output_type": "stream",
          "name": "stdout",
          "text": [
            "<class 'pandas.core.frame.DataFrame'>\n",
            "RangeIndex: 64295 entries, 0 to 64294\n",
            "Data columns (total 5 columns):\n",
            " #   Column                  Non-Null Count  Dtype  \n",
            "---  ------                  --------------  -----  \n",
            " 0   App                     64295 non-null  object \n",
            " 1   Translated_Review       37427 non-null  object \n",
            " 2   Sentiment               37432 non-null  object \n",
            " 3   Sentiment_Polarity      37432 non-null  float64\n",
            " 4   Sentiment_Subjectivity  37432 non-null  float64\n",
            "dtypes: float64(2), object(3)\n",
            "memory usage: 2.5+ MB\n"
          ]
        }
      ]
    },
    {
      "cell_type": "code",
      "source": [
        "# Null values check:\n",
        "\n",
        "playstore_df.isnull().sum()"
      ],
      "metadata": {
        "id": "V1q3PbTL_rgb"
      },
      "execution_count": null,
      "outputs": []
    },
    {
      "cell_type": "code",
      "source": [
        "user_review_df.isnull().sum()"
      ],
      "metadata": {
        "id": "IA2rX-Y1_59A"
      },
      "execution_count": null,
      "outputs": []
    },
    {
      "cell_type": "markdown",
      "source": [
        "## <b><u>Data Cleaning</u>:</b>"
      ],
      "metadata": {
        "id": "0ajXK1GoAEfD"
      }
    },
    {
      "cell_type": "markdown",
      "source": [
        "Cleaning and converting raw data before processing and analysis is known as data preparation. Prior to processing, it is a crucial phase that frequently entails reformatting data, correcting data, and integrating data sets to enrich data. It involves determining which parts of the data are incomplete, incorrect, inaccurate, or irrelevant, and then replacing, changing, or deleting the soiled or coarse data."
      ],
      "metadata": {
        "id": "4swBial4A-BW"
      }
    },
    {
      "cell_type": "markdown",
      "source": [
        "Wouldn't it be better if we could construct a function to obtain more valuable information about the various dataset attributes? There is also another good reason to define a function because it will be reusable and we will use it often in the future."
      ],
      "metadata": {
        "id": "wGiY6DWSBAW4"
      }
    },
    {
      "cell_type": "code",
      "source": [
        "# Defining the function:\n",
        "\n",
        "def complete_info():\n",
        "    null = pd.DataFrame(index = play_store_df.columns)\n",
        "    null['data_type'] = play_store_df.dtypes\n",
        "    null['null_count'] = play_store_df.isnull().sum()\n",
        "    null['unique_count'] = play_store_df.nunique()\n",
        "    return null"
      ],
      "metadata": {
        "id": "ObOAGRN0BDUx"
      },
      "execution_count": null,
      "outputs": []
    },
    {
      "cell_type": "code",
      "source": [
        "# Calling the function:\n",
        "\n",
        "complete_info()"
      ],
      "metadata": {
        "id": "7RbJkjKbBKd2"
      },
      "execution_count": null,
      "outputs": []
    },
    {
      "cell_type": "markdown",
      "source": [
        "### <b><u>'App' column</u>:</b>"
      ],
      "metadata": {
        "id": "-el1OxmtEMx0"
      }
    },
    {
      "cell_type": "markdown",
      "source": [
        "We can now begin the process of cleaning the data. Let's start with the column \"App\" and see if there are any duplicate values present."
      ],
      "metadata": {
        "id": "qesAfSqfINu2"
      }
    },
    {
      "cell_type": "code",
      "source": [
        "print(\"Number of Unique App names = \", len(play_store_df['App'].unique()))\n",
        "print(\"NUMBER of the Total App name = \", play_store_df.shape[0])\n",
        "print(\"Duplicate Apps = \",len(play_store_df['App'])- len(play_store_df['App'].unique()))"
      ],
      "metadata": {
        "id": "sD0UGyARIO9O"
      },
      "execution_count": null,
      "outputs": []
    },
    {
      "cell_type": "code",
      "source": [
        "#Examining the appearance of the duplicate value\n",
        "play_store_df[play_store_df['App'] == 'Coloring book moana']"
      ],
      "metadata": {
        "id": "vcPhtqLdIUFo"
      },
      "execution_count": null,
      "outputs": []
    },
    {
      "cell_type": "code",
      "source": [
        "play_store_df.drop_duplicates(subset = 'App', keep = 'first' ,inplace = True)"
      ],
      "metadata": {
        "id": "6xh9XXfAIU6A"
      },
      "execution_count": null,
      "outputs": []
    },
    {
      "cell_type": "markdown",
      "source": [
        "### <b><u>'Type' column</u>:</b>"
      ],
      "metadata": {
        "id": "wzKCBgClIoy4"
      }
    },
    {
      "cell_type": "code",
      "source": [
        "# check for unique set of values in the column 'type'\n",
        "play_store_df.Type.unique()"
      ],
      "metadata": {
        "id": "fEkuWpVpIy8k"
      },
      "execution_count": null,
      "outputs": []
    },
    {
      "cell_type": "markdown",
      "source": [
        "There is 0 and null value, let's change them to free."
      ],
      "metadata": {
        "id": "ueSncyUGI7gH"
      }
    },
    {
      "cell_type": "code",
      "source": [
        "#changing the values to 'free'\n",
        "play_store_df['Type'].replace(to_replace=['0'], value=['Free'],inplace=True)\n",
        "play_store_df['Type'].fillna('Free', inplace=True)"
      ],
      "metadata": {
        "id": "Dw550VYCI20n"
      },
      "execution_count": null,
      "outputs": []
    },
    {
      "cell_type": "markdown",
      "source": [
        "### <b><u>'Content Rating' column</u>:</b>"
      ],
      "metadata": {
        "id": "JKVn1cwkJi2W"
      }
    },
    {
      "cell_type": "code",
      "source": [
        "#checking for null values\n",
        "play_store_df[play_store_df['Content Rating'].isnull()]"
      ],
      "metadata": {
        "id": "iHCfKsfcKZEd"
      },
      "execution_count": null,
      "outputs": []
    },
    {
      "cell_type": "code",
      "source": [
        "#comparing the data with the nearby rows.\n",
        "play_store_df.loc[10465:10477, :]"
      ],
      "metadata": {
        "id": "Ps75pXaqKbzc"
      },
      "execution_count": null,
      "outputs": []
    },
    {
      "cell_type": "markdown",
      "source": [
        "As can be seen from the command above, all of the current column values are being replaced with their previous columns in row 10472 due to a missing value in the category column."
      ],
      "metadata": {
        "id": "B4j5iQ5pKe4U"
      }
    },
    {
      "cell_type": "code",
      "source": [
        "#Dropping the row containing null values in the column 'Content Rating'\n",
        "play_store_df.dropna(subset = ['Content Rating'], inplace=True)"
      ],
      "metadata": {
        "id": "F0aTdMGfKcpS"
      },
      "execution_count": null,
      "outputs": []
    },
    {
      "cell_type": "markdown",
      "source": [
        "### Rating column:"
      ],
      "metadata": {
        "id": "8m8CzhbYKwH8"
      }
    },
    {
      "cell_type": "markdown",
      "source": [
        "The Rating column, which has a total of 1463 missing values, can now be fixed. Replacing the missing values with the Modevalue of that entire column."
      ],
      "metadata": {
        "id": "gK5U-PcGK1Z2"
      }
    },
    {
      "cell_type": "code",
      "source": [
        "#Finding the mode value and replacing with the null values present.\n",
        "modeValueRating = play_store_df['Rating'].mode()\n",
        "print(f' The mode value is: {modeValueRating[0]}')\n",
        "play_store_df['Rating'].fillna(value=modeValueRating[0], inplace = True)\n",
        "complete_info()"
      ],
      "metadata": {
        "id": "F1s0cBXvKvq6"
      },
      "execution_count": null,
      "outputs": []
    },
    {
      "cell_type": "markdown",
      "source": [
        "We have a few unnecessary columns that won't be very helpful when we're doing the analysis. Let's eliminate those columns."
      ],
      "metadata": {
        "id": "GxR1Q5wWLLIh"
      }
    },
    {
      "cell_type": "code",
      "source": [
        "#Eliminatting the collumns that are not necessary.\n",
        "play_store_df.drop(['Current Ver','Last Updated', 'Android Ver'], axis=1, inplace=True)"
      ],
      "metadata": {
        "id": "GnYklJ3HLOCx"
      },
      "execution_count": null,
      "outputs": []
    },
    {
      "cell_type": "code",
      "source": [
        "complete_info()"
      ],
      "metadata": {
        "id": "EcwdLVF8LRqr"
      },
      "execution_count": null,
      "outputs": []
    },
    {
      "cell_type": "markdown",
      "source": [
        "The null count for every column is zero, indicating that there are no longer any missing entries in the data frame."
      ],
      "metadata": {
        "id": "8XlH4WbXLViT"
      }
    },
    {
      "cell_type": "markdown",
      "source": [
        "## Data Preparation:"
      ],
      "metadata": {
        "id": "9mFi4cTiLbiz"
      }
    },
    {
      "cell_type": "markdown",
      "source": [
        "The datatype for columns like Reviews, Size, Installs, and price should be an int or float, but we can see that they are of object type here. Let's change them to the appropriate type."
      ],
      "metadata": {
        "id": "TI-7E36ILjpI"
      }
    },
    {
      "cell_type": "markdown",
      "source": [
        "### Reviews"
      ],
      "metadata": {
        "id": "ewFej_mGLppz"
      }
    },
    {
      "cell_type": "code",
      "source": [
        "#converting the column Reviews to type 'int'\n",
        "play_store_df['Reviews'] = play_store_df.Reviews.astype(int)"
      ],
      "metadata": {
        "id": "jbcHez0VL35a"
      },
      "execution_count": null,
      "outputs": []
    },
    {
      "cell_type": "markdown",
      "source": [
        "### Size"
      ],
      "metadata": {
        "id": "MPqYf_0mL4vC"
      }
    },
    {
      "cell_type": "markdown",
      "source": [
        "It also includes the values \"Varies with device\", 'M' and 'k' which are present in the column 'size' as string in the value type. The KB and MB size scales would be messed up if the 'M' and 'K' were left out. Consequently, we convert KBs to MBs. Below is a method of doing this."
      ],
      "metadata": {
        "id": "QA52jCWmMFqG"
      }
    },
    {
      "cell_type": "code",
      "source": [
        "#Removing the +Symbol:\n",
        "play_store_df['Size'] = play_store_df.Size.apply(lambda x: x.strip('+'))"
      ],
      "metadata": {
        "id": "AP-9YycCMK7h"
      },
      "execution_count": null,
      "outputs": []
    },
    {
      "cell_type": "code",
      "source": [
        "#Removing the , symbol:\n",
        "play_store_df['Size'] = play_store_df.Size.apply(lambda x: x.replace(',', ''))"
      ],
      "metadata": {
        "id": "RNlf5TR_MLfI"
      },
      "execution_count": null,
      "outputs": []
    },
    {
      "cell_type": "code",
      "source": [
        "#removing M and k from values, also coverting KB into MB\n",
        "play_store_df['Size'] =play_store_df['Size'].apply(lambda x: x.replace('M', '') if 'M' in str(x) else x )\n",
        "play_store_df['Size'] = play_store_df['Size'].apply(lambda x: float(x.replace('k', ''))/1024 if 'k' in str(x) else x)"
      ],
      "metadata": {
        "id": "H4qnx-BDMNWM"
      },
      "execution_count": null,
      "outputs": []
    },
    {
      "cell_type": "code",
      "source": [
        "#Replacing the Varies with device value with Nan :\n",
        "play_store_df['Size'] = play_store_df.Size.replace('Varies with device', np.NaN)"
      ],
      "metadata": {
        "id": "MQbASCLtMPeq"
      },
      "execution_count": null,
      "outputs": []
    },
    {
      "cell_type": "markdown",
      "source": [
        "We need to do something with the set of Nan values data since we converted the Varies with device value to Nan. Since some apps' sizes will be too huge and others excessively small, it would be best to remove the rows of the column Size that contain Nanvalues rather than attempt to replace them with mean or mode."
      ],
      "metadata": {
        "id": "A97-C5iZMkOF"
      }
    },
    {
      "cell_type": "code",
      "source": [
        "# Removing the rows which containing \"Varies with device\"\n",
        "play_store_df.dropna(subset = ['Size'], inplace=True)"
      ],
      "metadata": {
        "id": "o89EeId8M2KB"
      },
      "execution_count": null,
      "outputs": []
    },
    {
      "cell_type": "code",
      "source": [
        "#Renaming the column with appropiate name.\n",
        "play_store_df.rename(columns={'Size': 'Size(in MB)'}, inplace=True)"
      ],
      "metadata": {
        "id": "kXVm2KADM9Tb"
      },
      "execution_count": null,
      "outputs": []
    },
    {
      "cell_type": "code",
      "source": [
        "#Now, finally converting all these values to numeric type:\n",
        "play_store_df['Size(in MB)'] = pd.to_numeric(play_store_df['Size(in MB)'])"
      ],
      "metadata": {
        "id": "HLhNlA-RNCrc"
      },
      "execution_count": null,
      "outputs": []
    },
    {
      "cell_type": "markdown",
      "source": [
        "### Installs"
      ],
      "metadata": {
        "id": "9QV2yu99NHZz"
      }
    },
    {
      "cell_type": "code",
      "source": [
        "#check for unique values\n",
        "play_store_df.Installs.unique()"
      ],
      "metadata": {
        "id": "kkHPyUneNJp3"
      },
      "execution_count": null,
      "outputs": []
    },
    {
      "cell_type": "markdown",
      "source": [
        "I will now convert this column to a float. The \",\" value needs to be changed, and the \"+\" sign needs to be removed."
      ],
      "metadata": {
        "id": "3DFXUvZENVKB"
      }
    },
    {
      "cell_type": "code",
      "source": [
        "#Removing the \"+\" sign and changing the sign \",\"\n",
        "play_store_df['Installs'] = play_store_df.Installs.apply(lambda x: x.strip('+'))\n",
        "play_store_df['Installs'] = play_store_df.Installs.apply(lambda x: x.replace(',', ''))"
      ],
      "metadata": {
        "id": "nTYJgqw3NUeG"
      },
      "execution_count": null,
      "outputs": []
    },
    {
      "cell_type": "code",
      "source": [
        "#convert it from string type to numeric type,\n",
        "play_store_df['Installs'] = pd.to_numeric(play_store_df['Installs'])"
      ],
      "metadata": {
        "id": "zhpjI8oCNbxD"
      },
      "execution_count": null,
      "outputs": []
    },
    {
      "cell_type": "markdown",
      "source": [
        "### Price"
      ],
      "metadata": {
        "id": "hsF7MQZzNdz0"
      }
    },
    {
      "cell_type": "code",
      "source": [
        "#checking for value count\n",
        "play_store_df['Price'].value_counts()"
      ],
      "metadata": {
        "id": "jERc6YMZNiht"
      },
      "execution_count": null,
      "outputs": []
    },
    {
      "cell_type": "code",
      "source": [
        "#Removing \"$\" sign\n",
        "play_store_df['Price'] = play_store_df.Price.apply(lambda x: x.strip('$'))"
      ],
      "metadata": {
        "id": "sxVOxTjlNldD"
      },
      "execution_count": null,
      "outputs": []
    },
    {
      "cell_type": "code",
      "source": [
        "# converting to Numeric type\n",
        "play_store_df['Price'] = pd.to_numeric(play_store_df['Price'])"
      ],
      "metadata": {
        "id": "XIPTzYiQNoDA"
      },
      "execution_count": null,
      "outputs": []
    },
    {
      "cell_type": "markdown",
      "source": [
        "Lets take a final look at our DataFrame"
      ],
      "metadata": {
        "id": "BlwV4nvONrAa"
      }
    },
    {
      "cell_type": "code",
      "source": [
        "#calling the function\n",
        "complete_info()"
      ],
      "metadata": {
        "id": "6U0o78fUNt0q"
      },
      "execution_count": null,
      "outputs": []
    },
    {
      "cell_type": "code",
      "source": [
        "play_store_df.shape"
      ],
      "metadata": {
        "id": "euL-oC_5Nw7a"
      },
      "execution_count": null,
      "outputs": []
    },
    {
      "cell_type": "markdown",
      "source": [
        "There are 8434 rows and 10 columns left in the data frame after the dataset has been cleaned up by removing any unneeded rows and columns containing Null Values and garbage data."
      ],
      "metadata": {
        "id": "sMwuBaJGN0A9"
      }
    },
    {
      "cell_type": "markdown",
      "source": [
        "## Getting some summrization of dataset bassed on:\n",
        "\n",
        "* Total size oocupied by each category of apps\n",
        "* Average rating for each category of apps.\n",
        "* Total installs for each category of apps.\n",
        "* Total reviews for each category of apps."
      ],
      "metadata": {
        "id": "cujf_ON0N8eG"
      }
    },
    {
      "cell_type": "code",
      "source": [
        "categorically_summerization= play_store_df.groupby('Category').agg({'Size(in MB)':'sum', 'Rating':'mean', 'Installs':'sum','Reviews':'sum'})\n",
        "categorically_summerization"
      ],
      "metadata": {
        "id": "MTnrOUPoOH5P"
      },
      "execution_count": null,
      "outputs": []
    },
    {
      "cell_type": "markdown",
      "source": [
        "## Data Analysis & Visualization"
      ],
      "metadata": {
        "id": "I34Tk09GOQjN"
      }
    },
    {
      "cell_type": "markdown",
      "source": [
        "### Category"
      ],
      "metadata": {
        "id": "xFJ0tSAZOYhj"
      }
    },
    {
      "cell_type": "markdown",
      "source": [
        "Well, let us try to find what are the top categories in the play store, which contains the highest number of apps?"
      ],
      "metadata": {
        "id": "4Rvf16TFOe2n"
      }
    },
    {
      "cell_type": "code",
      "source": [
        "#unique categories\n",
        "len(play_store_df['Category'].unique())"
      ],
      "metadata": {
        "id": "EHgetDG-OcsT"
      },
      "execution_count": null,
      "outputs": []
    },
    {
      "cell_type": "markdown",
      "source": [
        "So we got 33 category on this dataset, let's see which one is the famous category"
      ],
      "metadata": {
        "id": "nJ2_wCG2Ol6A"
      }
    },
    {
      "cell_type": "code",
      "source": [
        "# Determining top categories in data\n",
        "x = play_store_df['Category'].value_counts().index\n",
        "y = play_store_df['Category'].value_counts()\n",
        "xaxis = []\n",
        "yaxis = []\n",
        "for i in range(len(y)):\n",
        "    xaxis.append(x[i])\n",
        "    yaxis.append(y[i])"
      ],
      "metadata": {
        "id": "pgTyVnq-OrqI"
      },
      "execution_count": null,
      "outputs": []
    },
    {
      "cell_type": "code",
      "source": [
        "# Plotting graph/visuals for the same\n",
        "plt.figure(figsize=(18,5))\n",
        "plt.xlabel(\"Category\", fontsize = 15)\n",
        "plt.ylabel(\"Count\", fontsize = 15)\n",
        "plt.xticks(rotation=90)\n",
        "category_graph = sns.barplot(x = xaxis, y = yaxis, palette= \"rainbow\")\n",
        "category_graph.set_title(\"Categories of apps in google Playstore\", fontsize = 25);"
      ],
      "metadata": {
        "id": "6kArcXP-Owuw"
      },
      "execution_count": null,
      "outputs": []
    },
    {
      "cell_type": "markdown",
      "source": [
        "There are a total of 33 categories in the dataset, and based on the result from the previous step, we can infer that the majority of the apps in the Google Play store fall into the Family & Games category, while the least number of them fall into the Beauty & Comics category."
      ],
      "metadata": {
        "id": "NEJDRq04O0yJ"
      }
    },
    {
      "cell_type": "code",
      "source": [
        "#Finding the top 10 categories\n",
        "Top10_categories=play_store_df['Category'].value_counts().reset_index().head(10)\n",
        "Top10_categories.rename(columns={'index':'Category','Category':'Count'},inplace=True)\n",
        "Top10_categories"
      ],
      "metadata": {
        "id": "xCVRQwGWO4KG"
      },
      "execution_count": null,
      "outputs": []
    },
    {
      "cell_type": "code",
      "source": [
        "#Plotting Distribution of top 10 categories\n",
        "plt.figure(figsize=(8,10))\n",
        "plt.pie(Top10_categories['Count'],labels=Top10_categories['Category'],autopct='%.0f%%',explode=[0.02]*10)\n",
        "plt.title('Top 10 categories distribution', fontsize= 20)\n",
        "plt.show()"
      ],
      "metadata": {
        "id": "I4n2JWzCO7Bv"
      },
      "execution_count": null,
      "outputs": []
    },
    {
      "cell_type": "markdown",
      "source": [
        "Among Top 10 Categories Family (31%), Games (15%) And Tools (13%) Contribute The Most"
      ],
      "metadata": {
        "id": "kjsjqU57O_4P"
      }
    },
    {
      "cell_type": "markdown",
      "source": [
        "### Rating"
      ],
      "metadata": {
        "id": "0vZ-vwm5PFwH"
      }
    },
    {
      "cell_type": "code",
      "source": [
        "# ploting distribution graph for Rating\n",
        "plt.figure(figsize=(14,5))\n",
        "sns.distplot(play_store_df['Rating'],color = 'blue')\n",
        "plt.grid()\n",
        "plt.xlabel(\"Rating\")\n",
        "plt.ylabel(\"Frequency\")\n",
        "plt.title('Distribution Plot Of Rating')\n",
        "plt.show()"
      ],
      "metadata": {
        "id": "aFCXqWQvPKvW"
      },
      "execution_count": null,
      "outputs": []
    },
    {
      "cell_type": "code",
      "source": [
        "#calculating the average rating\n",
        "print('The average rating in the playstore is',play_store_df['Rating'].mean())"
      ],
      "metadata": {
        "id": "ebHX3DlEPPVk"
      },
      "execution_count": null,
      "outputs": []
    },
    {
      "cell_type": "markdown",
      "source": [
        "This average rating infers that maximum number of apps in playstore have been rated above 4 which signifies majority of apps available in playstore are of high calibre."
      ],
      "metadata": {
        "id": "QfIOFuHsPSa2"
      }
    },
    {
      "cell_type": "code",
      "source": [
        "#App's With 5 Star Rating\n",
        "five_star_rating_apps=play_store_df[play_store_df['Rating']==5]\n",
        "five_star_rating_apps['App'].nunique()"
      ],
      "metadata": {
        "id": "u5AynT3BPXfw"
      },
      "execution_count": null,
      "outputs": []
    },
    {
      "cell_type": "code",
      "source": [
        "#Top 10 Categories Of 5 Star Rating App's\n",
        "five_star_rating_apps['Category'].value_counts().reset_index().rename(columns={'index':'Category','Category':'Count'}).head(10)"
      ],
      "metadata": {
        "id": "C5nvCpvkPkTl"
      },
      "execution_count": null,
      "outputs": []
    },
    {
      "cell_type": "markdown",
      "source": [
        "### Content Rating"
      ],
      "metadata": {
        "id": "ImSCTZ9APtWl"
      }
    },
    {
      "cell_type": "markdown",
      "source": [
        "Let us see, which category of Apps from the ‘Content Rating’ column is found more on the play store."
      ],
      "metadata": {
        "id": "fMRWlh6oPxh3"
      }
    },
    {
      "cell_type": "code",
      "source": [
        "#Content rating value counts\n",
        "value_c=play_store_df[\"Content Rating\"].value_counts().reset_index()"
      ],
      "metadata": {
        "id": "ciqDhwqBPs-B"
      },
      "execution_count": null,
      "outputs": []
    },
    {
      "cell_type": "code",
      "source": [
        "#barplot of content rating value counts\n",
        "sns.barplot(x=\"Content Rating\",y=\"index\",data=value_c)\n",
        "plt.title(\"Barplot of Content Rating \",fontsize=20)\n",
        "plt.xlabel(\"No. of apps\", fontsize= 15)\n",
        "plt.ylabel(\"Content rating\", fontsize= 15)"
      ],
      "metadata": {
        "id": "DVmrXqbsP5Cw"
      },
      "execution_count": null,
      "outputs": []
    },
    {
      "cell_type": "markdown",
      "source": [
        "The Everyone category has the most apps, as can be seen from the plot above."
      ],
      "metadata": {
        "id": "AwDWXRfWP_ly"
      }
    },
    {
      "cell_type": "markdown",
      "source": [
        "### Categories Of Type-'Free' And 'Paid'"
      ],
      "metadata": {
        "id": "KNlQILsNQDxn"
      }
    },
    {
      "cell_type": "markdown",
      "source": [
        "Paid apps vs Free apps"
      ],
      "metadata": {
        "id": "T3d-i9-WQHVx"
      }
    },
    {
      "cell_type": "code",
      "source": [
        "#plotting a graph between free and paid apps\n",
        "plt.figure(figsize=(8,8))\n",
        "labels = play_store_df['Type'].value_counts(sort = True).index\n",
        "sizes = play_store_df['Type'].value_counts(sort = True)\n",
        "colors = [\"orange\",\"blue\"]\n",
        "explode = (0.2,0)\n",
        "plt.pie(sizes, explode=explode, labels=labels, colors=colors, autopct='%1.1f%%', shadow=True, startangle=0)\n",
        "plt.title('Percentage of Free Vs Paid Apps in store',size = 20)\n",
        "plt.show()"
      ],
      "metadata": {
        "id": "2UlE-qqZQKc_"
      },
      "execution_count": null,
      "outputs": []
    },
    {
      "cell_type": "markdown",
      "source": [
        "We can see from the graph above that 92% of the apps in the Google Play store are free, while 8% are paid."
      ],
      "metadata": {
        "id": "0XXFRFwzQOxT"
      }
    },
    {
      "cell_type": "markdown",
      "source": [
        "### Installs"
      ],
      "metadata": {
        "id": "IHgoYwClQRCZ"
      }
    },
    {
      "cell_type": "markdown",
      "source": [
        "Let us check, which category App’s have the most number of installs?"
      ],
      "metadata": {
        "id": "1AHE-sPtQUwV"
      }
    },
    {
      "cell_type": "code",
      "source": [
        "# defining x\n",
        "x = play_store_df.groupby('Category')['Installs'].agg(np.sum)"
      ],
      "metadata": {
        "id": "uY4E1s77QXR5"
      },
      "execution_count": null,
      "outputs": []
    },
    {
      "cell_type": "code",
      "source": [
        "# plotting line graph to determine category highest installations\n",
        "plt.figure(figsize=(18,8))\n",
        "plt.plot(x ,  color='blue', marker='.')\n",
        "plt.xticks(rotation=90)\n",
        "plt.xlabel('Categories---->')\n",
        "plt.ylabel('Installs---->')\n",
        "plt.title('Category vs Installs')\n",
        "plt.grid()\n",
        "plt.show()"
      ],
      "metadata": {
        "id": "i7XddhAHQaAE"
      },
      "execution_count": null,
      "outputs": []
    },
    {
      "cell_type": "markdown",
      "source": [
        "Graph clearly shows that apps in game category have been installed the highest followed by apps in family category and then apps in travel and local."
      ],
      "metadata": {
        "id": "HZBkg22rQgTp"
      }
    },
    {
      "cell_type": "code",
      "source": [
        "# top 10 install app based on category\n",
        "def top10incategory_installs(str):\n",
        "    str = str.upper()\n",
        "    top10 = play_store_df[play_store_df['Category'] == str]\n",
        "    top10apps = top10.sort_values(by='Installs', ascending=False).head(10)\n",
        "    # Top_Apps_in_art_and_design\n",
        "    plt.figure(figsize=(15,12))\n",
        "    plt.title('Top 10 Installed Apps',size = 20);\n",
        "    plt.xlabel('App', fontsize= 15)\n",
        "    plt.ylabel('Installs',fontsize= 15)\n",
        "    graph = sns.barplot(x = top10apps.App, y = top10apps.Installs)\n",
        "    graph.set_xticklabels(graph.get_xticklabels(), rotation= 45, horizontalalignment='right');"
      ],
      "metadata": {
        "id": "d_xkCWWBQuoo"
      },
      "execution_count": null,
      "outputs": []
    },
    {
      "cell_type": "markdown",
      "source": [
        "After we are done with defining the function, it’s time to check and see if everything is working fine. So let’s test it by passing Game category to the above-defined function."
      ],
      "metadata": {
        "id": "TrhvxcNZQ_vJ"
      }
    },
    {
      "cell_type": "code",
      "source": [
        "#calling the function\n",
        "top10incategory_installs('Game')"
      ],
      "metadata": {
        "id": "5gbHnFplRB5n"
      },
      "execution_count": null,
      "outputs": []
    },
    {
      "cell_type": "markdown",
      "source": [
        "Subway Surfers has the most instals in the Game category, as shown in the graph above. In the same way, we can obtain the top 10 installed apps by passing various category names to the function."
      ],
      "metadata": {
        "id": "sPhn7J8FRSE1"
      }
    },
    {
      "cell_type": "markdown",
      "source": [
        "### Price"
      ],
      "metadata": {
        "id": "xAavCKUfRVKe"
      }
    },
    {
      "cell_type": "markdown",
      "source": [
        "Let us Visualize, which are the top 10 expensive Apps in the play store?"
      ],
      "metadata": {
        "id": "s8D80B5bRZJt"
      }
    },
    {
      "cell_type": "code",
      "source": [
        "# We will again need to create a separate data frame.\n",
        "top10PaidApps_df = play_store_df[play_store_df['Type'] == 'Paid'].sort_values(by='Price', ascending=False).head(11)"
      ],
      "metadata": {
        "id": "Tsn5SCvLRbnd"
      },
      "execution_count": null,
      "outputs": []
    },
    {
      "cell_type": "code",
      "source": [
        "#ploting the top 10 expensive App\n",
        "plt.figure(figsize=(12,9));\n",
        "plt.pie(top10PaidApps_df.Installs, explode=None, labels=top10PaidApps_df.App, autopct='%1.1f%%', startangle= -50);\n",
        "plt.title('Top Expensive Apps Distribution',size = 20);\n",
        "plt.legend(top10PaidApps_df.App,\n",
        "           loc=\"top left\",\n",
        "           title=\"Apps\",\n",
        "           fontsize = \"xx-small\"\n",
        "          );"
      ],
      "metadata": {
        "id": "0gd3T8aoRiAP"
      },
      "execution_count": null,
      "outputs": []
    },
    {
      "cell_type": "markdown",
      "source": [
        "From the above graph, we can interpret that the App 'I am rich Premium' is the most expensive app in the google play store followed by 'I am Rich'."
      ],
      "metadata": {
        "id": "DdAv7_iDRvIA"
      }
    },
    {
      "cell_type": "code",
      "source": [
        "#Discription of feature Price\n",
        "print('The mean price of an App in playstore is',play_store_df['Price'].mean())\n",
        "print('The maximum price of an App in playstore is',play_store_df['Price'].max())\n",
        "play_store_df['Price'].describe()"
      ],
      "metadata": {
        "id": "IKVjvMcXRx3D"
      },
      "execution_count": null,
      "outputs": []
    },
    {
      "cell_type": "markdown",
      "source": [
        "### Size"
      ],
      "metadata": {
        "id": "IdFWpKBTR8jU"
      }
    },
    {
      "cell_type": "code",
      "source": [
        "# Plotting a line graph to determine size distribution\n",
        "plt.figure(figsize=(10,5))\n",
        "plt.xlabel(\"Size(in MB)\")\n",
        "plt.ylabel(\"Frequency\")\n",
        "plt.grid()\n",
        "size_distribution_graph = sns.kdeplot(play_store_df['Size(in MB)'], color=\"lightgreen\", shade = True)\n",
        "plt.title('Average size',size = 20);"
      ],
      "metadata": {
        "id": "P06jhZlWSB_l"
      },
      "execution_count": null,
      "outputs": []
    },
    {
      "cell_type": "code",
      "source": [
        "print('The median size of an App in playstore is',play_store_df['Size(in MB)'].median())\n",
        "print('The maximum size of an App in playstore is',play_store_df['Size(in MB)'].max())"
      ],
      "metadata": {
        "id": "NiRzESyBSEu6"
      },
      "execution_count": null,
      "outputs": []
    },
    {
      "cell_type": "code",
      "source": [
        "# Plotting a boxplot graph to determine size distribution\n",
        "plt.figure(figsize=(10,5))\n",
        "plt.xlabel(\"Size(in MB)\")\n",
        "plt.ylabel(\"No of apps\")\n",
        "plt.grid()\n",
        "size_distribution_graph = sns.boxplot(play_store_df['Size(in MB)'], color=\"lightgreen\")\n",
        "plt.title('Average size',size = 20);"
      ],
      "metadata": {
        "id": "pS8Vqa4rSHcg"
      },
      "execution_count": null,
      "outputs": []
    },
    {
      "cell_type": "markdown",
      "source": [
        "As we can see from the box plot above,\n",
        "\n",
        "* 25% of apps are under 5 MB\n",
        "* 25% of apps are between 30 Mb to 63 Mb\n",
        "* Majority i.e. 50% lies between 5 Mb to 30 Mb.\n",
        "* Many outliers are all the way upto 100 Mb\n",
        "* Median is 12 Mb"
      ],
      "metadata": {
        "id": "EX9TLSfWSK0s"
      }
    },
    {
      "cell_type": "markdown",
      "source": [
        "### Reviews"
      ],
      "metadata": {
        "id": "fE2PwgrASUrk"
      }
    },
    {
      "cell_type": "markdown",
      "source": [
        "Apps which are highly reviewed"
      ],
      "metadata": {
        "id": "cSGSdKO8SWSt"
      }
    },
    {
      "cell_type": "code",
      "source": [
        "Apps_and_reviews= play_store_df.groupby('App')[['Reviews']].mean().sort_values('Reviews', ascending=False).head(10).reset_index()\n",
        "sns.barplot(y = Apps_and_reviews['App'], x = Apps_and_reviews['Reviews'])\n",
        "plt.title('Apps with highest ratings')\n",
        "plt.show()"
      ],
      "metadata": {
        "id": "zbQE4dTOSZ0X"
      },
      "execution_count": null,
      "outputs": []
    },
    {
      "cell_type": "code",
      "source": [
        "print(\"Number of Apps with more than 1M reviews\",play_store_df[play_store_df['Reviews'] > 1000000].shape[0])\n",
        "print(\"\\nTop 20 apps with most reviews: \\n\",play_store_df[play_store_df['Reviews'] > 1000000].sort_values(by = 'Reviews', ascending = False).head(20)['App'])"
      ],
      "metadata": {
        "id": "kWGTtTOASgJe"
      },
      "execution_count": null,
      "outputs": []
    },
    {
      "cell_type": "markdown",
      "source": [
        "### Genres"
      ],
      "metadata": {
        "id": "gTWZgXxPSi4Q"
      }
    },
    {
      "cell_type": "code",
      "source": [
        "#top 10 Genres Value Counts\n",
        "genres_count=play_store_df['Genres'].value_counts().reset_index()\n",
        "genres_count.rename(columns={'index':'Genres','Genres':'count'},inplace=True)\n",
        "top_10_genres=genres_count.head(10)"
      ],
      "metadata": {
        "id": "c4ub4AWPSiQX"
      },
      "execution_count": null,
      "outputs": []
    },
    {
      "cell_type": "code",
      "source": [
        "#Pie plot of Top 15 genres Count\n",
        "plt.rcParams['figure.figsize'] = (20, 10)\n",
        "plt.pie(top_10_genres['count'],labels=top_10_genres['Genres'],autopct='%.0f%%')\n",
        "plt.title('Pie plot of Top 10 genres Count')\n",
        "plt.grid()\n",
        "plt.show()"
      ],
      "metadata": {
        "id": "VqbcLd0vSodh"
      },
      "execution_count": null,
      "outputs": []
    },
    {
      "cell_type": "markdown",
      "source": [
        "Tools is the most used genre in apps."
      ],
      "metadata": {
        "id": "BIbJm6AUSvMQ"
      }
    },
    {
      "cell_type": "markdown",
      "source": [
        "### Correlation Heatmap"
      ],
      "metadata": {
        "id": "YPVpBu91SyLF"
      }
    },
    {
      "cell_type": "code",
      "source": [
        "#Correlation\n",
        "play_store_df.corr()"
      ],
      "metadata": {
        "id": "Wt3FzbDjS3qT"
      },
      "execution_count": null,
      "outputs": []
    },
    {
      "cell_type": "code",
      "source": [
        "#Correlation Heatmap\n",
        "plt.figure(figsize = (10,6))\n",
        "sns.heatmap(play_store_df.corr(), annot= True)\n",
        "plt.title(\"Correlation Heatmap\",fontsize=20)"
      ],
      "metadata": {
        "id": "cQxyKE9oS6jk"
      },
      "execution_count": null,
      "outputs": []
    },
    {
      "cell_type": "code",
      "source": [
        "#Regression Plot Of Installs And Reviews\n",
        "plt.figure(figsize = (10,6))\n",
        "sns.regplot(x=\"Installs\",y=\"Reviews\",data=play_store_df)\n",
        "plt.title(\"Regression Plot of Installs And Reviews\",fontsize=25)\n",
        "plt.grid()"
      ],
      "metadata": {
        "id": "oIeHDh7qS90H"
      },
      "execution_count": null,
      "outputs": []
    },
    {
      "cell_type": "markdown",
      "source": [
        "## User Reviews Data"
      ],
      "metadata": {
        "id": "6gs9mtkBT6Hf"
      }
    },
    {
      "cell_type": "code",
      "source": [
        "#First Look Of User Reviews Data\n",
        "user_review.head()"
      ],
      "metadata": {
        "id": "XaXsMZ1OUGiS"
      },
      "execution_count": null,
      "outputs": []
    },
    {
      "cell_type": "code",
      "source": [
        "user_review.info()"
      ],
      "metadata": {
        "id": "JAPnNgAHUJVB"
      },
      "execution_count": null,
      "outputs": []
    },
    {
      "cell_type": "markdown",
      "source": [
        "### Handling missing values"
      ],
      "metadata": {
        "id": "Wj_fsdIgUNtQ"
      }
    },
    {
      "cell_type": "code",
      "source": [
        "#data of Translated null values\n",
        "user_review[user_review['Translated_Review'].isnull()].head()"
      ],
      "metadata": {
        "id": "U37KjeLLUMGo"
      },
      "execution_count": null,
      "outputs": []
    },
    {
      "cell_type": "code",
      "source": [
        "#Dropping Nulls of Translated Review as all other feature values are also null\n",
        "user_review.dropna(subset=['Translated_Review'],inplace=True)"
      ],
      "metadata": {
        "id": "jxyR2IEyUTYK"
      },
      "execution_count": null,
      "outputs": []
    },
    {
      "cell_type": "code",
      "source": [
        "#Checking data after removing nulls\n",
        "user_review.info()"
      ],
      "metadata": {
        "id": "8tf7e7LBUYZZ"
      },
      "execution_count": null,
      "outputs": []
    },
    {
      "cell_type": "markdown",
      "source": [
        "### Combining Both Datasets"
      ],
      "metadata": {
        "id": "CMrjyftiUa8Z"
      }
    },
    {
      "cell_type": "code",
      "source": [
        "#unique apps is user_reviews_data\n",
        "user_review['App'].nunique()"
      ],
      "metadata": {
        "id": "v8eWxTriUfmn"
      },
      "execution_count": null,
      "outputs": []
    },
    {
      "cell_type": "code",
      "source": [
        "#unique apps is play_store_data\n",
        "play_store_df['App'].nunique()"
      ],
      "metadata": {
        "id": "5cCkmw15Uh4v"
      },
      "execution_count": null,
      "outputs": []
    },
    {
      "cell_type": "code",
      "source": [
        "#Merging both data\n",
        "combined_data=pd.merge(play_store_df,user_review, on='App')"
      ],
      "metadata": {
        "id": "6itfUyjDUkSt"
      },
      "execution_count": null,
      "outputs": []
    },
    {
      "cell_type": "code",
      "source": [
        "#Unique Apps in combined data\n",
        "combined_data['App'].nunique()"
      ],
      "metadata": {
        "id": "Mb-ygBSoUmjA"
      },
      "execution_count": null,
      "outputs": []
    },
    {
      "cell_type": "code",
      "source": [
        "#About combined data\n",
        "combined_data.isnull().sum()"
      ],
      "metadata": {
        "id": "2sZxQ245UpeY"
      },
      "execution_count": null,
      "outputs": []
    },
    {
      "cell_type": "markdown",
      "source": [
        "## Analysis Of Combined Data"
      ],
      "metadata": {
        "id": "Q1Tnof2dUun5"
      }
    },
    {
      "cell_type": "markdown",
      "source": [
        "### Sentiment"
      ],
      "metadata": {
        "id": "gkYMwpUYU2BH"
      }
    },
    {
      "cell_type": "code",
      "source": [
        "#Sentiment count\n",
        "sentiment_count= combined_data.Sentiment.value_counts().reset_index().rename(columns={'index':'Sentiment','Sentiment':'count'})\n",
        "sentiment_count"
      ],
      "metadata": {
        "id": "bPQJ7EHWU5GW"
      },
      "execution_count": null,
      "outputs": []
    },
    {
      "cell_type": "code",
      "source": [
        "#Pieplot of Sentiment Count\n",
        "plt.rcParams['figure.figsize'] = (15, 7)\n",
        "plt.pie(sentiment_count['count'],labels=sentiment_count['Sentiment'],autopct='%.0f%%',explode=(0,0.05,0.05))\n",
        "plt.title('Pie plot of Sentiment Count',size=15)\n",
        "plt.show()"
      ],
      "metadata": {
        "id": "OKfJW_ZJU85s"
      },
      "execution_count": null,
      "outputs": []
    },
    {
      "cell_type": "markdown",
      "source": [
        "This chart interprets that most of the reviews are positive."
      ],
      "metadata": {
        "id": "GHTvBZ7ZVAQ5"
      }
    },
    {
      "cell_type": "code",
      "source": [
        "#Categoriwise Sentiment Count\n",
        "categoriwise_sentiment_count=combined_data.groupby(['Category','Sentiment'])['Sentiment'].count().reset_index(name='count')\n",
        "categoriwise_sentiment_count.head()"
      ],
      "metadata": {
        "id": "lcFJSXUGVCju"
      },
      "execution_count": null,
      "outputs": []
    },
    {
      "cell_type": "code",
      "source": [
        "#Barplot of categoriwise_sentiment_count\n",
        "sns.barplot(x=\"Category\", y=\"count\", hue=\"Sentiment\", data=categoriwise_sentiment_count)\n",
        "plt.xticks(rotation=90, horizontalalignment=\"center\")\n",
        "plt.title(\"Category-wise sentiment count\",fontsize=20)\n",
        "plt.xlabel(\"Category\", fontsize= 15)\n",
        "plt.ylabel(\"Sentiments\", fontsize= 15)"
      ],
      "metadata": {
        "id": "g2slKlmZVE9m"
      },
      "execution_count": null,
      "outputs": []
    },
    {
      "cell_type": "markdown",
      "source": [
        "This graph represents sentimnet analysis of the audience based on the categories, it can be observed that all the categories have more positive reviews than negatives."
      ],
      "metadata": {
        "id": "OHzw70YuVH46"
      }
    },
    {
      "cell_type": "markdown",
      "source": [
        "# Conclusion"
      ],
      "metadata": {
        "id": "fIoRuZxYVJwY"
      }
    },
    {
      "cell_type": "markdown",
      "source": [
        "Joining the dots from given datasets, we came across a lot of information. After analysis and visualization, information can be classified into beneficial for customers and beneficial for developers. We discovered the top app categories, the most popular app categories, the proportion of free and paid apps, and the average app size. This information enables customers and users to make informed download decisions.\n",
        "\n",
        "Game category has the highest engagement\n",
        "\n",
        "• Thus, if fast growth is expected then introducing good quality game app of suitable size can work as a charm.\n",
        "\n",
        "Opportunities\n",
        "\n",
        "• Various apps category like Medical, food & drinks, Health & fitness and business & finances have positive sentimental advantage from users but the population of apps is less in those categories creating opportunities for new players"
      ],
      "metadata": {
        "id": "KhnWbDHwVP6C"
      }
    }
  ]
}