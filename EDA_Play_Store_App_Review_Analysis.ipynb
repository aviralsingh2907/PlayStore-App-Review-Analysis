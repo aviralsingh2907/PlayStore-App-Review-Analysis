{
  "nbformat": 4,
  "nbformat_minor": 0,
  "metadata": {
    "colab": {
      "provenance": [],
      "collapsed_sections": [
        "ewFej_mGLppz",
        "MPqYf_0mL4vC",
        "9QV2yu99NHZz",
        "hsF7MQZzNdz0"
      ],
      "authorship_tag": "ABX9TyMgKxLG/aYoc0aIggJlgAOW",
      "include_colab_link": true
    },
    "kernelspec": {
      "name": "python3",
      "display_name": "Python 3"
    },
    "language_info": {
      "name": "python"
    }
  },
  "cells": [
    {
      "cell_type": "markdown",
      "metadata": {
        "id": "view-in-github",
        "colab_type": "text"
      },
      "source": [
        "<a href=\"https://colab.research.google.com/github/aviralsingh2907/PlayStore-App-Review-Analysis/blob/main/EDA_Play_Store_App_Review_Analysis.ipynb\" target=\"_parent\"><img src=\"https://colab.research.google.com/assets/colab-badge.svg\" alt=\"Open In Colab\"/></a>"
      ]
    },
    {
      "cell_type": "markdown",
      "source": [
        "# <b><u>Exploratory Data Analysis</u> - <u>Play Store App Review Analysis</u></b>"
      ],
      "metadata": {
        "id": "ZJnWU69DEdA3"
      }
    },
    {
      "cell_type": "markdown",
      "source": [
        "##### **Project Type**    - EDA\n",
        "##### **Contribution**    - Individual\n",
        "##### **Team Member**     - Aviral Singh"
      ],
      "metadata": {
        "id": "zX3NmTujEsg_"
      }
    },
    {
      "cell_type": "markdown",
      "source": [
        "# <b><u>Project Summary</u>:</b>"
      ],
      "metadata": {
        "id": "bUYb-r8GE-1N"
      }
    },
    {
      "cell_type": "markdown",
      "source": [
        "# **<u>GitHub Link</u>:**"
      ],
      "metadata": {
        "id": "uwjiq0brFEwv"
      }
    },
    {
      "cell_type": "markdown",
      "source": [
        "# <b><u>Problem Statement</u>:</b>"
      ],
      "metadata": {
        "id": "n8TXBoB4FJy_"
      }
    },
    {
      "cell_type": "markdown",
      "source": [
        "The Play Store apps data has enormous potential to drive app-making businesses to success. Actionable insights can be drawn for developers to work on and capture the Android market.\n",
        "\n",
        "Each app (row) has values for catergory, rating, size, and more. Another dataset contains customer reviews of the android apps.\n",
        "\n",
        "Explore and analyze the data to discover key factors responsible for app engagement and success."
      ],
      "metadata": {
        "id": "gKVASrL5FSNQ"
      }
    },
    {
      "cell_type": "markdown",
      "source": [
        "# <b><u>Dataset Import</u>:</b>"
      ],
      "metadata": {
        "id": "XtXp8dtNAWsp"
      }
    },
    {
      "cell_type": "code",
      "execution_count": 1,
      "metadata": {
        "id": "X0RYKIm3CAdb",
        "colab": {
          "base_uri": "https://localhost:8080/"
        },
        "outputId": "1ca08de2-f6b7-43b7-d15a-50c5f4ffef75"
      },
      "outputs": [
        {
          "output_type": "stream",
          "name": "stdout",
          "text": [
            "Mounted at /content/drive\n"
          ]
        }
      ],
      "source": [
        "# Importing package:\n",
        "\n",
        "import pandas as pd\n",
        "import numpy as np\n",
        "from google.colab import drive\n",
        "import matplotlib.pyplot as plt\n",
        "import matplotlib as mpl\n",
        "import seaborn as sns\n",
        "\n",
        "\n",
        "drive.mount('/content/drive')"
      ]
    },
    {
      "cell_type": "code",
      "source": [
        "# Importing the datasets:\n",
        "\n",
        "playstore_df_main = pd.read_csv('/content/drive/MyDrive/Portfolio Project/EDA - Play Store App Review/Play Store Data.csv')\n",
        "user_review_df_main = pd.read_csv('/content/drive/MyDrive/Portfolio Project/EDA - Play Store App Review/User Reviews.csv')"
      ],
      "metadata": {
        "id": "lUZB6QGRGLPS"
      },
      "execution_count": 2,
      "outputs": []
    },
    {
      "cell_type": "code",
      "source": [
        "# Creating copies:\n",
        "\n",
        "playstore_df = playstore_df_main.copy()\n",
        "user_review_df = user_review_df_main.copy()"
      ],
      "metadata": {
        "id": "5LCpB2qZIIBf"
      },
      "execution_count": 3,
      "outputs": []
    },
    {
      "cell_type": "code",
      "source": [
        "playstore_df.head(5)"
      ],
      "metadata": {
        "colab": {
          "base_uri": "https://localhost:8080/",
          "height": 206
        },
        "id": "QX5dTQBgIwih",
        "outputId": "8247cbca-f513-4967-9857-21fd72770aae"
      },
      "execution_count": 4,
      "outputs": [
        {
          "output_type": "execute_result",
          "data": {
            "text/plain": [
              "                                                 App        Category  Rating  \\\n",
              "0     Photo Editor & Candy Camera & Grid & ScrapBook  ART_AND_DESIGN     4.1   \n",
              "1                                Coloring book moana  ART_AND_DESIGN     3.9   \n",
              "2  U Launcher Lite – FREE Live Cool Themes, Hide ...  ART_AND_DESIGN     4.7   \n",
              "3                              Sketch - Draw & Paint  ART_AND_DESIGN     4.5   \n",
              "4              Pixel Draw - Number Art Coloring Book  ART_AND_DESIGN     4.3   \n",
              "\n",
              "  Reviews  Size     Installs  Type Price Content Rating  \\\n",
              "0     159   19M      10,000+  Free     0       Everyone   \n",
              "1     967   14M     500,000+  Free     0       Everyone   \n",
              "2   87510  8.7M   5,000,000+  Free     0       Everyone   \n",
              "3  215644   25M  50,000,000+  Free     0           Teen   \n",
              "4     967  2.8M     100,000+  Free     0       Everyone   \n",
              "\n",
              "                      Genres      Last Updated         Current Ver  \\\n",
              "0               Art & Design   January 7, 2018               1.0.0   \n",
              "1  Art & Design;Pretend Play  January 15, 2018               2.0.0   \n",
              "2               Art & Design    August 1, 2018               1.2.4   \n",
              "3               Art & Design      June 8, 2018  Varies with device   \n",
              "4    Art & Design;Creativity     June 20, 2018                 1.1   \n",
              "\n",
              "    Android Ver  \n",
              "0  4.0.3 and up  \n",
              "1  4.0.3 and up  \n",
              "2  4.0.3 and up  \n",
              "3    4.2 and up  \n",
              "4    4.4 and up  "
            ],
            "text/html": [
              "\n",
              "  <div id=\"df-fbbb9754-a566-47b1-96aa-b95faa6eeaab\">\n",
              "    <div class=\"colab-df-container\">\n",
              "      <div>\n",
              "<style scoped>\n",
              "    .dataframe tbody tr th:only-of-type {\n",
              "        vertical-align: middle;\n",
              "    }\n",
              "\n",
              "    .dataframe tbody tr th {\n",
              "        vertical-align: top;\n",
              "    }\n",
              "\n",
              "    .dataframe thead th {\n",
              "        text-align: right;\n",
              "    }\n",
              "</style>\n",
              "<table border=\"1\" class=\"dataframe\">\n",
              "  <thead>\n",
              "    <tr style=\"text-align: right;\">\n",
              "      <th></th>\n",
              "      <th>App</th>\n",
              "      <th>Category</th>\n",
              "      <th>Rating</th>\n",
              "      <th>Reviews</th>\n",
              "      <th>Size</th>\n",
              "      <th>Installs</th>\n",
              "      <th>Type</th>\n",
              "      <th>Price</th>\n",
              "      <th>Content Rating</th>\n",
              "      <th>Genres</th>\n",
              "      <th>Last Updated</th>\n",
              "      <th>Current Ver</th>\n",
              "      <th>Android Ver</th>\n",
              "    </tr>\n",
              "  </thead>\n",
              "  <tbody>\n",
              "    <tr>\n",
              "      <th>0</th>\n",
              "      <td>Photo Editor &amp; Candy Camera &amp; Grid &amp; ScrapBook</td>\n",
              "      <td>ART_AND_DESIGN</td>\n",
              "      <td>4.1</td>\n",
              "      <td>159</td>\n",
              "      <td>19M</td>\n",
              "      <td>10,000+</td>\n",
              "      <td>Free</td>\n",
              "      <td>0</td>\n",
              "      <td>Everyone</td>\n",
              "      <td>Art &amp; Design</td>\n",
              "      <td>January 7, 2018</td>\n",
              "      <td>1.0.0</td>\n",
              "      <td>4.0.3 and up</td>\n",
              "    </tr>\n",
              "    <tr>\n",
              "      <th>1</th>\n",
              "      <td>Coloring book moana</td>\n",
              "      <td>ART_AND_DESIGN</td>\n",
              "      <td>3.9</td>\n",
              "      <td>967</td>\n",
              "      <td>14M</td>\n",
              "      <td>500,000+</td>\n",
              "      <td>Free</td>\n",
              "      <td>0</td>\n",
              "      <td>Everyone</td>\n",
              "      <td>Art &amp; Design;Pretend Play</td>\n",
              "      <td>January 15, 2018</td>\n",
              "      <td>2.0.0</td>\n",
              "      <td>4.0.3 and up</td>\n",
              "    </tr>\n",
              "    <tr>\n",
              "      <th>2</th>\n",
              "      <td>U Launcher Lite – FREE Live Cool Themes, Hide ...</td>\n",
              "      <td>ART_AND_DESIGN</td>\n",
              "      <td>4.7</td>\n",
              "      <td>87510</td>\n",
              "      <td>8.7M</td>\n",
              "      <td>5,000,000+</td>\n",
              "      <td>Free</td>\n",
              "      <td>0</td>\n",
              "      <td>Everyone</td>\n",
              "      <td>Art &amp; Design</td>\n",
              "      <td>August 1, 2018</td>\n",
              "      <td>1.2.4</td>\n",
              "      <td>4.0.3 and up</td>\n",
              "    </tr>\n",
              "    <tr>\n",
              "      <th>3</th>\n",
              "      <td>Sketch - Draw &amp; Paint</td>\n",
              "      <td>ART_AND_DESIGN</td>\n",
              "      <td>4.5</td>\n",
              "      <td>215644</td>\n",
              "      <td>25M</td>\n",
              "      <td>50,000,000+</td>\n",
              "      <td>Free</td>\n",
              "      <td>0</td>\n",
              "      <td>Teen</td>\n",
              "      <td>Art &amp; Design</td>\n",
              "      <td>June 8, 2018</td>\n",
              "      <td>Varies with device</td>\n",
              "      <td>4.2 and up</td>\n",
              "    </tr>\n",
              "    <tr>\n",
              "      <th>4</th>\n",
              "      <td>Pixel Draw - Number Art Coloring Book</td>\n",
              "      <td>ART_AND_DESIGN</td>\n",
              "      <td>4.3</td>\n",
              "      <td>967</td>\n",
              "      <td>2.8M</td>\n",
              "      <td>100,000+</td>\n",
              "      <td>Free</td>\n",
              "      <td>0</td>\n",
              "      <td>Everyone</td>\n",
              "      <td>Art &amp; Design;Creativity</td>\n",
              "      <td>June 20, 2018</td>\n",
              "      <td>1.1</td>\n",
              "      <td>4.4 and up</td>\n",
              "    </tr>\n",
              "  </tbody>\n",
              "</table>\n",
              "</div>\n",
              "      <button class=\"colab-df-convert\" onclick=\"convertToInteractive('df-fbbb9754-a566-47b1-96aa-b95faa6eeaab')\"\n",
              "              title=\"Convert this dataframe to an interactive table.\"\n",
              "              style=\"display:none;\">\n",
              "        \n",
              "  <svg xmlns=\"http://www.w3.org/2000/svg\" height=\"24px\"viewBox=\"0 0 24 24\"\n",
              "       width=\"24px\">\n",
              "    <path d=\"M0 0h24v24H0V0z\" fill=\"none\"/>\n",
              "    <path d=\"M18.56 5.44l.94 2.06.94-2.06 2.06-.94-2.06-.94-.94-2.06-.94 2.06-2.06.94zm-11 1L8.5 8.5l.94-2.06 2.06-.94-2.06-.94L8.5 2.5l-.94 2.06-2.06.94zm10 10l.94 2.06.94-2.06 2.06-.94-2.06-.94-.94-2.06-.94 2.06-2.06.94z\"/><path d=\"M17.41 7.96l-1.37-1.37c-.4-.4-.92-.59-1.43-.59-.52 0-1.04.2-1.43.59L10.3 9.45l-7.72 7.72c-.78.78-.78 2.05 0 2.83L4 21.41c.39.39.9.59 1.41.59.51 0 1.02-.2 1.41-.59l7.78-7.78 2.81-2.81c.8-.78.8-2.07 0-2.86zM5.41 20L4 18.59l7.72-7.72 1.47 1.35L5.41 20z\"/>\n",
              "  </svg>\n",
              "      </button>\n",
              "      \n",
              "  <style>\n",
              "    .colab-df-container {\n",
              "      display:flex;\n",
              "      flex-wrap:wrap;\n",
              "      gap: 12px;\n",
              "    }\n",
              "\n",
              "    .colab-df-convert {\n",
              "      background-color: #E8F0FE;\n",
              "      border: none;\n",
              "      border-radius: 50%;\n",
              "      cursor: pointer;\n",
              "      display: none;\n",
              "      fill: #1967D2;\n",
              "      height: 32px;\n",
              "      padding: 0 0 0 0;\n",
              "      width: 32px;\n",
              "    }\n",
              "\n",
              "    .colab-df-convert:hover {\n",
              "      background-color: #E2EBFA;\n",
              "      box-shadow: 0px 1px 2px rgba(60, 64, 67, 0.3), 0px 1px 3px 1px rgba(60, 64, 67, 0.15);\n",
              "      fill: #174EA6;\n",
              "    }\n",
              "\n",
              "    [theme=dark] .colab-df-convert {\n",
              "      background-color: #3B4455;\n",
              "      fill: #D2E3FC;\n",
              "    }\n",
              "\n",
              "    [theme=dark] .colab-df-convert:hover {\n",
              "      background-color: #434B5C;\n",
              "      box-shadow: 0px 1px 3px 1px rgba(0, 0, 0, 0.15);\n",
              "      filter: drop-shadow(0px 1px 2px rgba(0, 0, 0, 0.3));\n",
              "      fill: #FFFFFF;\n",
              "    }\n",
              "  </style>\n",
              "\n",
              "      <script>\n",
              "        const buttonEl =\n",
              "          document.querySelector('#df-fbbb9754-a566-47b1-96aa-b95faa6eeaab button.colab-df-convert');\n",
              "        buttonEl.style.display =\n",
              "          google.colab.kernel.accessAllowed ? 'block' : 'none';\n",
              "\n",
              "        async function convertToInteractive(key) {\n",
              "          const element = document.querySelector('#df-fbbb9754-a566-47b1-96aa-b95faa6eeaab');\n",
              "          const dataTable =\n",
              "            await google.colab.kernel.invokeFunction('convertToInteractive',\n",
              "                                                     [key], {});\n",
              "          if (!dataTable) return;\n",
              "\n",
              "          const docLinkHtml = 'Like what you see? Visit the ' +\n",
              "            '<a target=\"_blank\" href=https://colab.research.google.com/notebooks/data_table.ipynb>data table notebook</a>'\n",
              "            + ' to learn more about interactive tables.';\n",
              "          element.innerHTML = '';\n",
              "          dataTable['output_type'] = 'display_data';\n",
              "          await google.colab.output.renderOutput(dataTable, element);\n",
              "          const docLink = document.createElement('div');\n",
              "          docLink.innerHTML = docLinkHtml;\n",
              "          element.appendChild(docLink);\n",
              "        }\n",
              "      </script>\n",
              "    </div>\n",
              "  </div>\n",
              "  "
            ]
          },
          "metadata": {},
          "execution_count": 4
        }
      ]
    },
    {
      "cell_type": "code",
      "source": [
        "user_review_df.head(5)"
      ],
      "metadata": {
        "colab": {
          "base_uri": "https://localhost:8080/",
          "height": 206
        },
        "id": "zUIsTEr_I5BC",
        "outputId": "9239787c-5d51-4208-fe83-c2bc1c0cfbbb"
      },
      "execution_count": 5,
      "outputs": [
        {
          "output_type": "execute_result",
          "data": {
            "text/plain": [
              "                     App                                  Translated_Review  \\\n",
              "0  10 Best Foods for You  I like eat delicious food. That's I'm cooking ...   \n",
              "1  10 Best Foods for You    This help eating healthy exercise regular basis   \n",
              "2  10 Best Foods for You                                                NaN   \n",
              "3  10 Best Foods for You         Works great especially going grocery store   \n",
              "4  10 Best Foods for You                                       Best idea us   \n",
              "\n",
              "  Sentiment  Sentiment_Polarity  Sentiment_Subjectivity  \n",
              "0  Positive                1.00                0.533333  \n",
              "1  Positive                0.25                0.288462  \n",
              "2       NaN                 NaN                     NaN  \n",
              "3  Positive                0.40                0.875000  \n",
              "4  Positive                1.00                0.300000  "
            ],
            "text/html": [
              "\n",
              "  <div id=\"df-930d1fbb-66cc-4672-a67b-84700dc50919\">\n",
              "    <div class=\"colab-df-container\">\n",
              "      <div>\n",
              "<style scoped>\n",
              "    .dataframe tbody tr th:only-of-type {\n",
              "        vertical-align: middle;\n",
              "    }\n",
              "\n",
              "    .dataframe tbody tr th {\n",
              "        vertical-align: top;\n",
              "    }\n",
              "\n",
              "    .dataframe thead th {\n",
              "        text-align: right;\n",
              "    }\n",
              "</style>\n",
              "<table border=\"1\" class=\"dataframe\">\n",
              "  <thead>\n",
              "    <tr style=\"text-align: right;\">\n",
              "      <th></th>\n",
              "      <th>App</th>\n",
              "      <th>Translated_Review</th>\n",
              "      <th>Sentiment</th>\n",
              "      <th>Sentiment_Polarity</th>\n",
              "      <th>Sentiment_Subjectivity</th>\n",
              "    </tr>\n",
              "  </thead>\n",
              "  <tbody>\n",
              "    <tr>\n",
              "      <th>0</th>\n",
              "      <td>10 Best Foods for You</td>\n",
              "      <td>I like eat delicious food. That's I'm cooking ...</td>\n",
              "      <td>Positive</td>\n",
              "      <td>1.00</td>\n",
              "      <td>0.533333</td>\n",
              "    </tr>\n",
              "    <tr>\n",
              "      <th>1</th>\n",
              "      <td>10 Best Foods for You</td>\n",
              "      <td>This help eating healthy exercise regular basis</td>\n",
              "      <td>Positive</td>\n",
              "      <td>0.25</td>\n",
              "      <td>0.288462</td>\n",
              "    </tr>\n",
              "    <tr>\n",
              "      <th>2</th>\n",
              "      <td>10 Best Foods for You</td>\n",
              "      <td>NaN</td>\n",
              "      <td>NaN</td>\n",
              "      <td>NaN</td>\n",
              "      <td>NaN</td>\n",
              "    </tr>\n",
              "    <tr>\n",
              "      <th>3</th>\n",
              "      <td>10 Best Foods for You</td>\n",
              "      <td>Works great especially going grocery store</td>\n",
              "      <td>Positive</td>\n",
              "      <td>0.40</td>\n",
              "      <td>0.875000</td>\n",
              "    </tr>\n",
              "    <tr>\n",
              "      <th>4</th>\n",
              "      <td>10 Best Foods for You</td>\n",
              "      <td>Best idea us</td>\n",
              "      <td>Positive</td>\n",
              "      <td>1.00</td>\n",
              "      <td>0.300000</td>\n",
              "    </tr>\n",
              "  </tbody>\n",
              "</table>\n",
              "</div>\n",
              "      <button class=\"colab-df-convert\" onclick=\"convertToInteractive('df-930d1fbb-66cc-4672-a67b-84700dc50919')\"\n",
              "              title=\"Convert this dataframe to an interactive table.\"\n",
              "              style=\"display:none;\">\n",
              "        \n",
              "  <svg xmlns=\"http://www.w3.org/2000/svg\" height=\"24px\"viewBox=\"0 0 24 24\"\n",
              "       width=\"24px\">\n",
              "    <path d=\"M0 0h24v24H0V0z\" fill=\"none\"/>\n",
              "    <path d=\"M18.56 5.44l.94 2.06.94-2.06 2.06-.94-2.06-.94-.94-2.06-.94 2.06-2.06.94zm-11 1L8.5 8.5l.94-2.06 2.06-.94-2.06-.94L8.5 2.5l-.94 2.06-2.06.94zm10 10l.94 2.06.94-2.06 2.06-.94-2.06-.94-.94-2.06-.94 2.06-2.06.94z\"/><path d=\"M17.41 7.96l-1.37-1.37c-.4-.4-.92-.59-1.43-.59-.52 0-1.04.2-1.43.59L10.3 9.45l-7.72 7.72c-.78.78-.78 2.05 0 2.83L4 21.41c.39.39.9.59 1.41.59.51 0 1.02-.2 1.41-.59l7.78-7.78 2.81-2.81c.8-.78.8-2.07 0-2.86zM5.41 20L4 18.59l7.72-7.72 1.47 1.35L5.41 20z\"/>\n",
              "  </svg>\n",
              "      </button>\n",
              "      \n",
              "  <style>\n",
              "    .colab-df-container {\n",
              "      display:flex;\n",
              "      flex-wrap:wrap;\n",
              "      gap: 12px;\n",
              "    }\n",
              "\n",
              "    .colab-df-convert {\n",
              "      background-color: #E8F0FE;\n",
              "      border: none;\n",
              "      border-radius: 50%;\n",
              "      cursor: pointer;\n",
              "      display: none;\n",
              "      fill: #1967D2;\n",
              "      height: 32px;\n",
              "      padding: 0 0 0 0;\n",
              "      width: 32px;\n",
              "    }\n",
              "\n",
              "    .colab-df-convert:hover {\n",
              "      background-color: #E2EBFA;\n",
              "      box-shadow: 0px 1px 2px rgba(60, 64, 67, 0.3), 0px 1px 3px 1px rgba(60, 64, 67, 0.15);\n",
              "      fill: #174EA6;\n",
              "    }\n",
              "\n",
              "    [theme=dark] .colab-df-convert {\n",
              "      background-color: #3B4455;\n",
              "      fill: #D2E3FC;\n",
              "    }\n",
              "\n",
              "    [theme=dark] .colab-df-convert:hover {\n",
              "      background-color: #434B5C;\n",
              "      box-shadow: 0px 1px 3px 1px rgba(0, 0, 0, 0.15);\n",
              "      filter: drop-shadow(0px 1px 2px rgba(0, 0, 0, 0.3));\n",
              "      fill: #FFFFFF;\n",
              "    }\n",
              "  </style>\n",
              "\n",
              "      <script>\n",
              "        const buttonEl =\n",
              "          document.querySelector('#df-930d1fbb-66cc-4672-a67b-84700dc50919 button.colab-df-convert');\n",
              "        buttonEl.style.display =\n",
              "          google.colab.kernel.accessAllowed ? 'block' : 'none';\n",
              "\n",
              "        async function convertToInteractive(key) {\n",
              "          const element = document.querySelector('#df-930d1fbb-66cc-4672-a67b-84700dc50919');\n",
              "          const dataTable =\n",
              "            await google.colab.kernel.invokeFunction('convertToInteractive',\n",
              "                                                     [key], {});\n",
              "          if (!dataTable) return;\n",
              "\n",
              "          const docLinkHtml = 'Like what you see? Visit the ' +\n",
              "            '<a target=\"_blank\" href=https://colab.research.google.com/notebooks/data_table.ipynb>data table notebook</a>'\n",
              "            + ' to learn more about interactive tables.';\n",
              "          element.innerHTML = '';\n",
              "          dataTable['output_type'] = 'display_data';\n",
              "          await google.colab.output.renderOutput(dataTable, element);\n",
              "          const docLink = document.createElement('div');\n",
              "          docLink.innerHTML = docLinkHtml;\n",
              "          element.appendChild(docLink);\n",
              "        }\n",
              "      </script>\n",
              "    </div>\n",
              "  </div>\n",
              "  "
            ]
          },
          "metadata": {},
          "execution_count": 5
        }
      ]
    },
    {
      "cell_type": "code",
      "source": [
        "# Checking dataset information:\n",
        "\n",
        "playstore_df.info()"
      ],
      "metadata": {
        "colab": {
          "base_uri": "https://localhost:8080/"
        },
        "id": "gr4rc_BmJBmX",
        "outputId": "44fc20b1-258d-4999-ac81-ee0874b849e0"
      },
      "execution_count": 6,
      "outputs": [
        {
          "output_type": "stream",
          "name": "stdout",
          "text": [
            "<class 'pandas.core.frame.DataFrame'>\n",
            "RangeIndex: 10841 entries, 0 to 10840\n",
            "Data columns (total 13 columns):\n",
            " #   Column          Non-Null Count  Dtype  \n",
            "---  ------          --------------  -----  \n",
            " 0   App             10841 non-null  object \n",
            " 1   Category        10841 non-null  object \n",
            " 2   Rating          9367 non-null   float64\n",
            " 3   Reviews         10841 non-null  object \n",
            " 4   Size            10841 non-null  object \n",
            " 5   Installs        10841 non-null  object \n",
            " 6   Type            10840 non-null  object \n",
            " 7   Price           10841 non-null  object \n",
            " 8   Content Rating  10840 non-null  object \n",
            " 9   Genres          10841 non-null  object \n",
            " 10  Last Updated    10841 non-null  object \n",
            " 11  Current Ver     10833 non-null  object \n",
            " 12  Android Ver     10838 non-null  object \n",
            "dtypes: float64(1), object(12)\n",
            "memory usage: 1.1+ MB\n"
          ]
        }
      ]
    },
    {
      "cell_type": "code",
      "source": [
        "user_review_df.info()"
      ],
      "metadata": {
        "colab": {
          "base_uri": "https://localhost:8080/"
        },
        "id": "UJDipGhTKU2m",
        "outputId": "c57e45d0-fc6f-497e-e4cf-4473be4cac01"
      },
      "execution_count": 7,
      "outputs": [
        {
          "output_type": "stream",
          "name": "stdout",
          "text": [
            "<class 'pandas.core.frame.DataFrame'>\n",
            "RangeIndex: 64295 entries, 0 to 64294\n",
            "Data columns (total 5 columns):\n",
            " #   Column                  Non-Null Count  Dtype  \n",
            "---  ------                  --------------  -----  \n",
            " 0   App                     64295 non-null  object \n",
            " 1   Translated_Review       37427 non-null  object \n",
            " 2   Sentiment               37432 non-null  object \n",
            " 3   Sentiment_Polarity      37432 non-null  float64\n",
            " 4   Sentiment_Subjectivity  37432 non-null  float64\n",
            "dtypes: float64(2), object(3)\n",
            "memory usage: 2.5+ MB\n"
          ]
        }
      ]
    },
    {
      "cell_type": "code",
      "source": [
        "# Null values check:\n",
        "\n",
        "playstore_df.isnull().sum()"
      ],
      "metadata": {
        "id": "V1q3PbTL_rgb",
        "colab": {
          "base_uri": "https://localhost:8080/"
        },
        "outputId": "d770ba83-f028-4de6-c357-9fa681ec0d6c"
      },
      "execution_count": 8,
      "outputs": [
        {
          "output_type": "execute_result",
          "data": {
            "text/plain": [
              "App                  0\n",
              "Category             0\n",
              "Rating            1474\n",
              "Reviews              0\n",
              "Size                 0\n",
              "Installs             0\n",
              "Type                 1\n",
              "Price                0\n",
              "Content Rating       1\n",
              "Genres               0\n",
              "Last Updated         0\n",
              "Current Ver          8\n",
              "Android Ver          3\n",
              "dtype: int64"
            ]
          },
          "metadata": {},
          "execution_count": 8
        }
      ]
    },
    {
      "cell_type": "code",
      "source": [
        "user_review_df.isnull().sum()"
      ],
      "metadata": {
        "id": "IA2rX-Y1_59A",
        "colab": {
          "base_uri": "https://localhost:8080/"
        },
        "outputId": "2eb03611-8c04-46f6-9c02-7cebacab5901"
      },
      "execution_count": 9,
      "outputs": [
        {
          "output_type": "execute_result",
          "data": {
            "text/plain": [
              "App                           0\n",
              "Translated_Review         26868\n",
              "Sentiment                 26863\n",
              "Sentiment_Polarity        26863\n",
              "Sentiment_Subjectivity    26863\n",
              "dtype: int64"
            ]
          },
          "metadata": {},
          "execution_count": 9
        }
      ]
    },
    {
      "cell_type": "markdown",
      "source": [
        "# <b><u>Data Cleaning (Play Store Dataset)</u>:</b>"
      ],
      "metadata": {
        "id": "0ajXK1GoAEfD"
      }
    },
    {
      "cell_type": "markdown",
      "source": [
        "Cleaning raw data before processing & analysis:\n",
        "\n",
        "* Determining which parts of the data are incomplete, incorrect, inaccurate or irrelevant.\n",
        "* Replacing, changing, or deleting the soiled or coarse data."
      ],
      "metadata": {
        "id": "4swBial4A-BW"
      }
    },
    {
      "cell_type": "markdown",
      "source": [
        "Creating a function to obtain necessary information about various dataset attributes.\n",
        "\n",
        "The function can be recalled & reused in the future."
      ],
      "metadata": {
        "id": "wGiY6DWSBAW4"
      }
    },
    {
      "cell_type": "code",
      "source": [
        "# Defining the function:\n",
        "\n",
        "def necessary_info():\n",
        "    null = pd.DataFrame(index = playstore_df.columns)\n",
        "    null['data_type'] = playstore_df.dtypes\n",
        "    null['null_count'] = playstore_df.isnull().sum()\n",
        "    null['unique_count'] = playstore_df.nunique()\n",
        "    return null"
      ],
      "metadata": {
        "id": "ObOAGRN0BDUx"
      },
      "execution_count": 12,
      "outputs": []
    },
    {
      "cell_type": "code",
      "source": [
        "# Calling the function:\n",
        "\n",
        "necessary_info()"
      ],
      "metadata": {
        "id": "7RbJkjKbBKd2",
        "colab": {
          "base_uri": "https://localhost:8080/",
          "height": 457
        },
        "outputId": "da8a1196-5a7b-4fc7-8c03-882004b4de7d"
      },
      "execution_count": 13,
      "outputs": [
        {
          "output_type": "execute_result",
          "data": {
            "text/plain": [
              "               data_type  null_count  unique_count\n",
              "App               object           0          9660\n",
              "Category          object           0            34\n",
              "Rating           float64        1474            40\n",
              "Reviews           object           0          6002\n",
              "Size              object           0           462\n",
              "Installs          object           0            22\n",
              "Type              object           1             3\n",
              "Price             object           0            93\n",
              "Content Rating    object           1             6\n",
              "Genres            object           0           120\n",
              "Last Updated      object           0          1378\n",
              "Current Ver       object           8          2832\n",
              "Android Ver       object           3            33"
            ],
            "text/html": [
              "\n",
              "  <div id=\"df-51bd6d6b-57de-4f69-a081-809be7640e89\">\n",
              "    <div class=\"colab-df-container\">\n",
              "      <div>\n",
              "<style scoped>\n",
              "    .dataframe tbody tr th:only-of-type {\n",
              "        vertical-align: middle;\n",
              "    }\n",
              "\n",
              "    .dataframe tbody tr th {\n",
              "        vertical-align: top;\n",
              "    }\n",
              "\n",
              "    .dataframe thead th {\n",
              "        text-align: right;\n",
              "    }\n",
              "</style>\n",
              "<table border=\"1\" class=\"dataframe\">\n",
              "  <thead>\n",
              "    <tr style=\"text-align: right;\">\n",
              "      <th></th>\n",
              "      <th>data_type</th>\n",
              "      <th>null_count</th>\n",
              "      <th>unique_count</th>\n",
              "    </tr>\n",
              "  </thead>\n",
              "  <tbody>\n",
              "    <tr>\n",
              "      <th>App</th>\n",
              "      <td>object</td>\n",
              "      <td>0</td>\n",
              "      <td>9660</td>\n",
              "    </tr>\n",
              "    <tr>\n",
              "      <th>Category</th>\n",
              "      <td>object</td>\n",
              "      <td>0</td>\n",
              "      <td>34</td>\n",
              "    </tr>\n",
              "    <tr>\n",
              "      <th>Rating</th>\n",
              "      <td>float64</td>\n",
              "      <td>1474</td>\n",
              "      <td>40</td>\n",
              "    </tr>\n",
              "    <tr>\n",
              "      <th>Reviews</th>\n",
              "      <td>object</td>\n",
              "      <td>0</td>\n",
              "      <td>6002</td>\n",
              "    </tr>\n",
              "    <tr>\n",
              "      <th>Size</th>\n",
              "      <td>object</td>\n",
              "      <td>0</td>\n",
              "      <td>462</td>\n",
              "    </tr>\n",
              "    <tr>\n",
              "      <th>Installs</th>\n",
              "      <td>object</td>\n",
              "      <td>0</td>\n",
              "      <td>22</td>\n",
              "    </tr>\n",
              "    <tr>\n",
              "      <th>Type</th>\n",
              "      <td>object</td>\n",
              "      <td>1</td>\n",
              "      <td>3</td>\n",
              "    </tr>\n",
              "    <tr>\n",
              "      <th>Price</th>\n",
              "      <td>object</td>\n",
              "      <td>0</td>\n",
              "      <td>93</td>\n",
              "    </tr>\n",
              "    <tr>\n",
              "      <th>Content Rating</th>\n",
              "      <td>object</td>\n",
              "      <td>1</td>\n",
              "      <td>6</td>\n",
              "    </tr>\n",
              "    <tr>\n",
              "      <th>Genres</th>\n",
              "      <td>object</td>\n",
              "      <td>0</td>\n",
              "      <td>120</td>\n",
              "    </tr>\n",
              "    <tr>\n",
              "      <th>Last Updated</th>\n",
              "      <td>object</td>\n",
              "      <td>0</td>\n",
              "      <td>1378</td>\n",
              "    </tr>\n",
              "    <tr>\n",
              "      <th>Current Ver</th>\n",
              "      <td>object</td>\n",
              "      <td>8</td>\n",
              "      <td>2832</td>\n",
              "    </tr>\n",
              "    <tr>\n",
              "      <th>Android Ver</th>\n",
              "      <td>object</td>\n",
              "      <td>3</td>\n",
              "      <td>33</td>\n",
              "    </tr>\n",
              "  </tbody>\n",
              "</table>\n",
              "</div>\n",
              "      <button class=\"colab-df-convert\" onclick=\"convertToInteractive('df-51bd6d6b-57de-4f69-a081-809be7640e89')\"\n",
              "              title=\"Convert this dataframe to an interactive table.\"\n",
              "              style=\"display:none;\">\n",
              "        \n",
              "  <svg xmlns=\"http://www.w3.org/2000/svg\" height=\"24px\"viewBox=\"0 0 24 24\"\n",
              "       width=\"24px\">\n",
              "    <path d=\"M0 0h24v24H0V0z\" fill=\"none\"/>\n",
              "    <path d=\"M18.56 5.44l.94 2.06.94-2.06 2.06-.94-2.06-.94-.94-2.06-.94 2.06-2.06.94zm-11 1L8.5 8.5l.94-2.06 2.06-.94-2.06-.94L8.5 2.5l-.94 2.06-2.06.94zm10 10l.94 2.06.94-2.06 2.06-.94-2.06-.94-.94-2.06-.94 2.06-2.06.94z\"/><path d=\"M17.41 7.96l-1.37-1.37c-.4-.4-.92-.59-1.43-.59-.52 0-1.04.2-1.43.59L10.3 9.45l-7.72 7.72c-.78.78-.78 2.05 0 2.83L4 21.41c.39.39.9.59 1.41.59.51 0 1.02-.2 1.41-.59l7.78-7.78 2.81-2.81c.8-.78.8-2.07 0-2.86zM5.41 20L4 18.59l7.72-7.72 1.47 1.35L5.41 20z\"/>\n",
              "  </svg>\n",
              "      </button>\n",
              "      \n",
              "  <style>\n",
              "    .colab-df-container {\n",
              "      display:flex;\n",
              "      flex-wrap:wrap;\n",
              "      gap: 12px;\n",
              "    }\n",
              "\n",
              "    .colab-df-convert {\n",
              "      background-color: #E8F0FE;\n",
              "      border: none;\n",
              "      border-radius: 50%;\n",
              "      cursor: pointer;\n",
              "      display: none;\n",
              "      fill: #1967D2;\n",
              "      height: 32px;\n",
              "      padding: 0 0 0 0;\n",
              "      width: 32px;\n",
              "    }\n",
              "\n",
              "    .colab-df-convert:hover {\n",
              "      background-color: #E2EBFA;\n",
              "      box-shadow: 0px 1px 2px rgba(60, 64, 67, 0.3), 0px 1px 3px 1px rgba(60, 64, 67, 0.15);\n",
              "      fill: #174EA6;\n",
              "    }\n",
              "\n",
              "    [theme=dark] .colab-df-convert {\n",
              "      background-color: #3B4455;\n",
              "      fill: #D2E3FC;\n",
              "    }\n",
              "\n",
              "    [theme=dark] .colab-df-convert:hover {\n",
              "      background-color: #434B5C;\n",
              "      box-shadow: 0px 1px 3px 1px rgba(0, 0, 0, 0.15);\n",
              "      filter: drop-shadow(0px 1px 2px rgba(0, 0, 0, 0.3));\n",
              "      fill: #FFFFFF;\n",
              "    }\n",
              "  </style>\n",
              "\n",
              "      <script>\n",
              "        const buttonEl =\n",
              "          document.querySelector('#df-51bd6d6b-57de-4f69-a081-809be7640e89 button.colab-df-convert');\n",
              "        buttonEl.style.display =\n",
              "          google.colab.kernel.accessAllowed ? 'block' : 'none';\n",
              "\n",
              "        async function convertToInteractive(key) {\n",
              "          const element = document.querySelector('#df-51bd6d6b-57de-4f69-a081-809be7640e89');\n",
              "          const dataTable =\n",
              "            await google.colab.kernel.invokeFunction('convertToInteractive',\n",
              "                                                     [key], {});\n",
              "          if (!dataTable) return;\n",
              "\n",
              "          const docLinkHtml = 'Like what you see? Visit the ' +\n",
              "            '<a target=\"_blank\" href=https://colab.research.google.com/notebooks/data_table.ipynb>data table notebook</a>'\n",
              "            + ' to learn more about interactive tables.';\n",
              "          element.innerHTML = '';\n",
              "          dataTable['output_type'] = 'display_data';\n",
              "          await google.colab.output.renderOutput(dataTable, element);\n",
              "          const docLink = document.createElement('div');\n",
              "          docLink.innerHTML = docLinkHtml;\n",
              "          element.appendChild(docLink);\n",
              "        }\n",
              "      </script>\n",
              "    </div>\n",
              "  </div>\n",
              "  "
            ]
          },
          "metadata": {},
          "execution_count": 13
        }
      ]
    },
    {
      "cell_type": "markdown",
      "source": [
        "### <b><u>'App' column</u>:</b>"
      ],
      "metadata": {
        "id": "-el1OxmtEMx0"
      }
    },
    {
      "cell_type": "markdown",
      "source": [
        "Checking for duplicate values in the 'App' column."
      ],
      "metadata": {
        "id": "qesAfSqfINu2"
      }
    },
    {
      "cell_type": "code",
      "source": [
        "print(\"No. of Unique App names = \", len(playstore_df['App'].unique()))\n",
        "print(\"Total no. of App names = \", playstore_df.shape[0])\n",
        "print(\"Duplicate App names = \", len(playstore_df['App']) - len(playstore_df['App'].unique()))"
      ],
      "metadata": {
        "id": "sD0UGyARIO9O",
        "colab": {
          "base_uri": "https://localhost:8080/"
        },
        "outputId": "e1109302-883d-4adc-e700-46dc5dca545f"
      },
      "execution_count": 14,
      "outputs": [
        {
          "output_type": "stream",
          "name": "stdout",
          "text": [
            "No. of Unique App names =  9660\n",
            "Total no. of App names =  10841\n",
            "Duplicate App names =  1181\n"
          ]
        }
      ]
    },
    {
      "cell_type": "code",
      "source": [
        "# Looking for occurence of duplicate values:\n",
        "\n",
        "playstore_df[playstore_df['App'] == 'Coloring book moana']"
      ],
      "metadata": {
        "id": "vcPhtqLdIUFo",
        "colab": {
          "base_uri": "https://localhost:8080/",
          "height": 112
        },
        "outputId": "bdb7f454-eb06-4bce-a10d-3cfaac114fe6"
      },
      "execution_count": 17,
      "outputs": [
        {
          "output_type": "execute_result",
          "data": {
            "text/plain": [
              "                      App        Category  Rating Reviews Size  Installs  \\\n",
              "1     Coloring book moana  ART_AND_DESIGN     3.9     967  14M  500,000+   \n",
              "2033  Coloring book moana          FAMILY     3.9     974  14M  500,000+   \n",
              "\n",
              "      Type Price Content Rating                     Genres      Last Updated  \\\n",
              "1     Free     0       Everyone  Art & Design;Pretend Play  January 15, 2018   \n",
              "2033  Free     0       Everyone  Art & Design;Pretend Play  January 15, 2018   \n",
              "\n",
              "     Current Ver   Android Ver  \n",
              "1          2.0.0  4.0.3 and up  \n",
              "2033       2.0.0  4.0.3 and up  "
            ],
            "text/html": [
              "\n",
              "  <div id=\"df-ebe558e9-1281-4036-83c2-8be4e5b745fc\">\n",
              "    <div class=\"colab-df-container\">\n",
              "      <div>\n",
              "<style scoped>\n",
              "    .dataframe tbody tr th:only-of-type {\n",
              "        vertical-align: middle;\n",
              "    }\n",
              "\n",
              "    .dataframe tbody tr th {\n",
              "        vertical-align: top;\n",
              "    }\n",
              "\n",
              "    .dataframe thead th {\n",
              "        text-align: right;\n",
              "    }\n",
              "</style>\n",
              "<table border=\"1\" class=\"dataframe\">\n",
              "  <thead>\n",
              "    <tr style=\"text-align: right;\">\n",
              "      <th></th>\n",
              "      <th>App</th>\n",
              "      <th>Category</th>\n",
              "      <th>Rating</th>\n",
              "      <th>Reviews</th>\n",
              "      <th>Size</th>\n",
              "      <th>Installs</th>\n",
              "      <th>Type</th>\n",
              "      <th>Price</th>\n",
              "      <th>Content Rating</th>\n",
              "      <th>Genres</th>\n",
              "      <th>Last Updated</th>\n",
              "      <th>Current Ver</th>\n",
              "      <th>Android Ver</th>\n",
              "    </tr>\n",
              "  </thead>\n",
              "  <tbody>\n",
              "    <tr>\n",
              "      <th>1</th>\n",
              "      <td>Coloring book moana</td>\n",
              "      <td>ART_AND_DESIGN</td>\n",
              "      <td>3.9</td>\n",
              "      <td>967</td>\n",
              "      <td>14M</td>\n",
              "      <td>500,000+</td>\n",
              "      <td>Free</td>\n",
              "      <td>0</td>\n",
              "      <td>Everyone</td>\n",
              "      <td>Art &amp; Design;Pretend Play</td>\n",
              "      <td>January 15, 2018</td>\n",
              "      <td>2.0.0</td>\n",
              "      <td>4.0.3 and up</td>\n",
              "    </tr>\n",
              "    <tr>\n",
              "      <th>2033</th>\n",
              "      <td>Coloring book moana</td>\n",
              "      <td>FAMILY</td>\n",
              "      <td>3.9</td>\n",
              "      <td>974</td>\n",
              "      <td>14M</td>\n",
              "      <td>500,000+</td>\n",
              "      <td>Free</td>\n",
              "      <td>0</td>\n",
              "      <td>Everyone</td>\n",
              "      <td>Art &amp; Design;Pretend Play</td>\n",
              "      <td>January 15, 2018</td>\n",
              "      <td>2.0.0</td>\n",
              "      <td>4.0.3 and up</td>\n",
              "    </tr>\n",
              "  </tbody>\n",
              "</table>\n",
              "</div>\n",
              "      <button class=\"colab-df-convert\" onclick=\"convertToInteractive('df-ebe558e9-1281-4036-83c2-8be4e5b745fc')\"\n",
              "              title=\"Convert this dataframe to an interactive table.\"\n",
              "              style=\"display:none;\">\n",
              "        \n",
              "  <svg xmlns=\"http://www.w3.org/2000/svg\" height=\"24px\"viewBox=\"0 0 24 24\"\n",
              "       width=\"24px\">\n",
              "    <path d=\"M0 0h24v24H0V0z\" fill=\"none\"/>\n",
              "    <path d=\"M18.56 5.44l.94 2.06.94-2.06 2.06-.94-2.06-.94-.94-2.06-.94 2.06-2.06.94zm-11 1L8.5 8.5l.94-2.06 2.06-.94-2.06-.94L8.5 2.5l-.94 2.06-2.06.94zm10 10l.94 2.06.94-2.06 2.06-.94-2.06-.94-.94-2.06-.94 2.06-2.06.94z\"/><path d=\"M17.41 7.96l-1.37-1.37c-.4-.4-.92-.59-1.43-.59-.52 0-1.04.2-1.43.59L10.3 9.45l-7.72 7.72c-.78.78-.78 2.05 0 2.83L4 21.41c.39.39.9.59 1.41.59.51 0 1.02-.2 1.41-.59l7.78-7.78 2.81-2.81c.8-.78.8-2.07 0-2.86zM5.41 20L4 18.59l7.72-7.72 1.47 1.35L5.41 20z\"/>\n",
              "  </svg>\n",
              "      </button>\n",
              "      \n",
              "  <style>\n",
              "    .colab-df-container {\n",
              "      display:flex;\n",
              "      flex-wrap:wrap;\n",
              "      gap: 12px;\n",
              "    }\n",
              "\n",
              "    .colab-df-convert {\n",
              "      background-color: #E8F0FE;\n",
              "      border: none;\n",
              "      border-radius: 50%;\n",
              "      cursor: pointer;\n",
              "      display: none;\n",
              "      fill: #1967D2;\n",
              "      height: 32px;\n",
              "      padding: 0 0 0 0;\n",
              "      width: 32px;\n",
              "    }\n",
              "\n",
              "    .colab-df-convert:hover {\n",
              "      background-color: #E2EBFA;\n",
              "      box-shadow: 0px 1px 2px rgba(60, 64, 67, 0.3), 0px 1px 3px 1px rgba(60, 64, 67, 0.15);\n",
              "      fill: #174EA6;\n",
              "    }\n",
              "\n",
              "    [theme=dark] .colab-df-convert {\n",
              "      background-color: #3B4455;\n",
              "      fill: #D2E3FC;\n",
              "    }\n",
              "\n",
              "    [theme=dark] .colab-df-convert:hover {\n",
              "      background-color: #434B5C;\n",
              "      box-shadow: 0px 1px 3px 1px rgba(0, 0, 0, 0.15);\n",
              "      filter: drop-shadow(0px 1px 2px rgba(0, 0, 0, 0.3));\n",
              "      fill: #FFFFFF;\n",
              "    }\n",
              "  </style>\n",
              "\n",
              "      <script>\n",
              "        const buttonEl =\n",
              "          document.querySelector('#df-ebe558e9-1281-4036-83c2-8be4e5b745fc button.colab-df-convert');\n",
              "        buttonEl.style.display =\n",
              "          google.colab.kernel.accessAllowed ? 'block' : 'none';\n",
              "\n",
              "        async function convertToInteractive(key) {\n",
              "          const element = document.querySelector('#df-ebe558e9-1281-4036-83c2-8be4e5b745fc');\n",
              "          const dataTable =\n",
              "            await google.colab.kernel.invokeFunction('convertToInteractive',\n",
              "                                                     [key], {});\n",
              "          if (!dataTable) return;\n",
              "\n",
              "          const docLinkHtml = 'Like what you see? Visit the ' +\n",
              "            '<a target=\"_blank\" href=https://colab.research.google.com/notebooks/data_table.ipynb>data table notebook</a>'\n",
              "            + ' to learn more about interactive tables.';\n",
              "          element.innerHTML = '';\n",
              "          dataTable['output_type'] = 'display_data';\n",
              "          await google.colab.output.renderOutput(dataTable, element);\n",
              "          const docLink = document.createElement('div');\n",
              "          docLink.innerHTML = docLinkHtml;\n",
              "          element.appendChild(docLink);\n",
              "        }\n",
              "      </script>\n",
              "    </div>\n",
              "  </div>\n",
              "  "
            ]
          },
          "metadata": {},
          "execution_count": 17
        }
      ]
    },
    {
      "cell_type": "code",
      "source": [
        "playstore_df.drop_duplicates(subset = 'App', keep = 'first', inplace = True)"
      ],
      "metadata": {
        "id": "6xh9XXfAIU6A"
      },
      "execution_count": 19,
      "outputs": []
    },
    {
      "cell_type": "markdown",
      "source": [
        "### <b><u>'Type' column</u>:</b>"
      ],
      "metadata": {
        "id": "wzKCBgClIoy4"
      }
    },
    {
      "cell_type": "code",
      "source": [
        "# Unique set of values in 'Type' column:\n",
        "\n",
        "playstore_df.Type.unique()"
      ],
      "metadata": {
        "id": "fEkuWpVpIy8k",
        "colab": {
          "base_uri": "https://localhost:8080/"
        },
        "outputId": "ed6945ca-d3ea-40cb-d087-9a01adefce08"
      },
      "execution_count": 20,
      "outputs": [
        {
          "output_type": "execute_result",
          "data": {
            "text/plain": [
              "array(['Free', 'Paid', nan, '0'], dtype=object)"
            ]
          },
          "metadata": {},
          "execution_count": 20
        }
      ]
    },
    {
      "cell_type": "markdown",
      "source": [
        "0 & null values found.\n",
        "\n",
        "Replacing them by 'Free'."
      ],
      "metadata": {
        "id": "ueSncyUGI7gH"
      }
    },
    {
      "cell_type": "code",
      "source": [
        "playstore_df['Type'].replace(to_replace=['0'], value=['Free'], inplace=True)\n",
        "playstore_df['Type'].fillna('Free', inplace=True)"
      ],
      "metadata": {
        "id": "Dw550VYCI20n"
      },
      "execution_count": 21,
      "outputs": []
    },
    {
      "cell_type": "markdown",
      "source": [
        "### <b><u>'Content Rating' column</u>:</b>"
      ],
      "metadata": {
        "id": "JKVn1cwkJi2W"
      }
    },
    {
      "cell_type": "code",
      "source": [
        "# Checking for null values:\n",
        "\n",
        "playstore_df[playstore_df['Content Rating'].isnull()]"
      ],
      "metadata": {
        "id": "iHCfKsfcKZEd",
        "colab": {
          "base_uri": "https://localhost:8080/",
          "height": 81
        },
        "outputId": "86e775ac-6997-4a19-d746-6bd6b5a78cb0"
      },
      "execution_count": 22,
      "outputs": [
        {
          "output_type": "execute_result",
          "data": {
            "text/plain": [
              "                                           App Category  Rating Reviews  \\\n",
              "10472  Life Made WI-Fi Touchscreen Photo Frame      1.9    19.0    3.0M   \n",
              "\n",
              "         Size Installs  Type     Price Content Rating             Genres  \\\n",
              "10472  1,000+     Free  Free  Everyone            NaN  February 11, 2018   \n",
              "\n",
              "      Last Updated Current Ver Android Ver  \n",
              "10472       1.0.19  4.0 and up         NaN  "
            ],
            "text/html": [
              "\n",
              "  <div id=\"df-d12da8d7-a4fb-4154-8d34-2db75652b5f6\">\n",
              "    <div class=\"colab-df-container\">\n",
              "      <div>\n",
              "<style scoped>\n",
              "    .dataframe tbody tr th:only-of-type {\n",
              "        vertical-align: middle;\n",
              "    }\n",
              "\n",
              "    .dataframe tbody tr th {\n",
              "        vertical-align: top;\n",
              "    }\n",
              "\n",
              "    .dataframe thead th {\n",
              "        text-align: right;\n",
              "    }\n",
              "</style>\n",
              "<table border=\"1\" class=\"dataframe\">\n",
              "  <thead>\n",
              "    <tr style=\"text-align: right;\">\n",
              "      <th></th>\n",
              "      <th>App</th>\n",
              "      <th>Category</th>\n",
              "      <th>Rating</th>\n",
              "      <th>Reviews</th>\n",
              "      <th>Size</th>\n",
              "      <th>Installs</th>\n",
              "      <th>Type</th>\n",
              "      <th>Price</th>\n",
              "      <th>Content Rating</th>\n",
              "      <th>Genres</th>\n",
              "      <th>Last Updated</th>\n",
              "      <th>Current Ver</th>\n",
              "      <th>Android Ver</th>\n",
              "    </tr>\n",
              "  </thead>\n",
              "  <tbody>\n",
              "    <tr>\n",
              "      <th>10472</th>\n",
              "      <td>Life Made WI-Fi Touchscreen Photo Frame</td>\n",
              "      <td>1.9</td>\n",
              "      <td>19.0</td>\n",
              "      <td>3.0M</td>\n",
              "      <td>1,000+</td>\n",
              "      <td>Free</td>\n",
              "      <td>Free</td>\n",
              "      <td>Everyone</td>\n",
              "      <td>NaN</td>\n",
              "      <td>February 11, 2018</td>\n",
              "      <td>1.0.19</td>\n",
              "      <td>4.0 and up</td>\n",
              "      <td>NaN</td>\n",
              "    </tr>\n",
              "  </tbody>\n",
              "</table>\n",
              "</div>\n",
              "      <button class=\"colab-df-convert\" onclick=\"convertToInteractive('df-d12da8d7-a4fb-4154-8d34-2db75652b5f6')\"\n",
              "              title=\"Convert this dataframe to an interactive table.\"\n",
              "              style=\"display:none;\">\n",
              "        \n",
              "  <svg xmlns=\"http://www.w3.org/2000/svg\" height=\"24px\"viewBox=\"0 0 24 24\"\n",
              "       width=\"24px\">\n",
              "    <path d=\"M0 0h24v24H0V0z\" fill=\"none\"/>\n",
              "    <path d=\"M18.56 5.44l.94 2.06.94-2.06 2.06-.94-2.06-.94-.94-2.06-.94 2.06-2.06.94zm-11 1L8.5 8.5l.94-2.06 2.06-.94-2.06-.94L8.5 2.5l-.94 2.06-2.06.94zm10 10l.94 2.06.94-2.06 2.06-.94-2.06-.94-.94-2.06-.94 2.06-2.06.94z\"/><path d=\"M17.41 7.96l-1.37-1.37c-.4-.4-.92-.59-1.43-.59-.52 0-1.04.2-1.43.59L10.3 9.45l-7.72 7.72c-.78.78-.78 2.05 0 2.83L4 21.41c.39.39.9.59 1.41.59.51 0 1.02-.2 1.41-.59l7.78-7.78 2.81-2.81c.8-.78.8-2.07 0-2.86zM5.41 20L4 18.59l7.72-7.72 1.47 1.35L5.41 20z\"/>\n",
              "  </svg>\n",
              "      </button>\n",
              "      \n",
              "  <style>\n",
              "    .colab-df-container {\n",
              "      display:flex;\n",
              "      flex-wrap:wrap;\n",
              "      gap: 12px;\n",
              "    }\n",
              "\n",
              "    .colab-df-convert {\n",
              "      background-color: #E8F0FE;\n",
              "      border: none;\n",
              "      border-radius: 50%;\n",
              "      cursor: pointer;\n",
              "      display: none;\n",
              "      fill: #1967D2;\n",
              "      height: 32px;\n",
              "      padding: 0 0 0 0;\n",
              "      width: 32px;\n",
              "    }\n",
              "\n",
              "    .colab-df-convert:hover {\n",
              "      background-color: #E2EBFA;\n",
              "      box-shadow: 0px 1px 2px rgba(60, 64, 67, 0.3), 0px 1px 3px 1px rgba(60, 64, 67, 0.15);\n",
              "      fill: #174EA6;\n",
              "    }\n",
              "\n",
              "    [theme=dark] .colab-df-convert {\n",
              "      background-color: #3B4455;\n",
              "      fill: #D2E3FC;\n",
              "    }\n",
              "\n",
              "    [theme=dark] .colab-df-convert:hover {\n",
              "      background-color: #434B5C;\n",
              "      box-shadow: 0px 1px 3px 1px rgba(0, 0, 0, 0.15);\n",
              "      filter: drop-shadow(0px 1px 2px rgba(0, 0, 0, 0.3));\n",
              "      fill: #FFFFFF;\n",
              "    }\n",
              "  </style>\n",
              "\n",
              "      <script>\n",
              "        const buttonEl =\n",
              "          document.querySelector('#df-d12da8d7-a4fb-4154-8d34-2db75652b5f6 button.colab-df-convert');\n",
              "        buttonEl.style.display =\n",
              "          google.colab.kernel.accessAllowed ? 'block' : 'none';\n",
              "\n",
              "        async function convertToInteractive(key) {\n",
              "          const element = document.querySelector('#df-d12da8d7-a4fb-4154-8d34-2db75652b5f6');\n",
              "          const dataTable =\n",
              "            await google.colab.kernel.invokeFunction('convertToInteractive',\n",
              "                                                     [key], {});\n",
              "          if (!dataTable) return;\n",
              "\n",
              "          const docLinkHtml = 'Like what you see? Visit the ' +\n",
              "            '<a target=\"_blank\" href=https://colab.research.google.com/notebooks/data_table.ipynb>data table notebook</a>'\n",
              "            + ' to learn more about interactive tables.';\n",
              "          element.innerHTML = '';\n",
              "          dataTable['output_type'] = 'display_data';\n",
              "          await google.colab.output.renderOutput(dataTable, element);\n",
              "          const docLink = document.createElement('div');\n",
              "          docLink.innerHTML = docLinkHtml;\n",
              "          element.appendChild(docLink);\n",
              "        }\n",
              "      </script>\n",
              "    </div>\n",
              "  </div>\n",
              "  "
            ]
          },
          "metadata": {},
          "execution_count": 22
        }
      ]
    },
    {
      "cell_type": "code",
      "source": [
        "# Data comparison with adjacent rows:\n",
        "\n",
        "playstore_df.loc[10465:10477, :]"
      ],
      "metadata": {
        "id": "Ps75pXaqKbzc",
        "colab": {
          "base_uri": "https://localhost:8080/",
          "height": 425
        },
        "outputId": "5d98ff67-742a-4ded-8d48-d0ab76a13e3b"
      },
      "execution_count": 23,
      "outputs": [
        {
          "output_type": "execute_result",
          "data": {
            "text/plain": [
              "                                           App         Category  Rating  \\\n",
              "10465              Portable Wi-Fi hotspot Free    COMMUNICATION     4.0   \n",
              "10466                           Wi-Fi Networks     PRODUCTIVITY     4.2   \n",
              "10467                                   FI CFL          FINANCE     3.7   \n",
              "10468                         Tassa.fi Finland        LIFESTYLE     3.6   \n",
              "10469              TownWiFi | Wi-Fi Everywhere    COMMUNICATION     3.9   \n",
              "10470                               Jazz Wi-Fi    COMMUNICATION     3.4   \n",
              "10471                         Xposed Wi-Fi-Pwd  PERSONALIZATION     3.5   \n",
              "10472  Life Made WI-Fi Touchscreen Photo Frame              1.9    19.0   \n",
              "10474                             Sat-Fi Voice    COMMUNICATION     3.4   \n",
              "10475                         Wi-Fi Visualizer            TOOLS     3.9   \n",
              "10476                    Lennox iComfort Wi-Fi        LIFESTYLE     3.0   \n",
              "10477              Sci-Fi Sounds and Ringtones  PERSONALIZATION     3.6   \n",
              "\n",
              "      Reviews    Size  Installs  Type     Price Content Rating  \\\n",
              "10465    1711    2.1M  100,000+  Free         0       Everyone   \n",
              "10466     115    1.4M   10,000+  Free         0       Everyone   \n",
              "10467     112    3.9M   10,000+  Free         0       Everyone   \n",
              "10468     346    7.5M   50,000+  Free         0       Everyone   \n",
              "10469    2372     58M  500,000+  Free         0       Everyone   \n",
              "10470      49    4.0M   10,000+  Free         0       Everyone   \n",
              "10471    1042    404k  100,000+  Free         0       Everyone   \n",
              "10472    3.0M  1,000+      Free  Free  Everyone            NaN   \n",
              "10474      37     14M    1,000+  Free         0       Everyone   \n",
              "10475     132    2.6M   50,000+  Free         0       Everyone   \n",
              "10476     552    7.6M   50,000+  Free         0       Everyone   \n",
              "10477     128     11M   10,000+  Free         0       Everyone   \n",
              "\n",
              "                  Genres        Last Updated Current Ver   Android Ver  \n",
              "10465      Communication    January 11, 2018  1.2.5.4-11    2.3 and up  \n",
              "10466       Productivity     October 5, 2015         1.4    4.1 and up  \n",
              "10467            Finance        July 5, 2018       1.1.1    5.0 and up  \n",
              "10468          Lifestyle        May 22, 2018         5.5    4.0 and up  \n",
              "10469      Communication      August 2, 2018       4.2.1    4.2 and up  \n",
              "10470      Communication   February 10, 2017         0.1    2.3 and up  \n",
              "10471    Personalization      August 5, 2014       3.0.0  4.0.3 and up  \n",
              "10472  February 11, 2018              1.0.19  4.0 and up           NaN  \n",
              "10474      Communication   November 21, 2014     2.2.1.5    2.2 and up  \n",
              "10475              Tools        May 17, 2017       0.0.9    2.3 and up  \n",
              "10476          Lifestyle      March 22, 2017      2.0.15  2.3.3 and up  \n",
              "10477    Personalization  September 27, 2017         4.0    4.0 and up  "
            ],
            "text/html": [
              "\n",
              "  <div id=\"df-5d6672b5-f854-4581-9092-8166682914f7\">\n",
              "    <div class=\"colab-df-container\">\n",
              "      <div>\n",
              "<style scoped>\n",
              "    .dataframe tbody tr th:only-of-type {\n",
              "        vertical-align: middle;\n",
              "    }\n",
              "\n",
              "    .dataframe tbody tr th {\n",
              "        vertical-align: top;\n",
              "    }\n",
              "\n",
              "    .dataframe thead th {\n",
              "        text-align: right;\n",
              "    }\n",
              "</style>\n",
              "<table border=\"1\" class=\"dataframe\">\n",
              "  <thead>\n",
              "    <tr style=\"text-align: right;\">\n",
              "      <th></th>\n",
              "      <th>App</th>\n",
              "      <th>Category</th>\n",
              "      <th>Rating</th>\n",
              "      <th>Reviews</th>\n",
              "      <th>Size</th>\n",
              "      <th>Installs</th>\n",
              "      <th>Type</th>\n",
              "      <th>Price</th>\n",
              "      <th>Content Rating</th>\n",
              "      <th>Genres</th>\n",
              "      <th>Last Updated</th>\n",
              "      <th>Current Ver</th>\n",
              "      <th>Android Ver</th>\n",
              "    </tr>\n",
              "  </thead>\n",
              "  <tbody>\n",
              "    <tr>\n",
              "      <th>10465</th>\n",
              "      <td>Portable Wi-Fi hotspot Free</td>\n",
              "      <td>COMMUNICATION</td>\n",
              "      <td>4.0</td>\n",
              "      <td>1711</td>\n",
              "      <td>2.1M</td>\n",
              "      <td>100,000+</td>\n",
              "      <td>Free</td>\n",
              "      <td>0</td>\n",
              "      <td>Everyone</td>\n",
              "      <td>Communication</td>\n",
              "      <td>January 11, 2018</td>\n",
              "      <td>1.2.5.4-11</td>\n",
              "      <td>2.3 and up</td>\n",
              "    </tr>\n",
              "    <tr>\n",
              "      <th>10466</th>\n",
              "      <td>Wi-Fi Networks</td>\n",
              "      <td>PRODUCTIVITY</td>\n",
              "      <td>4.2</td>\n",
              "      <td>115</td>\n",
              "      <td>1.4M</td>\n",
              "      <td>10,000+</td>\n",
              "      <td>Free</td>\n",
              "      <td>0</td>\n",
              "      <td>Everyone</td>\n",
              "      <td>Productivity</td>\n",
              "      <td>October 5, 2015</td>\n",
              "      <td>1.4</td>\n",
              "      <td>4.1 and up</td>\n",
              "    </tr>\n",
              "    <tr>\n",
              "      <th>10467</th>\n",
              "      <td>FI CFL</td>\n",
              "      <td>FINANCE</td>\n",
              "      <td>3.7</td>\n",
              "      <td>112</td>\n",
              "      <td>3.9M</td>\n",
              "      <td>10,000+</td>\n",
              "      <td>Free</td>\n",
              "      <td>0</td>\n",
              "      <td>Everyone</td>\n",
              "      <td>Finance</td>\n",
              "      <td>July 5, 2018</td>\n",
              "      <td>1.1.1</td>\n",
              "      <td>5.0 and up</td>\n",
              "    </tr>\n",
              "    <tr>\n",
              "      <th>10468</th>\n",
              "      <td>Tassa.fi Finland</td>\n",
              "      <td>LIFESTYLE</td>\n",
              "      <td>3.6</td>\n",
              "      <td>346</td>\n",
              "      <td>7.5M</td>\n",
              "      <td>50,000+</td>\n",
              "      <td>Free</td>\n",
              "      <td>0</td>\n",
              "      <td>Everyone</td>\n",
              "      <td>Lifestyle</td>\n",
              "      <td>May 22, 2018</td>\n",
              "      <td>5.5</td>\n",
              "      <td>4.0 and up</td>\n",
              "    </tr>\n",
              "    <tr>\n",
              "      <th>10469</th>\n",
              "      <td>TownWiFi | Wi-Fi Everywhere</td>\n",
              "      <td>COMMUNICATION</td>\n",
              "      <td>3.9</td>\n",
              "      <td>2372</td>\n",
              "      <td>58M</td>\n",
              "      <td>500,000+</td>\n",
              "      <td>Free</td>\n",
              "      <td>0</td>\n",
              "      <td>Everyone</td>\n",
              "      <td>Communication</td>\n",
              "      <td>August 2, 2018</td>\n",
              "      <td>4.2.1</td>\n",
              "      <td>4.2 and up</td>\n",
              "    </tr>\n",
              "    <tr>\n",
              "      <th>10470</th>\n",
              "      <td>Jazz Wi-Fi</td>\n",
              "      <td>COMMUNICATION</td>\n",
              "      <td>3.4</td>\n",
              "      <td>49</td>\n",
              "      <td>4.0M</td>\n",
              "      <td>10,000+</td>\n",
              "      <td>Free</td>\n",
              "      <td>0</td>\n",
              "      <td>Everyone</td>\n",
              "      <td>Communication</td>\n",
              "      <td>February 10, 2017</td>\n",
              "      <td>0.1</td>\n",
              "      <td>2.3 and up</td>\n",
              "    </tr>\n",
              "    <tr>\n",
              "      <th>10471</th>\n",
              "      <td>Xposed Wi-Fi-Pwd</td>\n",
              "      <td>PERSONALIZATION</td>\n",
              "      <td>3.5</td>\n",
              "      <td>1042</td>\n",
              "      <td>404k</td>\n",
              "      <td>100,000+</td>\n",
              "      <td>Free</td>\n",
              "      <td>0</td>\n",
              "      <td>Everyone</td>\n",
              "      <td>Personalization</td>\n",
              "      <td>August 5, 2014</td>\n",
              "      <td>3.0.0</td>\n",
              "      <td>4.0.3 and up</td>\n",
              "    </tr>\n",
              "    <tr>\n",
              "      <th>10472</th>\n",
              "      <td>Life Made WI-Fi Touchscreen Photo Frame</td>\n",
              "      <td>1.9</td>\n",
              "      <td>19.0</td>\n",
              "      <td>3.0M</td>\n",
              "      <td>1,000+</td>\n",
              "      <td>Free</td>\n",
              "      <td>Free</td>\n",
              "      <td>Everyone</td>\n",
              "      <td>NaN</td>\n",
              "      <td>February 11, 2018</td>\n",
              "      <td>1.0.19</td>\n",
              "      <td>4.0 and up</td>\n",
              "      <td>NaN</td>\n",
              "    </tr>\n",
              "    <tr>\n",
              "      <th>10474</th>\n",
              "      <td>Sat-Fi Voice</td>\n",
              "      <td>COMMUNICATION</td>\n",
              "      <td>3.4</td>\n",
              "      <td>37</td>\n",
              "      <td>14M</td>\n",
              "      <td>1,000+</td>\n",
              "      <td>Free</td>\n",
              "      <td>0</td>\n",
              "      <td>Everyone</td>\n",
              "      <td>Communication</td>\n",
              "      <td>November 21, 2014</td>\n",
              "      <td>2.2.1.5</td>\n",
              "      <td>2.2 and up</td>\n",
              "    </tr>\n",
              "    <tr>\n",
              "      <th>10475</th>\n",
              "      <td>Wi-Fi Visualizer</td>\n",
              "      <td>TOOLS</td>\n",
              "      <td>3.9</td>\n",
              "      <td>132</td>\n",
              "      <td>2.6M</td>\n",
              "      <td>50,000+</td>\n",
              "      <td>Free</td>\n",
              "      <td>0</td>\n",
              "      <td>Everyone</td>\n",
              "      <td>Tools</td>\n",
              "      <td>May 17, 2017</td>\n",
              "      <td>0.0.9</td>\n",
              "      <td>2.3 and up</td>\n",
              "    </tr>\n",
              "    <tr>\n",
              "      <th>10476</th>\n",
              "      <td>Lennox iComfort Wi-Fi</td>\n",
              "      <td>LIFESTYLE</td>\n",
              "      <td>3.0</td>\n",
              "      <td>552</td>\n",
              "      <td>7.6M</td>\n",
              "      <td>50,000+</td>\n",
              "      <td>Free</td>\n",
              "      <td>0</td>\n",
              "      <td>Everyone</td>\n",
              "      <td>Lifestyle</td>\n",
              "      <td>March 22, 2017</td>\n",
              "      <td>2.0.15</td>\n",
              "      <td>2.3.3 and up</td>\n",
              "    </tr>\n",
              "    <tr>\n",
              "      <th>10477</th>\n",
              "      <td>Sci-Fi Sounds and Ringtones</td>\n",
              "      <td>PERSONALIZATION</td>\n",
              "      <td>3.6</td>\n",
              "      <td>128</td>\n",
              "      <td>11M</td>\n",
              "      <td>10,000+</td>\n",
              "      <td>Free</td>\n",
              "      <td>0</td>\n",
              "      <td>Everyone</td>\n",
              "      <td>Personalization</td>\n",
              "      <td>September 27, 2017</td>\n",
              "      <td>4.0</td>\n",
              "      <td>4.0 and up</td>\n",
              "    </tr>\n",
              "  </tbody>\n",
              "</table>\n",
              "</div>\n",
              "      <button class=\"colab-df-convert\" onclick=\"convertToInteractive('df-5d6672b5-f854-4581-9092-8166682914f7')\"\n",
              "              title=\"Convert this dataframe to an interactive table.\"\n",
              "              style=\"display:none;\">\n",
              "        \n",
              "  <svg xmlns=\"http://www.w3.org/2000/svg\" height=\"24px\"viewBox=\"0 0 24 24\"\n",
              "       width=\"24px\">\n",
              "    <path d=\"M0 0h24v24H0V0z\" fill=\"none\"/>\n",
              "    <path d=\"M18.56 5.44l.94 2.06.94-2.06 2.06-.94-2.06-.94-.94-2.06-.94 2.06-2.06.94zm-11 1L8.5 8.5l.94-2.06 2.06-.94-2.06-.94L8.5 2.5l-.94 2.06-2.06.94zm10 10l.94 2.06.94-2.06 2.06-.94-2.06-.94-.94-2.06-.94 2.06-2.06.94z\"/><path d=\"M17.41 7.96l-1.37-1.37c-.4-.4-.92-.59-1.43-.59-.52 0-1.04.2-1.43.59L10.3 9.45l-7.72 7.72c-.78.78-.78 2.05 0 2.83L4 21.41c.39.39.9.59 1.41.59.51 0 1.02-.2 1.41-.59l7.78-7.78 2.81-2.81c.8-.78.8-2.07 0-2.86zM5.41 20L4 18.59l7.72-7.72 1.47 1.35L5.41 20z\"/>\n",
              "  </svg>\n",
              "      </button>\n",
              "      \n",
              "  <style>\n",
              "    .colab-df-container {\n",
              "      display:flex;\n",
              "      flex-wrap:wrap;\n",
              "      gap: 12px;\n",
              "    }\n",
              "\n",
              "    .colab-df-convert {\n",
              "      background-color: #E8F0FE;\n",
              "      border: none;\n",
              "      border-radius: 50%;\n",
              "      cursor: pointer;\n",
              "      display: none;\n",
              "      fill: #1967D2;\n",
              "      height: 32px;\n",
              "      padding: 0 0 0 0;\n",
              "      width: 32px;\n",
              "    }\n",
              "\n",
              "    .colab-df-convert:hover {\n",
              "      background-color: #E2EBFA;\n",
              "      box-shadow: 0px 1px 2px rgba(60, 64, 67, 0.3), 0px 1px 3px 1px rgba(60, 64, 67, 0.15);\n",
              "      fill: #174EA6;\n",
              "    }\n",
              "\n",
              "    [theme=dark] .colab-df-convert {\n",
              "      background-color: #3B4455;\n",
              "      fill: #D2E3FC;\n",
              "    }\n",
              "\n",
              "    [theme=dark] .colab-df-convert:hover {\n",
              "      background-color: #434B5C;\n",
              "      box-shadow: 0px 1px 3px 1px rgba(0, 0, 0, 0.15);\n",
              "      filter: drop-shadow(0px 1px 2px rgba(0, 0, 0, 0.3));\n",
              "      fill: #FFFFFF;\n",
              "    }\n",
              "  </style>\n",
              "\n",
              "      <script>\n",
              "        const buttonEl =\n",
              "          document.querySelector('#df-5d6672b5-f854-4581-9092-8166682914f7 button.colab-df-convert');\n",
              "        buttonEl.style.display =\n",
              "          google.colab.kernel.accessAllowed ? 'block' : 'none';\n",
              "\n",
              "        async function convertToInteractive(key) {\n",
              "          const element = document.querySelector('#df-5d6672b5-f854-4581-9092-8166682914f7');\n",
              "          const dataTable =\n",
              "            await google.colab.kernel.invokeFunction('convertToInteractive',\n",
              "                                                     [key], {});\n",
              "          if (!dataTable) return;\n",
              "\n",
              "          const docLinkHtml = 'Like what you see? Visit the ' +\n",
              "            '<a target=\"_blank\" href=https://colab.research.google.com/notebooks/data_table.ipynb>data table notebook</a>'\n",
              "            + ' to learn more about interactive tables.';\n",
              "          element.innerHTML = '';\n",
              "          dataTable['output_type'] = 'display_data';\n",
              "          await google.colab.output.renderOutput(dataTable, element);\n",
              "          const docLink = document.createElement('div');\n",
              "          docLink.innerHTML = docLinkHtml;\n",
              "          element.appendChild(docLink);\n",
              "        }\n",
              "      </script>\n",
              "    </div>\n",
              "  </div>\n",
              "  "
            ]
          },
          "metadata": {},
          "execution_count": 23
        }
      ]
    },
    {
      "cell_type": "markdown",
      "source": [
        "<u>Observations</u>:\n",
        "\n",
        "* Wrong data entry in row 10472.\n",
        "* All of the column values found to be replaced by their previous columns' values due to a missing value in the category column."
      ],
      "metadata": {
        "id": "B4j5iQ5pKe4U"
      }
    },
    {
      "cell_type": "code",
      "source": [
        "# Dropping the rows containing null values in 'Content Rating' column:\n",
        "\n",
        "playstore_df.dropna(subset=['Content Rating'], inplace=True)"
      ],
      "metadata": {
        "id": "F0aTdMGfKcpS"
      },
      "execution_count": 24,
      "outputs": []
    },
    {
      "cell_type": "markdown",
      "source": [
        "### <b><u>'Rating' column</u>:</b>"
      ],
      "metadata": {
        "id": "8m8CzhbYKwH8"
      }
    },
    {
      "cell_type": "markdown",
      "source": [
        "* 'Rating' column has a total of 1463 missing values.\n",
        "* Replacing the missing values with the Mode value of the column."
      ],
      "metadata": {
        "id": "gK5U-PcGK1Z2"
      }
    },
    {
      "cell_type": "code",
      "source": [
        "# Finding the mode value:\n",
        "\n",
        "mode_rating = playstore_df['Rating'].mode()\n",
        "print(f' The mode value of Rating column is: {mode_rating[0]}')\n",
        "\n",
        "# Replacing the null values:\n",
        "\n",
        "playstore_df['Rating'].fillna(value=mode_rating[0], inplace = True)\n",
        "necessary_info()"
      ],
      "metadata": {
        "id": "F1s0cBXvKvq6",
        "colab": {
          "base_uri": "https://localhost:8080/",
          "height": 474
        },
        "outputId": "bd28a679-4c11-4160-d579-c9d26cef9b49"
      },
      "execution_count": 26,
      "outputs": [
        {
          "output_type": "stream",
          "name": "stdout",
          "text": [
            " The mode value of Rating column is: 4.3\n"
          ]
        },
        {
          "output_type": "execute_result",
          "data": {
            "text/plain": [
              "               data_type  null_count  unique_count\n",
              "App               object           0          9659\n",
              "Category          object           0            33\n",
              "Rating           float64           0            39\n",
              "Reviews           object           0          5330\n",
              "Size              object           0           461\n",
              "Installs          object           0            21\n",
              "Type              object           0             2\n",
              "Price             object           0            92\n",
              "Content Rating    object           0             6\n",
              "Genres            object           0           118\n",
              "Last Updated      object           0          1377\n",
              "Current Ver       object           8          2817\n",
              "Android Ver       object           2            33"
            ],
            "text/html": [
              "\n",
              "  <div id=\"df-1a46f873-b91c-441b-9d99-139e41f893da\">\n",
              "    <div class=\"colab-df-container\">\n",
              "      <div>\n",
              "<style scoped>\n",
              "    .dataframe tbody tr th:only-of-type {\n",
              "        vertical-align: middle;\n",
              "    }\n",
              "\n",
              "    .dataframe tbody tr th {\n",
              "        vertical-align: top;\n",
              "    }\n",
              "\n",
              "    .dataframe thead th {\n",
              "        text-align: right;\n",
              "    }\n",
              "</style>\n",
              "<table border=\"1\" class=\"dataframe\">\n",
              "  <thead>\n",
              "    <tr style=\"text-align: right;\">\n",
              "      <th></th>\n",
              "      <th>data_type</th>\n",
              "      <th>null_count</th>\n",
              "      <th>unique_count</th>\n",
              "    </tr>\n",
              "  </thead>\n",
              "  <tbody>\n",
              "    <tr>\n",
              "      <th>App</th>\n",
              "      <td>object</td>\n",
              "      <td>0</td>\n",
              "      <td>9659</td>\n",
              "    </tr>\n",
              "    <tr>\n",
              "      <th>Category</th>\n",
              "      <td>object</td>\n",
              "      <td>0</td>\n",
              "      <td>33</td>\n",
              "    </tr>\n",
              "    <tr>\n",
              "      <th>Rating</th>\n",
              "      <td>float64</td>\n",
              "      <td>0</td>\n",
              "      <td>39</td>\n",
              "    </tr>\n",
              "    <tr>\n",
              "      <th>Reviews</th>\n",
              "      <td>object</td>\n",
              "      <td>0</td>\n",
              "      <td>5330</td>\n",
              "    </tr>\n",
              "    <tr>\n",
              "      <th>Size</th>\n",
              "      <td>object</td>\n",
              "      <td>0</td>\n",
              "      <td>461</td>\n",
              "    </tr>\n",
              "    <tr>\n",
              "      <th>Installs</th>\n",
              "      <td>object</td>\n",
              "      <td>0</td>\n",
              "      <td>21</td>\n",
              "    </tr>\n",
              "    <tr>\n",
              "      <th>Type</th>\n",
              "      <td>object</td>\n",
              "      <td>0</td>\n",
              "      <td>2</td>\n",
              "    </tr>\n",
              "    <tr>\n",
              "      <th>Price</th>\n",
              "      <td>object</td>\n",
              "      <td>0</td>\n",
              "      <td>92</td>\n",
              "    </tr>\n",
              "    <tr>\n",
              "      <th>Content Rating</th>\n",
              "      <td>object</td>\n",
              "      <td>0</td>\n",
              "      <td>6</td>\n",
              "    </tr>\n",
              "    <tr>\n",
              "      <th>Genres</th>\n",
              "      <td>object</td>\n",
              "      <td>0</td>\n",
              "      <td>118</td>\n",
              "    </tr>\n",
              "    <tr>\n",
              "      <th>Last Updated</th>\n",
              "      <td>object</td>\n",
              "      <td>0</td>\n",
              "      <td>1377</td>\n",
              "    </tr>\n",
              "    <tr>\n",
              "      <th>Current Ver</th>\n",
              "      <td>object</td>\n",
              "      <td>8</td>\n",
              "      <td>2817</td>\n",
              "    </tr>\n",
              "    <tr>\n",
              "      <th>Android Ver</th>\n",
              "      <td>object</td>\n",
              "      <td>2</td>\n",
              "      <td>33</td>\n",
              "    </tr>\n",
              "  </tbody>\n",
              "</table>\n",
              "</div>\n",
              "      <button class=\"colab-df-convert\" onclick=\"convertToInteractive('df-1a46f873-b91c-441b-9d99-139e41f893da')\"\n",
              "              title=\"Convert this dataframe to an interactive table.\"\n",
              "              style=\"display:none;\">\n",
              "        \n",
              "  <svg xmlns=\"http://www.w3.org/2000/svg\" height=\"24px\"viewBox=\"0 0 24 24\"\n",
              "       width=\"24px\">\n",
              "    <path d=\"M0 0h24v24H0V0z\" fill=\"none\"/>\n",
              "    <path d=\"M18.56 5.44l.94 2.06.94-2.06 2.06-.94-2.06-.94-.94-2.06-.94 2.06-2.06.94zm-11 1L8.5 8.5l.94-2.06 2.06-.94-2.06-.94L8.5 2.5l-.94 2.06-2.06.94zm10 10l.94 2.06.94-2.06 2.06-.94-2.06-.94-.94-2.06-.94 2.06-2.06.94z\"/><path d=\"M17.41 7.96l-1.37-1.37c-.4-.4-.92-.59-1.43-.59-.52 0-1.04.2-1.43.59L10.3 9.45l-7.72 7.72c-.78.78-.78 2.05 0 2.83L4 21.41c.39.39.9.59 1.41.59.51 0 1.02-.2 1.41-.59l7.78-7.78 2.81-2.81c.8-.78.8-2.07 0-2.86zM5.41 20L4 18.59l7.72-7.72 1.47 1.35L5.41 20z\"/>\n",
              "  </svg>\n",
              "      </button>\n",
              "      \n",
              "  <style>\n",
              "    .colab-df-container {\n",
              "      display:flex;\n",
              "      flex-wrap:wrap;\n",
              "      gap: 12px;\n",
              "    }\n",
              "\n",
              "    .colab-df-convert {\n",
              "      background-color: #E8F0FE;\n",
              "      border: none;\n",
              "      border-radius: 50%;\n",
              "      cursor: pointer;\n",
              "      display: none;\n",
              "      fill: #1967D2;\n",
              "      height: 32px;\n",
              "      padding: 0 0 0 0;\n",
              "      width: 32px;\n",
              "    }\n",
              "\n",
              "    .colab-df-convert:hover {\n",
              "      background-color: #E2EBFA;\n",
              "      box-shadow: 0px 1px 2px rgba(60, 64, 67, 0.3), 0px 1px 3px 1px rgba(60, 64, 67, 0.15);\n",
              "      fill: #174EA6;\n",
              "    }\n",
              "\n",
              "    [theme=dark] .colab-df-convert {\n",
              "      background-color: #3B4455;\n",
              "      fill: #D2E3FC;\n",
              "    }\n",
              "\n",
              "    [theme=dark] .colab-df-convert:hover {\n",
              "      background-color: #434B5C;\n",
              "      box-shadow: 0px 1px 3px 1px rgba(0, 0, 0, 0.15);\n",
              "      filter: drop-shadow(0px 1px 2px rgba(0, 0, 0, 0.3));\n",
              "      fill: #FFFFFF;\n",
              "    }\n",
              "  </style>\n",
              "\n",
              "      <script>\n",
              "        const buttonEl =\n",
              "          document.querySelector('#df-1a46f873-b91c-441b-9d99-139e41f893da button.colab-df-convert');\n",
              "        buttonEl.style.display =\n",
              "          google.colab.kernel.accessAllowed ? 'block' : 'none';\n",
              "\n",
              "        async function convertToInteractive(key) {\n",
              "          const element = document.querySelector('#df-1a46f873-b91c-441b-9d99-139e41f893da');\n",
              "          const dataTable =\n",
              "            await google.colab.kernel.invokeFunction('convertToInteractive',\n",
              "                                                     [key], {});\n",
              "          if (!dataTable) return;\n",
              "\n",
              "          const docLinkHtml = 'Like what you see? Visit the ' +\n",
              "            '<a target=\"_blank\" href=https://colab.research.google.com/notebooks/data_table.ipynb>data table notebook</a>'\n",
              "            + ' to learn more about interactive tables.';\n",
              "          element.innerHTML = '';\n",
              "          dataTable['output_type'] = 'display_data';\n",
              "          await google.colab.output.renderOutput(dataTable, element);\n",
              "          const docLink = document.createElement('div');\n",
              "          docLink.innerHTML = docLinkHtml;\n",
              "          element.appendChild(docLink);\n",
              "        }\n",
              "      </script>\n",
              "    </div>\n",
              "  </div>\n",
              "  "
            ]
          },
          "metadata": {},
          "execution_count": 26
        }
      ]
    },
    {
      "cell_type": "markdown",
      "source": [
        "### <b><u>Deleting Unnecessary Columns</u>:</b>"
      ],
      "metadata": {
        "id": "GxR1Q5wWLLIh"
      }
    },
    {
      "cell_type": "code",
      "source": [
        "# Deleting unnecessary columns:\n",
        "\n",
        "playstore_df.drop(['Current Ver','Last Updated', 'Android Ver'], axis=1, inplace=True)"
      ],
      "metadata": {
        "id": "GnYklJ3HLOCx"
      },
      "execution_count": 27,
      "outputs": []
    },
    {
      "cell_type": "code",
      "source": [
        "necessary_info()"
      ],
      "metadata": {
        "id": "EcwdLVF8LRqr",
        "colab": {
          "base_uri": "https://localhost:8080/",
          "height": 363
        },
        "outputId": "6ee21d5c-42ee-48ed-fdce-18b8810b891a"
      },
      "execution_count": 28,
      "outputs": [
        {
          "output_type": "execute_result",
          "data": {
            "text/plain": [
              "               data_type  null_count  unique_count\n",
              "App               object           0          9659\n",
              "Category          object           0            33\n",
              "Rating           float64           0            39\n",
              "Reviews           object           0          5330\n",
              "Size              object           0           461\n",
              "Installs          object           0            21\n",
              "Type              object           0             2\n",
              "Price             object           0            92\n",
              "Content Rating    object           0             6\n",
              "Genres            object           0           118"
            ],
            "text/html": [
              "\n",
              "  <div id=\"df-d0242268-3afd-4a99-8acf-c7a54ddfc455\">\n",
              "    <div class=\"colab-df-container\">\n",
              "      <div>\n",
              "<style scoped>\n",
              "    .dataframe tbody tr th:only-of-type {\n",
              "        vertical-align: middle;\n",
              "    }\n",
              "\n",
              "    .dataframe tbody tr th {\n",
              "        vertical-align: top;\n",
              "    }\n",
              "\n",
              "    .dataframe thead th {\n",
              "        text-align: right;\n",
              "    }\n",
              "</style>\n",
              "<table border=\"1\" class=\"dataframe\">\n",
              "  <thead>\n",
              "    <tr style=\"text-align: right;\">\n",
              "      <th></th>\n",
              "      <th>data_type</th>\n",
              "      <th>null_count</th>\n",
              "      <th>unique_count</th>\n",
              "    </tr>\n",
              "  </thead>\n",
              "  <tbody>\n",
              "    <tr>\n",
              "      <th>App</th>\n",
              "      <td>object</td>\n",
              "      <td>0</td>\n",
              "      <td>9659</td>\n",
              "    </tr>\n",
              "    <tr>\n",
              "      <th>Category</th>\n",
              "      <td>object</td>\n",
              "      <td>0</td>\n",
              "      <td>33</td>\n",
              "    </tr>\n",
              "    <tr>\n",
              "      <th>Rating</th>\n",
              "      <td>float64</td>\n",
              "      <td>0</td>\n",
              "      <td>39</td>\n",
              "    </tr>\n",
              "    <tr>\n",
              "      <th>Reviews</th>\n",
              "      <td>object</td>\n",
              "      <td>0</td>\n",
              "      <td>5330</td>\n",
              "    </tr>\n",
              "    <tr>\n",
              "      <th>Size</th>\n",
              "      <td>object</td>\n",
              "      <td>0</td>\n",
              "      <td>461</td>\n",
              "    </tr>\n",
              "    <tr>\n",
              "      <th>Installs</th>\n",
              "      <td>object</td>\n",
              "      <td>0</td>\n",
              "      <td>21</td>\n",
              "    </tr>\n",
              "    <tr>\n",
              "      <th>Type</th>\n",
              "      <td>object</td>\n",
              "      <td>0</td>\n",
              "      <td>2</td>\n",
              "    </tr>\n",
              "    <tr>\n",
              "      <th>Price</th>\n",
              "      <td>object</td>\n",
              "      <td>0</td>\n",
              "      <td>92</td>\n",
              "    </tr>\n",
              "    <tr>\n",
              "      <th>Content Rating</th>\n",
              "      <td>object</td>\n",
              "      <td>0</td>\n",
              "      <td>6</td>\n",
              "    </tr>\n",
              "    <tr>\n",
              "      <th>Genres</th>\n",
              "      <td>object</td>\n",
              "      <td>0</td>\n",
              "      <td>118</td>\n",
              "    </tr>\n",
              "  </tbody>\n",
              "</table>\n",
              "</div>\n",
              "      <button class=\"colab-df-convert\" onclick=\"convertToInteractive('df-d0242268-3afd-4a99-8acf-c7a54ddfc455')\"\n",
              "              title=\"Convert this dataframe to an interactive table.\"\n",
              "              style=\"display:none;\">\n",
              "        \n",
              "  <svg xmlns=\"http://www.w3.org/2000/svg\" height=\"24px\"viewBox=\"0 0 24 24\"\n",
              "       width=\"24px\">\n",
              "    <path d=\"M0 0h24v24H0V0z\" fill=\"none\"/>\n",
              "    <path d=\"M18.56 5.44l.94 2.06.94-2.06 2.06-.94-2.06-.94-.94-2.06-.94 2.06-2.06.94zm-11 1L8.5 8.5l.94-2.06 2.06-.94-2.06-.94L8.5 2.5l-.94 2.06-2.06.94zm10 10l.94 2.06.94-2.06 2.06-.94-2.06-.94-.94-2.06-.94 2.06-2.06.94z\"/><path d=\"M17.41 7.96l-1.37-1.37c-.4-.4-.92-.59-1.43-.59-.52 0-1.04.2-1.43.59L10.3 9.45l-7.72 7.72c-.78.78-.78 2.05 0 2.83L4 21.41c.39.39.9.59 1.41.59.51 0 1.02-.2 1.41-.59l7.78-7.78 2.81-2.81c.8-.78.8-2.07 0-2.86zM5.41 20L4 18.59l7.72-7.72 1.47 1.35L5.41 20z\"/>\n",
              "  </svg>\n",
              "      </button>\n",
              "      \n",
              "  <style>\n",
              "    .colab-df-container {\n",
              "      display:flex;\n",
              "      flex-wrap:wrap;\n",
              "      gap: 12px;\n",
              "    }\n",
              "\n",
              "    .colab-df-convert {\n",
              "      background-color: #E8F0FE;\n",
              "      border: none;\n",
              "      border-radius: 50%;\n",
              "      cursor: pointer;\n",
              "      display: none;\n",
              "      fill: #1967D2;\n",
              "      height: 32px;\n",
              "      padding: 0 0 0 0;\n",
              "      width: 32px;\n",
              "    }\n",
              "\n",
              "    .colab-df-convert:hover {\n",
              "      background-color: #E2EBFA;\n",
              "      box-shadow: 0px 1px 2px rgba(60, 64, 67, 0.3), 0px 1px 3px 1px rgba(60, 64, 67, 0.15);\n",
              "      fill: #174EA6;\n",
              "    }\n",
              "\n",
              "    [theme=dark] .colab-df-convert {\n",
              "      background-color: #3B4455;\n",
              "      fill: #D2E3FC;\n",
              "    }\n",
              "\n",
              "    [theme=dark] .colab-df-convert:hover {\n",
              "      background-color: #434B5C;\n",
              "      box-shadow: 0px 1px 3px 1px rgba(0, 0, 0, 0.15);\n",
              "      filter: drop-shadow(0px 1px 2px rgba(0, 0, 0, 0.3));\n",
              "      fill: #FFFFFF;\n",
              "    }\n",
              "  </style>\n",
              "\n",
              "      <script>\n",
              "        const buttonEl =\n",
              "          document.querySelector('#df-d0242268-3afd-4a99-8acf-c7a54ddfc455 button.colab-df-convert');\n",
              "        buttonEl.style.display =\n",
              "          google.colab.kernel.accessAllowed ? 'block' : 'none';\n",
              "\n",
              "        async function convertToInteractive(key) {\n",
              "          const element = document.querySelector('#df-d0242268-3afd-4a99-8acf-c7a54ddfc455');\n",
              "          const dataTable =\n",
              "            await google.colab.kernel.invokeFunction('convertToInteractive',\n",
              "                                                     [key], {});\n",
              "          if (!dataTable) return;\n",
              "\n",
              "          const docLinkHtml = 'Like what you see? Visit the ' +\n",
              "            '<a target=\"_blank\" href=https://colab.research.google.com/notebooks/data_table.ipynb>data table notebook</a>'\n",
              "            + ' to learn more about interactive tables.';\n",
              "          element.innerHTML = '';\n",
              "          dataTable['output_type'] = 'display_data';\n",
              "          await google.colab.output.renderOutput(dataTable, element);\n",
              "          const docLink = document.createElement('div');\n",
              "          docLink.innerHTML = docLinkHtml;\n",
              "          element.appendChild(docLink);\n",
              "        }\n",
              "      </script>\n",
              "    </div>\n",
              "  </div>\n",
              "  "
            ]
          },
          "metadata": {},
          "execution_count": 28
        }
      ]
    },
    {
      "cell_type": "markdown",
      "source": [
        "* The null counts for all necessary columns are zero.\n",
        "* There are no more missing values in the data frame."
      ],
      "metadata": {
        "id": "8XlH4WbXLViT"
      }
    },
    {
      "cell_type": "markdown",
      "source": [
        "# <b><u>Data Preparation (Play Store Dataset)</u>:</b>"
      ],
      "metadata": {
        "id": "9mFi4cTiLbiz"
      }
    },
    {
      "cell_type": "markdown",
      "source": [
        "* Verifying the data type for 'Reviews', 'Size', 'Installs' & 'Price' columns.\n",
        "* They should ideally be 'int' or 'float'.\n",
        "* Making appropriate changes if not the case."
      ],
      "metadata": {
        "id": "TI-7E36ILjpI"
      }
    },
    {
      "cell_type": "markdown",
      "source": [
        "### <b><u>'Reviews' column</u>:</b>"
      ],
      "metadata": {
        "id": "ewFej_mGLppz"
      }
    },
    {
      "cell_type": "code",
      "source": [
        "# Converting 'Reviews' data type to 'int':\n",
        "\n",
        "playstore_df['Reviews'] = playstore_df.Reviews.astype(int)"
      ],
      "metadata": {
        "id": "jbcHez0VL35a"
      },
      "execution_count": 29,
      "outputs": []
    },
    {
      "cell_type": "markdown",
      "source": [
        "### <b><u>'Size' column</u>:</b>"
      ],
      "metadata": {
        "id": "MPqYf_0mL4vC"
      }
    },
    {
      "cell_type": "markdown",
      "source": [
        "* String values like 'Varies with device', 'M' & 'k' present in 'Size' column.\n",
        "* Converting KBs to MBs. Removing non-numeric values. Converting to 'int' or 'float'."
      ],
      "metadata": {
        "id": "QA52jCWmMFqG"
      }
    },
    {
      "cell_type": "code",
      "source": [
        "# Removing '+' :\n",
        "\n",
        "playstore_df['Size'] = playstore_df.Size.apply(lambda x: x.strip('+'))"
      ],
      "metadata": {
        "id": "AP-9YycCMK7h"
      },
      "execution_count": 30,
      "outputs": []
    },
    {
      "cell_type": "code",
      "source": [
        "# Removing ',' :\n",
        "\n",
        "playstore_df['Size'] = playstore_df.Size.apply(lambda x: x.replace(',', ''))"
      ],
      "metadata": {
        "id": "RNlf5TR_MLfI"
      },
      "execution_count": 31,
      "outputs": []
    },
    {
      "cell_type": "code",
      "source": [
        "# Removing 'M' & 'k', and converting KBs into MBs:\n",
        "\n",
        "playstore_df['Size'] = playstore_df['Size'].apply(lambda x: x.replace('M', '') if 'M' in str(x) else x )\n",
        "playstore_df['Size'] = playstore_df['Size'].apply(lambda x: float(x.replace('k', ''))/1024 if 'k' in str(x) else x)"
      ],
      "metadata": {
        "id": "H4qnx-BDMNWM"
      },
      "execution_count": 32,
      "outputs": []
    },
    {
      "cell_type": "code",
      "source": [
        "# Replacing 'Varies with device' by Nan:\n",
        "\n",
        "playstore_df['Size'] = playstore_df.Size.replace('Varies with device', np.NaN)"
      ],
      "metadata": {
        "id": "MQbASCLtMPeq"
      },
      "execution_count": 33,
      "outputs": []
    },
    {
      "cell_type": "markdown",
      "source": [
        "* Null values need to be taken care of.\n",
        "* Some apps' sizes will be too huge and others excessively small, i.e., too much variation in the apps' sizes.\n",
        "* It's best to remove the rows containing Null value instead of replacing them with mean or mode."
      ],
      "metadata": {
        "id": "A97-C5iZMkOF"
      }
    },
    {
      "cell_type": "code",
      "source": [
        "# Removing rows containing Null (earlier 'Varies with device') value in 'Size' column:\n",
        "\n",
        "playstore_df.dropna(subset=['Size'], inplace=True)"
      ],
      "metadata": {
        "id": "o89EeId8M2KB"
      },
      "execution_count": 34,
      "outputs": []
    },
    {
      "cell_type": "code",
      "source": [
        "# Renaming the column:\n",
        "\n",
        "playstore_df.rename(columns={'Size': 'Size(in MB)'}, inplace=True)"
      ],
      "metadata": {
        "id": "kXVm2KADM9Tb"
      },
      "execution_count": 35,
      "outputs": []
    },
    {
      "cell_type": "code",
      "source": [
        "# Converting 'Size' datatype to numeric:\n",
        "\n",
        "playstore_df['Size(in MB)'] = pd.to_numeric(playstore_df['Size(in MB)'])"
      ],
      "metadata": {
        "id": "HLhNlA-RNCrc"
      },
      "execution_count": 36,
      "outputs": []
    },
    {
      "cell_type": "markdown",
      "source": [
        "### <b><u>'Installs' column</u>:</b>"
      ],
      "metadata": {
        "id": "9QV2yu99NHZz"
      }
    },
    {
      "cell_type": "code",
      "source": [
        "# Checking for unique values:\n",
        "\n",
        "playstore_df.Installs.unique()"
      ],
      "metadata": {
        "id": "kkHPyUneNJp3",
        "colab": {
          "base_uri": "https://localhost:8080/"
        },
        "outputId": "bea3f632-abfe-4331-9901-80c8e306a98f"
      },
      "execution_count": 37,
      "outputs": [
        {
          "output_type": "execute_result",
          "data": {
            "text/plain": [
              "array(['10,000+', '500,000+', '5,000,000+', '50,000,000+', '100,000+',\n",
              "       '50,000+', '1,000,000+', '10,000,000+', '5,000+', '100,000,000+',\n",
              "       '1,000+', '500,000,000+', '50+', '100+', '500+', '10+', '1+', '5+',\n",
              "       '1,000,000,000+', '0+'], dtype=object)"
            ]
          },
          "metadata": {},
          "execution_count": 37
        }
      ]
    },
    {
      "cell_type": "markdown",
      "source": [
        "* \" , \" needs to be replaced.\n",
        "* \" + \" needs to be removed.\n",
        "* Datatype needs to be changed to 'float'."
      ],
      "metadata": {
        "id": "3DFXUvZENVKB"
      }
    },
    {
      "cell_type": "code",
      "source": [
        "# Removing  '+' :\n",
        "\n",
        "playstore_df['Installs'] = playstore_df.Installs.apply(lambda x: x.strip('+'))\n",
        "\n",
        "# Replacing ',' :\n",
        "\n",
        "playstore_df['Installs'] = playstore_df.Installs.apply(lambda x: x.replace(',', ''))"
      ],
      "metadata": {
        "id": "nTYJgqw3NUeG"
      },
      "execution_count": 38,
      "outputs": []
    },
    {
      "cell_type": "code",
      "source": [
        "# Converting datatype to numeric:\n",
        "\n",
        "playstore_df['Installs'] = pd.to_numeric(playstore_df['Installs'])"
      ],
      "metadata": {
        "id": "zhpjI8oCNbxD"
      },
      "execution_count": 39,
      "outputs": []
    },
    {
      "cell_type": "markdown",
      "source": [
        "### <b><u>'Price' column</u>:</b>"
      ],
      "metadata": {
        "id": "hsF7MQZzNdz0"
      }
    },
    {
      "cell_type": "code",
      "source": [
        "#checking for value count\n",
        "play_store_df['Price'].value_counts()"
      ],
      "metadata": {
        "id": "jERc6YMZNiht"
      },
      "execution_count": null,
      "outputs": []
    },
    {
      "cell_type": "code",
      "source": [
        "#Removing \"$\" sign\n",
        "play_store_df['Price'] = play_store_df.Price.apply(lambda x: x.strip('$'))"
      ],
      "metadata": {
        "id": "sxVOxTjlNldD"
      },
      "execution_count": null,
      "outputs": []
    },
    {
      "cell_type": "code",
      "source": [
        "# converting to Numeric type\n",
        "play_store_df['Price'] = pd.to_numeric(play_store_df['Price'])"
      ],
      "metadata": {
        "id": "XIPTzYiQNoDA"
      },
      "execution_count": null,
      "outputs": []
    },
    {
      "cell_type": "markdown",
      "source": [
        "Lets take a final look at our DataFrame"
      ],
      "metadata": {
        "id": "BlwV4nvONrAa"
      }
    },
    {
      "cell_type": "code",
      "source": [
        "#calling the function\n",
        "complete_info()"
      ],
      "metadata": {
        "id": "6U0o78fUNt0q"
      },
      "execution_count": null,
      "outputs": []
    },
    {
      "cell_type": "code",
      "source": [
        "play_store_df.shape"
      ],
      "metadata": {
        "id": "euL-oC_5Nw7a"
      },
      "execution_count": null,
      "outputs": []
    },
    {
      "cell_type": "markdown",
      "source": [
        "There are 8434 rows and 10 columns left in the data frame after the dataset has been cleaned up by removing any unneeded rows and columns containing Null Values and garbage data."
      ],
      "metadata": {
        "id": "sMwuBaJGN0A9"
      }
    },
    {
      "cell_type": "markdown",
      "source": [
        "## <b><u>Dataset summary based on</u>:</b>\n",
        "\n",
        "* Total size occupied by each app category.\n",
        "* Average rating for each app category.\n",
        "* Total installs for each app category.\n",
        "* Total reviews for each app category."
      ],
      "metadata": {
        "id": "cujf_ON0N8eG"
      }
    },
    {
      "cell_type": "code",
      "source": [
        "categorical_summary = play_store_df.groupby('Category').agg({'Size(in MB)':'sum', 'Rating':'mean', 'Installs':'sum','Reviews':'sum'})\n",
        "categorical_summary"
      ],
      "metadata": {
        "id": "MTnrOUPoOH5P"
      },
      "execution_count": null,
      "outputs": []
    },
    {
      "cell_type": "markdown",
      "source": [
        "# <b><u>Data Analysis & Visualization (Play Store Dataset)</u>:</b>"
      ],
      "metadata": {
        "id": "I34Tk09GOQjN"
      }
    },
    {
      "cell_type": "markdown",
      "source": [
        "### <b><u>'Category' wise Analysis</u>:</b>"
      ],
      "metadata": {
        "id": "xFJ0tSAZOYhj"
      }
    },
    {
      "cell_type": "markdown",
      "source": [
        "Well, let us try to find what are the top categories in the play store, which contains the highest number of apps?"
      ],
      "metadata": {
        "id": "4Rvf16TFOe2n"
      }
    },
    {
      "cell_type": "code",
      "source": [
        "#unique categories\n",
        "len(play_store_df['Category'].unique())"
      ],
      "metadata": {
        "id": "EHgetDG-OcsT"
      },
      "execution_count": null,
      "outputs": []
    },
    {
      "cell_type": "markdown",
      "source": [
        "So we got 33 category on this dataset, let's see which one is the famous category"
      ],
      "metadata": {
        "id": "nJ2_wCG2Ol6A"
      }
    },
    {
      "cell_type": "code",
      "source": [
        "# Determining top categories in data\n",
        "x = play_store_df['Category'].value_counts().index\n",
        "y = play_store_df['Category'].value_counts()\n",
        "xaxis = []\n",
        "yaxis = []\n",
        "for i in range(len(y)):\n",
        "    xaxis.append(x[i])\n",
        "    yaxis.append(y[i])"
      ],
      "metadata": {
        "id": "pgTyVnq-OrqI"
      },
      "execution_count": null,
      "outputs": []
    },
    {
      "cell_type": "code",
      "source": [
        "# Plotting graph/visuals for the same\n",
        "plt.figure(figsize=(18,5))\n",
        "plt.xlabel(\"Category\", fontsize = 15)\n",
        "plt.ylabel(\"Count\", fontsize = 15)\n",
        "plt.xticks(rotation=90)\n",
        "category_graph = sns.barplot(x = xaxis, y = yaxis, palette= \"rainbow\")\n",
        "category_graph.set_title(\"Categories of apps in google Playstore\", fontsize = 25);"
      ],
      "metadata": {
        "id": "6kArcXP-Owuw"
      },
      "execution_count": null,
      "outputs": []
    },
    {
      "cell_type": "markdown",
      "source": [
        "There are a total of 33 categories in the dataset, and based on the result from the previous step, we can infer that the majority of the apps in the Google Play store fall into the Family & Games category, while the least number of them fall into the Beauty & Comics category."
      ],
      "metadata": {
        "id": "NEJDRq04O0yJ"
      }
    },
    {
      "cell_type": "code",
      "source": [
        "#Finding the top 10 categories\n",
        "Top10_categories=play_store_df['Category'].value_counts().reset_index().head(10)\n",
        "Top10_categories.rename(columns={'index':'Category','Category':'Count'},inplace=True)\n",
        "Top10_categories"
      ],
      "metadata": {
        "id": "xCVRQwGWO4KG"
      },
      "execution_count": null,
      "outputs": []
    },
    {
      "cell_type": "code",
      "source": [
        "#Plotting Distribution of top 10 categories\n",
        "plt.figure(figsize=(8,10))\n",
        "plt.pie(Top10_categories['Count'],labels=Top10_categories['Category'],autopct='%.0f%%',explode=[0.02]*10)\n",
        "plt.title('Top 10 categories distribution', fontsize= 20)\n",
        "plt.show()"
      ],
      "metadata": {
        "id": "I4n2JWzCO7Bv"
      },
      "execution_count": null,
      "outputs": []
    },
    {
      "cell_type": "markdown",
      "source": [
        "Among Top 10 Categories Family (31%), Games (15%) And Tools (13%) Contribute The Most"
      ],
      "metadata": {
        "id": "kjsjqU57O_4P"
      }
    },
    {
      "cell_type": "markdown",
      "source": [
        "### <b><u>'Rating' wise Analysis</u>:</b>"
      ],
      "metadata": {
        "id": "0vZ-vwm5PFwH"
      }
    },
    {
      "cell_type": "code",
      "source": [
        "# ploting distribution graph for Rating\n",
        "plt.figure(figsize=(14,5))\n",
        "sns.distplot(play_store_df['Rating'],color = 'blue')\n",
        "plt.grid()\n",
        "plt.xlabel(\"Rating\")\n",
        "plt.ylabel(\"Frequency\")\n",
        "plt.title('Distribution Plot Of Rating')\n",
        "plt.show()"
      ],
      "metadata": {
        "id": "aFCXqWQvPKvW"
      },
      "execution_count": null,
      "outputs": []
    },
    {
      "cell_type": "code",
      "source": [
        "#calculating the average rating\n",
        "print('The average rating in the playstore is',play_store_df['Rating'].mean())"
      ],
      "metadata": {
        "id": "ebHX3DlEPPVk"
      },
      "execution_count": null,
      "outputs": []
    },
    {
      "cell_type": "markdown",
      "source": [
        "This average rating infers that maximum number of apps in playstore have been rated above 4 which signifies majority of apps available in playstore are of high calibre."
      ],
      "metadata": {
        "id": "QfIOFuHsPSa2"
      }
    },
    {
      "cell_type": "code",
      "source": [
        "#App's With 5 Star Rating\n",
        "five_star_rating_apps=play_store_df[play_store_df['Rating']==5]\n",
        "five_star_rating_apps['App'].nunique()"
      ],
      "metadata": {
        "id": "u5AynT3BPXfw"
      },
      "execution_count": null,
      "outputs": []
    },
    {
      "cell_type": "code",
      "source": [
        "#Top 10 Categories Of 5 Star Rating App's\n",
        "five_star_rating_apps['Category'].value_counts().reset_index().rename(columns={'index':'Category','Category':'Count'}).head(10)"
      ],
      "metadata": {
        "id": "C5nvCpvkPkTl"
      },
      "execution_count": null,
      "outputs": []
    },
    {
      "cell_type": "markdown",
      "source": [
        "### <b><u>'Content Rating' wise Analysis</u>:</b>"
      ],
      "metadata": {
        "id": "ImSCTZ9APtWl"
      }
    },
    {
      "cell_type": "markdown",
      "source": [
        "Let us see, which category of Apps from the ‘Content Rating’ column is found more on the play store."
      ],
      "metadata": {
        "id": "fMRWlh6oPxh3"
      }
    },
    {
      "cell_type": "code",
      "source": [
        "#Content rating value counts\n",
        "value_c=play_store_df[\"Content Rating\"].value_counts().reset_index()"
      ],
      "metadata": {
        "id": "ciqDhwqBPs-B"
      },
      "execution_count": null,
      "outputs": []
    },
    {
      "cell_type": "code",
      "source": [
        "#barplot of content rating value counts\n",
        "sns.barplot(x=\"Content Rating\",y=\"index\",data=value_c)\n",
        "plt.title(\"Barplot of Content Rating \",fontsize=20)\n",
        "plt.xlabel(\"No. of apps\", fontsize= 15)\n",
        "plt.ylabel(\"Content rating\", fontsize= 15)"
      ],
      "metadata": {
        "id": "DVmrXqbsP5Cw"
      },
      "execution_count": null,
      "outputs": []
    },
    {
      "cell_type": "markdown",
      "source": [
        "The Everyone category has the most apps, as can be seen from the plot above."
      ],
      "metadata": {
        "id": "AwDWXRfWP_ly"
      }
    },
    {
      "cell_type": "markdown",
      "source": [
        "### <b><u>'Free' vs 'Paid' App Analysis</u>:</b>"
      ],
      "metadata": {
        "id": "KNlQILsNQDxn"
      }
    },
    {
      "cell_type": "code",
      "source": [
        "#plotting a graph between free and paid apps\n",
        "plt.figure(figsize=(8,8))\n",
        "labels = play_store_df['Type'].value_counts(sort = True).index\n",
        "sizes = play_store_df['Type'].value_counts(sort = True)\n",
        "colors = [\"orange\",\"blue\"]\n",
        "explode = (0.2,0)\n",
        "plt.pie(sizes, explode=explode, labels=labels, colors=colors, autopct='%1.1f%%', shadow=True, startangle=0)\n",
        "plt.title('Percentage of Free Vs Paid Apps in store',size = 20)\n",
        "plt.show()"
      ],
      "metadata": {
        "id": "2UlE-qqZQKc_"
      },
      "execution_count": null,
      "outputs": []
    },
    {
      "cell_type": "markdown",
      "source": [
        "We can see from the graph above that 92% of the apps in the Google Play store are free, while 8% are paid."
      ],
      "metadata": {
        "id": "0XXFRFwzQOxT"
      }
    },
    {
      "cell_type": "markdown",
      "source": [
        "### <b><u>'Installs' wise Analysis</u>:</b>"
      ],
      "metadata": {
        "id": "IHgoYwClQRCZ"
      }
    },
    {
      "cell_type": "markdown",
      "source": [
        "Let us check, which category App’s have the most number of installs?"
      ],
      "metadata": {
        "id": "1AHE-sPtQUwV"
      }
    },
    {
      "cell_type": "code",
      "source": [
        "# defining x\n",
        "x = play_store_df.groupby('Category')['Installs'].agg(np.sum)"
      ],
      "metadata": {
        "id": "uY4E1s77QXR5"
      },
      "execution_count": null,
      "outputs": []
    },
    {
      "cell_type": "code",
      "source": [
        "# plotting line graph to determine category highest installations\n",
        "plt.figure(figsize=(18,8))\n",
        "plt.plot(x ,  color='blue', marker='.')\n",
        "plt.xticks(rotation=90)\n",
        "plt.xlabel('Categories---->')\n",
        "plt.ylabel('Installs---->')\n",
        "plt.title('Category vs Installs')\n",
        "plt.grid()\n",
        "plt.show()"
      ],
      "metadata": {
        "id": "i7XddhAHQaAE"
      },
      "execution_count": null,
      "outputs": []
    },
    {
      "cell_type": "markdown",
      "source": [
        "Graph clearly shows that apps in game category have been installed the highest followed by apps in family category and then apps in travel and local."
      ],
      "metadata": {
        "id": "HZBkg22rQgTp"
      }
    },
    {
      "cell_type": "code",
      "source": [
        "# top 10 install app based on category\n",
        "def top10incategory_installs(str):\n",
        "    str = str.upper()\n",
        "    top10 = play_store_df[play_store_df['Category'] == str]\n",
        "    top10apps = top10.sort_values(by='Installs', ascending=False).head(10)\n",
        "    # Top_Apps_in_art_and_design\n",
        "    plt.figure(figsize=(15,12))\n",
        "    plt.title('Top 10 Installed Apps',size = 20);\n",
        "    plt.xlabel('App', fontsize= 15)\n",
        "    plt.ylabel('Installs',fontsize= 15)\n",
        "    graph = sns.barplot(x = top10apps.App, y = top10apps.Installs)\n",
        "    graph.set_xticklabels(graph.get_xticklabels(), rotation= 45, horizontalalignment='right');"
      ],
      "metadata": {
        "id": "d_xkCWWBQuoo"
      },
      "execution_count": null,
      "outputs": []
    },
    {
      "cell_type": "markdown",
      "source": [
        "After we are done with defining the function, it’s time to check and see if everything is working fine. So let’s test it by passing Game category to the above-defined function."
      ],
      "metadata": {
        "id": "TrhvxcNZQ_vJ"
      }
    },
    {
      "cell_type": "code",
      "source": [
        "#calling the function\n",
        "top10incategory_installs('Game')"
      ],
      "metadata": {
        "id": "5gbHnFplRB5n"
      },
      "execution_count": null,
      "outputs": []
    },
    {
      "cell_type": "markdown",
      "source": [
        "Subway Surfers has the most instals in the Game category, as shown in the graph above. In the same way, we can obtain the top 10 installed apps by passing various category names to the function."
      ],
      "metadata": {
        "id": "sPhn7J8FRSE1"
      }
    },
    {
      "cell_type": "markdown",
      "source": [
        "### <b><u>'Price' wise Analysis</u>:</b>"
      ],
      "metadata": {
        "id": "xAavCKUfRVKe"
      }
    },
    {
      "cell_type": "markdown",
      "source": [
        "Let us Visualize, which are the top 10 expensive Apps in the play store?"
      ],
      "metadata": {
        "id": "s8D80B5bRZJt"
      }
    },
    {
      "cell_type": "code",
      "source": [
        "# We will again need to create a separate data frame.\n",
        "top10PaidApps_df = play_store_df[play_store_df['Type'] == 'Paid'].sort_values(by='Price', ascending=False).head(11)"
      ],
      "metadata": {
        "id": "Tsn5SCvLRbnd"
      },
      "execution_count": null,
      "outputs": []
    },
    {
      "cell_type": "code",
      "source": [
        "#ploting the top 10 expensive App\n",
        "plt.figure(figsize=(12,9));\n",
        "plt.pie(top10PaidApps_df.Installs, explode=None, labels=top10PaidApps_df.App, autopct='%1.1f%%', startangle= -50);\n",
        "plt.title('Top Expensive Apps Distribution',size = 20);\n",
        "plt.legend(top10PaidApps_df.App,\n",
        "           loc=\"top left\",\n",
        "           title=\"Apps\",\n",
        "           fontsize = \"xx-small\"\n",
        "          );"
      ],
      "metadata": {
        "id": "0gd3T8aoRiAP"
      },
      "execution_count": null,
      "outputs": []
    },
    {
      "cell_type": "markdown",
      "source": [
        "From the above graph, we can interpret that the App 'I am rich Premium' is the most expensive app in the google play store followed by 'I am Rich'."
      ],
      "metadata": {
        "id": "DdAv7_iDRvIA"
      }
    },
    {
      "cell_type": "code",
      "source": [
        "#Discription of feature Price\n",
        "print('The mean price of an App in playstore is',play_store_df['Price'].mean())\n",
        "print('The maximum price of an App in playstore is',play_store_df['Price'].max())\n",
        "play_store_df['Price'].describe()"
      ],
      "metadata": {
        "id": "IKVjvMcXRx3D"
      },
      "execution_count": null,
      "outputs": []
    },
    {
      "cell_type": "markdown",
      "source": [
        "### <b><u>'Size' wise Analysis</u>:</b>"
      ],
      "metadata": {
        "id": "IdFWpKBTR8jU"
      }
    },
    {
      "cell_type": "code",
      "source": [
        "# Plotting a line graph to determine size distribution\n",
        "plt.figure(figsize=(10,5))\n",
        "plt.xlabel(\"Size(in MB)\")\n",
        "plt.ylabel(\"Frequency\")\n",
        "plt.grid()\n",
        "size_distribution_graph = sns.kdeplot(play_store_df['Size(in MB)'], color=\"lightgreen\", shade = True)\n",
        "plt.title('Average size',size = 20);"
      ],
      "metadata": {
        "id": "P06jhZlWSB_l"
      },
      "execution_count": null,
      "outputs": []
    },
    {
      "cell_type": "code",
      "source": [
        "print('The median size of an App in playstore is',play_store_df['Size(in MB)'].median())\n",
        "print('The maximum size of an App in playstore is',play_store_df['Size(in MB)'].max())"
      ],
      "metadata": {
        "id": "NiRzESyBSEu6"
      },
      "execution_count": null,
      "outputs": []
    },
    {
      "cell_type": "code",
      "source": [
        "# Plotting a boxplot graph to determine size distribution\n",
        "plt.figure(figsize=(10,5))\n",
        "plt.xlabel(\"Size(in MB)\")\n",
        "plt.ylabel(\"No of apps\")\n",
        "plt.grid()\n",
        "size_distribution_graph = sns.boxplot(play_store_df['Size(in MB)'], color=\"lightgreen\")\n",
        "plt.title('Average size',size = 20);"
      ],
      "metadata": {
        "id": "pS8Vqa4rSHcg"
      },
      "execution_count": null,
      "outputs": []
    },
    {
      "cell_type": "markdown",
      "source": [
        "As we can see from the box plot above,\n",
        "\n",
        "* 25% of apps are under 5 MB\n",
        "* 25% of apps are between 30 Mb to 63 Mb\n",
        "* Majority i.e. 50% lies between 5 Mb to 30 Mb.\n",
        "* Many outliers are all the way upto 100 Mb\n",
        "* Median is 12 Mb"
      ],
      "metadata": {
        "id": "EX9TLSfWSK0s"
      }
    },
    {
      "cell_type": "markdown",
      "source": [
        "### <b><u>'Reviews' wise Analysis</u>:</b>"
      ],
      "metadata": {
        "id": "fE2PwgrASUrk"
      }
    },
    {
      "cell_type": "markdown",
      "source": [
        "Apps which are highly reviewed"
      ],
      "metadata": {
        "id": "cSGSdKO8SWSt"
      }
    },
    {
      "cell_type": "code",
      "source": [
        "Apps_and_reviews= play_store_df.groupby('App')[['Reviews']].mean().sort_values('Reviews', ascending=False).head(10).reset_index()\n",
        "sns.barplot(y = Apps_and_reviews['App'], x = Apps_and_reviews['Reviews'])\n",
        "plt.title('Apps with highest ratings')\n",
        "plt.show()"
      ],
      "metadata": {
        "id": "zbQE4dTOSZ0X"
      },
      "execution_count": null,
      "outputs": []
    },
    {
      "cell_type": "code",
      "source": [
        "print(\"Number of Apps with more than 1M reviews\",play_store_df[play_store_df['Reviews'] > 1000000].shape[0])\n",
        "print(\"\\nTop 20 apps with most reviews: \\n\",play_store_df[play_store_df['Reviews'] > 1000000].sort_values(by = 'Reviews', ascending = False).head(20)['App'])"
      ],
      "metadata": {
        "id": "kWGTtTOASgJe"
      },
      "execution_count": null,
      "outputs": []
    },
    {
      "cell_type": "markdown",
      "source": [
        "### <b><u>'Genres' wise Analysis</u>:</b>"
      ],
      "metadata": {
        "id": "gTWZgXxPSi4Q"
      }
    },
    {
      "cell_type": "code",
      "source": [
        "#top 10 Genres Value Counts\n",
        "genres_count=play_store_df['Genres'].value_counts().reset_index()\n",
        "genres_count.rename(columns={'index':'Genres','Genres':'count'},inplace=True)\n",
        "top_10_genres=genres_count.head(10)"
      ],
      "metadata": {
        "id": "c4ub4AWPSiQX"
      },
      "execution_count": null,
      "outputs": []
    },
    {
      "cell_type": "code",
      "source": [
        "#Pie plot of Top 15 genres Count\n",
        "plt.rcParams['figure.figsize'] = (20, 10)\n",
        "plt.pie(top_10_genres['count'],labels=top_10_genres['Genres'],autopct='%.0f%%')\n",
        "plt.title('Pie plot of Top 10 genres Count')\n",
        "plt.grid()\n",
        "plt.show()"
      ],
      "metadata": {
        "id": "VqbcLd0vSodh"
      },
      "execution_count": null,
      "outputs": []
    },
    {
      "cell_type": "markdown",
      "source": [
        "Tools is the most used genre in apps."
      ],
      "metadata": {
        "id": "BIbJm6AUSvMQ"
      }
    },
    {
      "cell_type": "markdown",
      "source": [
        "## <b><u>Correlation Heatmap</u>:</b>"
      ],
      "metadata": {
        "id": "YPVpBu91SyLF"
      }
    },
    {
      "cell_type": "code",
      "source": [
        "#Correlation\n",
        "play_store_df.corr()"
      ],
      "metadata": {
        "id": "Wt3FzbDjS3qT"
      },
      "execution_count": null,
      "outputs": []
    },
    {
      "cell_type": "code",
      "source": [
        "#Correlation Heatmap\n",
        "plt.figure(figsize = (10,6))\n",
        "sns.heatmap(play_store_df.corr(), annot= True)\n",
        "plt.title(\"Correlation Heatmap\",fontsize=20)"
      ],
      "metadata": {
        "id": "cQxyKE9oS6jk"
      },
      "execution_count": null,
      "outputs": []
    },
    {
      "cell_type": "code",
      "source": [
        "#Regression Plot Of Installs And Reviews\n",
        "plt.figure(figsize = (10,6))\n",
        "sns.regplot(x=\"Installs\",y=\"Reviews\",data=play_store_df)\n",
        "plt.title(\"Regression Plot of Installs And Reviews\",fontsize=25)\n",
        "plt.grid()"
      ],
      "metadata": {
        "id": "oIeHDh7qS90H"
      },
      "execution_count": null,
      "outputs": []
    },
    {
      "cell_type": "markdown",
      "source": [
        "# <b><u>User Reviews Dataset</u>:</b>"
      ],
      "metadata": {
        "id": "6gs9mtkBT6Hf"
      }
    },
    {
      "cell_type": "code",
      "source": [
        "#First Look Of User Reviews Data\n",
        "user_review.head()"
      ],
      "metadata": {
        "id": "XaXsMZ1OUGiS"
      },
      "execution_count": null,
      "outputs": []
    },
    {
      "cell_type": "code",
      "source": [
        "user_review.info()"
      ],
      "metadata": {
        "id": "JAPnNgAHUJVB"
      },
      "execution_count": null,
      "outputs": []
    },
    {
      "cell_type": "markdown",
      "source": [
        "### <b><u>Handling missing values</u>:</b>"
      ],
      "metadata": {
        "id": "Wj_fsdIgUNtQ"
      }
    },
    {
      "cell_type": "code",
      "source": [
        "#data of Translated null values\n",
        "user_review[user_review['Translated_Review'].isnull()].head()"
      ],
      "metadata": {
        "id": "U37KjeLLUMGo"
      },
      "execution_count": null,
      "outputs": []
    },
    {
      "cell_type": "code",
      "source": [
        "#Dropping Nulls of Translated Review as all other feature values are also null\n",
        "user_review.dropna(subset=['Translated_Review'],inplace=True)"
      ],
      "metadata": {
        "id": "jxyR2IEyUTYK"
      },
      "execution_count": null,
      "outputs": []
    },
    {
      "cell_type": "code",
      "source": [
        "#Checking data after removing nulls\n",
        "user_review.info()"
      ],
      "metadata": {
        "id": "8tf7e7LBUYZZ"
      },
      "execution_count": null,
      "outputs": []
    },
    {
      "cell_type": "markdown",
      "source": [
        "# <b><u>Combining 'Play Store Dataset' & 'User Review Dataset'</u>:</b>"
      ],
      "metadata": {
        "id": "CMrjyftiUa8Z"
      }
    },
    {
      "cell_type": "code",
      "source": [
        "#unique apps is user_reviews_data\n",
        "user_review['App'].nunique()"
      ],
      "metadata": {
        "id": "v8eWxTriUfmn"
      },
      "execution_count": null,
      "outputs": []
    },
    {
      "cell_type": "code",
      "source": [
        "#unique apps is play_store_data\n",
        "play_store_df['App'].nunique()"
      ],
      "metadata": {
        "id": "5cCkmw15Uh4v"
      },
      "execution_count": null,
      "outputs": []
    },
    {
      "cell_type": "code",
      "source": [
        "#Merging both data\n",
        "combined_data=pd.merge(play_store_df,user_review, on='App')"
      ],
      "metadata": {
        "id": "6itfUyjDUkSt"
      },
      "execution_count": null,
      "outputs": []
    },
    {
      "cell_type": "code",
      "source": [
        "#Unique Apps in combined data\n",
        "combined_data['App'].nunique()"
      ],
      "metadata": {
        "id": "Mb-ygBSoUmjA"
      },
      "execution_count": null,
      "outputs": []
    },
    {
      "cell_type": "code",
      "source": [
        "#About combined data\n",
        "combined_data.isnull().sum()"
      ],
      "metadata": {
        "id": "2sZxQ245UpeY"
      },
      "execution_count": null,
      "outputs": []
    },
    {
      "cell_type": "markdown",
      "source": [
        "# <b><u>Analysis Of Combined Data</u>:</b>"
      ],
      "metadata": {
        "id": "Q1Tnof2dUun5"
      }
    },
    {
      "cell_type": "markdown",
      "source": [
        "### <b><u>'Sentiment' wise Analysis</u>:</b>"
      ],
      "metadata": {
        "id": "gkYMwpUYU2BH"
      }
    },
    {
      "cell_type": "code",
      "source": [
        "#Sentiment count\n",
        "sentiment_count= combined_data.Sentiment.value_counts().reset_index().rename(columns={'index':'Sentiment','Sentiment':'count'})\n",
        "sentiment_count"
      ],
      "metadata": {
        "id": "bPQJ7EHWU5GW"
      },
      "execution_count": null,
      "outputs": []
    },
    {
      "cell_type": "code",
      "source": [
        "#Pieplot of Sentiment Count\n",
        "plt.rcParams['figure.figsize'] = (15, 7)\n",
        "plt.pie(sentiment_count['count'],labels=sentiment_count['Sentiment'],autopct='%.0f%%',explode=(0,0.05,0.05))\n",
        "plt.title('Pie plot of Sentiment Count',size=15)\n",
        "plt.show()"
      ],
      "metadata": {
        "id": "OKfJW_ZJU85s"
      },
      "execution_count": null,
      "outputs": []
    },
    {
      "cell_type": "markdown",
      "source": [
        "This chart interprets that most of the reviews are positive."
      ],
      "metadata": {
        "id": "GHTvBZ7ZVAQ5"
      }
    },
    {
      "cell_type": "code",
      "source": [
        "#Categoriwise Sentiment Count\n",
        "categoriwise_sentiment_count=combined_data.groupby(['Category','Sentiment'])['Sentiment'].count().reset_index(name='count')\n",
        "categoriwise_sentiment_count.head()"
      ],
      "metadata": {
        "id": "lcFJSXUGVCju"
      },
      "execution_count": null,
      "outputs": []
    },
    {
      "cell_type": "code",
      "source": [
        "#Barplot of categoriwise_sentiment_count\n",
        "sns.barplot(x=\"Category\", y=\"count\", hue=\"Sentiment\", data=categoriwise_sentiment_count)\n",
        "plt.xticks(rotation=90, horizontalalignment=\"center\")\n",
        "plt.title(\"Category-wise sentiment count\",fontsize=20)\n",
        "plt.xlabel(\"Category\", fontsize= 15)\n",
        "plt.ylabel(\"Sentiments\", fontsize= 15)"
      ],
      "metadata": {
        "id": "g2slKlmZVE9m"
      },
      "execution_count": null,
      "outputs": []
    },
    {
      "cell_type": "markdown",
      "source": [
        "This graph represents sentimnet analysis of the audience based on the categories, it can be observed that all the categories have more positive reviews than negatives."
      ],
      "metadata": {
        "id": "OHzw70YuVH46"
      }
    },
    {
      "cell_type": "markdown",
      "source": [
        "# <b><u>Conclusion</u>:</b>"
      ],
      "metadata": {
        "id": "fIoRuZxYVJwY"
      }
    },
    {
      "cell_type": "markdown",
      "source": [
        "Joining the dots from given datasets, we came across a lot of information. After analysis and visualization, information can be classified into beneficial for customers and beneficial for developers. We discovered the top app categories, the most popular app categories, the proportion of free and paid apps, and the average app size. This information enables customers and users to make informed download decisions.\n",
        "\n",
        "Game category has the highest engagement\n",
        "\n",
        "• Thus, if fast growth is expected then introducing good quality game app of suitable size can work as a charm.\n",
        "\n",
        "Opportunities\n",
        "\n",
        "• Various apps category like Medical, food & drinks, Health & fitness and business & finances have positive sentimental advantage from users but the population of apps is less in those categories creating opportunities for new players"
      ],
      "metadata": {
        "id": "KhnWbDHwVP6C"
      }
    }
  ]
}